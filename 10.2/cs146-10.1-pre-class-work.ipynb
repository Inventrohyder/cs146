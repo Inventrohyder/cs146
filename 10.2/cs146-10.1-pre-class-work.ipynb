{
 "cells": [
  {
   "cell_type": "markdown",
   "metadata": {},
   "source": [
    "# Pre-class work\n",
    "\n",
    "These notes work through the motivation behind testing a model we have seen before. Use the notes to refresh your memory of this particular model, make sure you understand the choice of test statistic used below, and write Python code to compute the p-value for the test statistic."
   ]
  },
  {
   "cell_type": "code",
   "execution_count": 1,
   "metadata": {},
   "outputs": [],
   "source": [
    "import numpy as np\n",
    "import matplotlib.pyplot as plt\n",
    "from scipy import stats"
   ]
  },
  {
   "cell_type": "markdown",
   "metadata": {},
   "source": [
    "## Model and dataset\n",
    "\n",
    "In a previous class session, we modeled the dataset shown below using a **normal likelihood with unknown mean and variance** and a **conjugate normal-inverse-gamma prior** over the parameters."
   ]
  },
  {
   "cell_type": "code",
   "execution_count": 2,
   "metadata": {},
   "outputs": [
    {
     "data": {
      "image/png": "[encoded data removed]",
      "text/plain": [
       "<Figure size 864x432 with 1 Axes>"
      ]
     },
     "metadata": {
      "needs_background": "light"
     },
     "output_type": "display_data"
    }
   ],
   "source": [
    "# Load data: read the particle sizes (in nanometers) from a CSV file.\n",
    "# Log-transform the data so we can model it using a normal likelihood.\n",
    "data = np.log(np.loadtxt('hrtem.csv'))\n",
    "\n",
    "plt.figure(figsize=(12, 6))\n",
    "plt.hist(data, bins=20, density=True, alpha=0.5)\n",
    "plt.title('Histogram of dataset')\n",
    "plt.show()"
   ]
  },
  {
   "cell_type": "markdown",
   "metadata": {},
   "source": [
    "The model was as follows.\n",
    "\n",
    "* Data: $\\{y_i\\}$\n",
    "* Parameters: mean $x$, variance $\\sigma^2$\n",
    "* Likelihood: $y_i \\sim \\text{Normal}(x, \\sigma^2)$\n",
    "* Prior: $(\\mu,\\sigma^2) \\sim \\text{Normal-Inverse-Gamma}(\\mu_0,\\nu_0,\\alpha_0,\\beta_0)$\n",
    "\n",
    "The prior hyperparameter values are given below."
   ]
  },
  {
   "cell_type": "code",
   "execution_count": 3,
   "metadata": {},
   "outputs": [
    {
     "name": "stdout",
     "output_type": "stream",
     "text": [
      "Posterior hyperparameters:\n",
      "  μ₀ = 2.3\n",
      "  ν₀ = 0.1\n",
      "  α₀ = 2\n",
      "  β₀ = 5\n"
     ]
    }
   ],
   "source": [
    "mu_0 = 2.3\n",
    "nu_0 = 0.1\n",
    "alpha_0 = 2\n",
    "beta_0 = 5\n",
    "\n",
    "print('Posterior hyperparameters:')\n",
    "print('  μ₀ =', mu_0)\n",
    "print('  ν₀ =', nu_0)\n",
    "print('  α₀ =', alpha_0)\n",
    "print('  β₀ =', beta_0)"
   ]
  },
  {
   "cell_type": "markdown",
   "metadata": {},
   "source": [
    "Since the prior is conjugate to the likelihood, the posterior is also a Normal-Inverse-Gamma distribution. The posterior hyperparameters are calculated below."
   ]
  },
  {
   "cell_type": "code",
   "execution_count": 4,
   "metadata": {},
   "outputs": [
    {
     "name": "stdout",
     "output_type": "stream",
     "text": [
      "Posterior hyperparameters:\n",
      "  μ₁ = 1.892401480510831\n",
      "  ν₁ = 500.1\n",
      "  α₁ = 252.0\n",
      "  β₁ = 124.45079772182757\n"
     ]
    }
   ],
   "source": [
    "# Sufficient statistics of the data\n",
    "s0 = len(data)\n",
    "s1 = sum(data)\n",
    "s2 = sum(data ** 2)\n",
    "\n",
    "# Posterior parameters\n",
    "mu_1 = (nu_0 * mu_0 + s1) / (nu_0 + s0)\n",
    "nu_1 = nu_0 + s0\n",
    "alpha_1 = alpha_0 + s0 / 2\n",
    "beta_1 = beta_0 + s2/2 - s1**2 / (2*s0) + s0*nu_0/(nu_1 + s0) * (s1/s0 - mu_0)**2/2\n",
    "\n",
    "print('Posterior hyperparameters:')\n",
    "print('  μ₁ =', mu_1)\n",
    "print('  ν₁ =', nu_1)\n",
    "print('  α₁ =', alpha_1)\n",
    "print('  β₁ =', beta_1)"
   ]
  },
  {
   "cell_type": "markdown",
   "metadata": {},
   "source": [
    "**One criticism against this model** is that it looks like the data distribution might be bimodal rather than unimodal, which would make a normal likelihood inappropriate. Let’s design a test statistic to check whether this bimodal appearance is really statistically significant or not."
   ]
  },
  {
   "cell_type": "markdown",
   "metadata": {},
   "source": [
    "## Test statistic\n",
    "\n",
    "Our test statistic is the proportion of data values that lie within one standard deviation of the mean of the dataset.\n",
    "\n",
    "So, given a dataset $\\{y_i\\}$, we compute the sample mean $\\bar{\\mu}$ and sample standard deviation $\\bar{\\sigma}$. We then count the proportion of data values that lie in the range $[\\bar{\\mu}-\\bar{\\sigma}, \\bar{\\mu}+\\bar{\\sigma}]$."
   ]
  },
  {
   "cell_type": "code",
   "execution_count": 5,
   "metadata": {},
   "outputs": [],
   "source": [
    "def test_statistic(data):\n",
    "    mu = np.mean(data)  # sample mean\n",
    "    sigma = np.std(data, ddof=1)  # sample standard deviation\n",
    "    return np.mean((data > mu - sigma) & (data < mu + sigma))"
   ]
  },
  {
   "cell_type": "markdown",
   "metadata": {},
   "source": [
    "For a normally distributed dataset, we expect approximately 68% of the data to lie within one standard deviation of the mean. For a bimodal dataset with equal probability mass in the two modes, we expect far fewer values to lie in this range since there is a gap between the modes.\n",
    "\n",
    "Here is an example to demonstrate why."
   ]
  },
  {
   "cell_type": "code",
   "execution_count": 6,
   "metadata": {},
   "outputs": [
    {
     "data": {
      "image/png": "[encoded data removed]",
      "text/plain": [
       "<Figure size 864x432 with 1 Axes>"
      ]
     },
     "metadata": {
      "needs_background": "light"
     },
     "output_type": "display_data"
    }
   ],
   "source": [
    "# Generate samples from a mixture of two normal distributions\n",
    "N = 1000\n",
    "x = np.concatenate((stats.norm.rvs(loc=-2, scale=1, size=1000), stats.norm.rvs(loc=2, scale=1, size=1000)))\n",
    "mu = np.mean(x)  # sample mean\n",
    "sigma = np.std(x, ddof=1)  # sample standard deviation\n",
    "\n",
    "plt.figure(figsize=(12, 6))\n",
    "plt.hist(x, bins=20, alpha=0.5, density=True)\n",
    "plt.axvline(mu - sigma, color='black')\n",
    "plt.axvline(mu + sigma, color='black')\n",
    "plt.title('Proportion of data in range [μ–σ, μ+σ]: %.3f' % test_statistic(x))\n",
    "plt.show()"
   ]
  },
  {
   "cell_type": "markdown",
   "metadata": {},
   "source": [
    "The black lines show the mean plus and minus one standard deviation.\n",
    "\n",
    "In this case, 60.2% of the data lie between the black lines. \n",
    "\n",
    "If we apply this test statistic to the original dataset, we get the following."
   ]
  },
  {
   "cell_type": "code",
   "execution_count": 7,
   "metadata": {},
   "outputs": [
    {
     "data": {
      "image/png": "[encoded data removed]",
      "text/plain": [
       "<Figure size 864x432 with 1 Axes>"
      ]
     },
     "metadata": {
      "needs_background": "light"
     },
     "output_type": "display_data"
    }
   ],
   "source": [
    "mu = np.mean(data)\n",
    "sigma = np.std(data)\n",
    "\n",
    "plt.figure(figsize=(12, 6))\n",
    "plt.hist(data, bins=20, alpha=0.5, density=True)\n",
    "plt.axvline(mu - sigma, color='black')\n",
    "plt.axvline(mu + sigma, color='black')\n",
    "plt.title('Proportion of data in range [μ–σ, μ+σ]: %.3f' % test_statistic(data))\n",
    "plt.show()"
   ]
  },
  {
   "cell_type": "markdown",
   "metadata": {},
   "source": [
    "So the test statistic evaluated on the real dataset is 0.640. But is this statistically significantly different from the expected value, which is 0.680 if we assume normally distributed data in our model?\n",
    "\n",
    "We can only answer this question by comparing the test statistic for the real dataset (0.640) to the test statistic on replicated data from the posterior predictive distribution of our model."
   ]
  },
  {
   "cell_type": "markdown",
   "metadata": {},
   "source": [
    "## Task: Calculate the p-value\n",
    "\n",
    "* Generate samples from the posterior predictive distribution and compute the test statistic for each replicated dataset.\n",
    "* Plot a histogram of the test statistic on the replicated datasets.\n",
    "* Plot a vertical line on the histogram to show value of the test statistic on the real dataset (0.640).\n",
    "* Compute the p-value as the proportion of replicated test statistic values that are greater than the real test statistic value.\n",
    "\n",
    "### How to generate samples\n",
    "\n",
    "* Generate 1000 (or more) samples of $(x,\\sigma^2)$ from the posterior Normal-Inverse-Gamma distribution.\n",
    "* For each sample from the posterior, generate a replicated dataset $\\{y^{\\text{(rep)}}_i\\}$ with the same size (the same number of data points) as the real dataset. It is important the each replicated dataset has the same size as the real dataset, to make sure their statistical behavior is the same.\n",
    "* Compute the test statistic for each replicated dataset to get the samples from the replicated test statistic."
   ]
  },
  {
   "cell_type": "code",
   "execution_count": 8,
   "metadata": {},
   "outputs": [],
   "source": [
    "def norminvgamma_rvs(mu, nu, alpha, beta, size=1):\n",
    "    '''\n",
    "    Generate n samples from the normal-inverse-gamma distribution. This function\n",
    "    returns a (size x 2) matrix where each row contains a sample, (x, sigma2).\n",
    "    '''\n",
    "    sigma2 = stats.invgamma.rvs(a=alpha, scale=beta, size=size)  # Sample sigma^2 from the inverse-gamma\n",
    "    x = stats.norm.rvs(loc=mu, scale=np.sqrt(sigma2 / nu), size=size)  # Sample x from the normal\n",
    "    return np.vstack((x, sigma2)).transpose()"
   ]
  },
  {
   "cell_type": "code",
   "execution_count": 9,
   "metadata": {},
   "outputs": [
    {
     "data": {
      "text/plain": [
       "array([[1.872976  , 0.53243703],\n",
       "       [1.90167157, 0.5126937 ],\n",
       "       [1.84131969, 0.53164903],\n",
       "       ...,\n",
       "       [1.95086157, 0.50713855],\n",
       "       [1.87296123, 0.50761056],\n",
       "       [1.89074699, 0.49963481]])"
      ]
     },
     "execution_count": 9,
     "metadata": {},
     "output_type": "execute_result"
    }
   ],
   "source": [
    "posterior_distributions = norminvgamma_rvs(mu_1, nu_1, alpha_1, beta_1, size=1000)\n",
    "posterior_distributions"
   ]
  },
  {
   "cell_type": "code",
   "execution_count": 10,
   "metadata": {},
   "outputs": [
    {
     "data": {
      "text/plain": [
       "array([0.676, 0.673, 0.681, 0.689, 0.66 , 0.69 , 0.687, 0.693, 0.673,\n",
       "       0.685, 0.676, 0.682, 0.694, 0.673, 0.705, 0.694, 0.688, 0.68 ,\n",
       "       0.671, 0.684, 0.695, 0.679, 0.671, 0.699, 0.687, 0.695, 0.687,\n",
       "       0.695, 0.694, 0.672, 0.695, 0.69 , 0.681, 0.703, 0.698, 0.698,\n",
       "       0.664, 0.691, 0.702, 0.691, 0.671, 0.666, 0.679, 0.677, 0.688,\n",
       "       0.692, 0.687, 0.683, 0.693, 0.694, 0.678, 0.698, 0.678, 0.684,\n",
       "       0.676, 0.687, 0.685, 0.678, 0.673, 0.673, 0.662, 0.682, 0.69 ,\n",
       "       0.697, 0.7  , 0.686, 0.685, 0.682, 0.683, 0.696, 0.677, 0.707,\n",
       "       0.687, 0.681, 0.665, 0.68 , 0.693, 0.684, 0.681, 0.698, 0.673,\n",
       "       0.68 , 0.689, 0.673, 0.686, 0.699, 0.714, 0.698, 0.687, 0.687,\n",
       "       0.689, 0.679, 0.693, 0.669, 0.666, 0.703, 0.678, 0.669, 0.674,\n",
       "       0.684, 0.687, 0.674, 0.684, 0.664, 0.693, 0.68 , 0.684, 0.675,\n",
       "       0.696, 0.679, 0.685, 0.696, 0.683, 0.687, 0.693, 0.679, 0.678,\n",
       "       0.669, 0.695, 0.705, 0.695, 0.691, 0.679, 0.685, 0.677, 0.664,\n",
       "       0.697, 0.685, 0.677, 0.681, 0.695, 0.669, 0.678, 0.677, 0.678,\n",
       "       0.677, 0.673, 0.687, 0.685, 0.683, 0.678, 0.674, 0.677, 0.663,\n",
       "       0.677, 0.683, 0.7  , 0.694, 0.684, 0.679, 0.696, 0.67 , 0.674,\n",
       "       0.674, 0.687, 0.686, 0.679, 0.676, 0.668, 0.69 , 0.692, 0.69 ,\n",
       "       0.689, 0.679, 0.682, 0.678, 0.688, 0.693, 0.69 , 0.686, 0.664,\n",
       "       0.685, 0.69 , 0.676, 0.688, 0.656, 0.666, 0.687, 0.682, 0.663,\n",
       "       0.678, 0.669, 0.685, 0.68 , 0.677, 0.709, 0.676, 0.674, 0.678,\n",
       "       0.69 , 0.686, 0.68 , 0.692, 0.686, 0.678, 0.686, 0.678, 0.685,\n",
       "       0.688, 0.685, 0.686, 0.685, 0.693, 0.696, 0.677, 0.691, 0.673,\n",
       "       0.687, 0.663, 0.681, 0.679, 0.674, 0.697, 0.671, 0.677, 0.671,\n",
       "       0.692, 0.682, 0.681, 0.683, 0.686, 0.691, 0.685, 0.679, 0.682,\n",
       "       0.698, 0.67 , 0.691, 0.678, 0.682, 0.67 , 0.698, 0.679, 0.694,\n",
       "       0.682, 0.675, 0.691, 0.672, 0.665, 0.675, 0.698, 0.667, 0.674,\n",
       "       0.679, 0.68 , 0.687, 0.661, 0.687, 0.68 , 0.67 , 0.676, 0.673,\n",
       "       0.681, 0.689, 0.686, 0.663, 0.688, 0.685, 0.659, 0.684, 0.709,\n",
       "       0.699, 0.669, 0.691, 0.682, 0.683, 0.679, 0.685, 0.693, 0.672,\n",
       "       0.679, 0.674, 0.678, 0.682, 0.697, 0.677, 0.685, 0.695, 0.677,\n",
       "       0.679, 0.688, 0.694, 0.674, 0.69 , 0.667, 0.679, 0.679, 0.692,\n",
       "       0.681, 0.665, 0.687, 0.68 , 0.693, 0.667, 0.685, 0.676, 0.689,\n",
       "       0.678, 0.686, 0.7  , 0.697, 0.686, 0.682, 0.673, 0.675, 0.681,\n",
       "       0.671, 0.667, 0.691, 0.675, 0.676, 0.673, 0.677, 0.684, 0.66 ,\n",
       "       0.689, 0.672, 0.682, 0.667, 0.679, 0.69 , 0.685, 0.678, 0.697,\n",
       "       0.696, 0.669, 0.675, 0.673, 0.689, 0.674, 0.678, 0.679, 0.681,\n",
       "       0.657, 0.682, 0.691, 0.686, 0.671, 0.702, 0.662, 0.657, 0.662,\n",
       "       0.692, 0.683, 0.671, 0.683, 0.679, 0.682, 0.673, 0.695, 0.688,\n",
       "       0.68 , 0.704, 0.684, 0.679, 0.685, 0.671, 0.68 , 0.677, 0.699,\n",
       "       0.69 , 0.689, 0.676, 0.669, 0.68 , 0.672, 0.683, 0.674, 0.684,\n",
       "       0.698, 0.686, 0.682, 0.675, 0.678, 0.68 , 0.669, 0.69 , 0.678,\n",
       "       0.691, 0.683, 0.682, 0.692, 0.696, 0.696, 0.68 , 0.677, 0.677,\n",
       "       0.701, 0.672, 0.695, 0.693, 0.668, 0.686, 0.689, 0.69 , 0.665,\n",
       "       0.679, 0.682, 0.691, 0.69 , 0.688, 0.66 , 0.702, 0.682, 0.686,\n",
       "       0.692, 0.69 , 0.677, 0.681, 0.678, 0.676, 0.677, 0.706, 0.681,\n",
       "       0.683, 0.684, 0.671, 0.681, 0.696, 0.68 , 0.673, 0.678, 0.674,\n",
       "       0.678, 0.686, 0.691, 0.7  , 0.689, 0.685, 0.683, 0.685, 0.678,\n",
       "       0.698, 0.692, 0.684, 0.696, 0.677, 0.702, 0.677, 0.694, 0.687,\n",
       "       0.683, 0.67 , 0.671, 0.684, 0.699, 0.694, 0.699, 0.693, 0.691,\n",
       "       0.671, 0.684, 0.695, 0.68 , 0.666, 0.675, 0.687, 0.686, 0.679,\n",
       "       0.678, 0.682, 0.69 , 0.682, 0.678, 0.681, 0.678, 0.663, 0.688,\n",
       "       0.697, 0.698, 0.686, 0.699, 0.676, 0.663, 0.681, 0.69 , 0.69 ,\n",
       "       0.694, 0.668, 0.66 , 0.7  , 0.667, 0.681, 0.668, 0.697, 0.684,\n",
       "       0.672, 0.675, 0.681, 0.681, 0.683, 0.68 , 0.689, 0.683, 0.691,\n",
       "       0.68 , 0.68 , 0.701, 0.669, 0.696, 0.71 , 0.69 , 0.685, 0.698,\n",
       "       0.681, 0.678, 0.698, 0.688, 0.69 , 0.681, 0.691, 0.672, 0.679,\n",
       "       0.672, 0.677, 0.674, 0.685, 0.684, 0.689, 0.686, 0.671, 0.704,\n",
       "       0.689, 0.686, 0.676, 0.668, 0.69 , 0.666, 0.67 , 0.696, 0.699,\n",
       "       0.7  , 0.673, 0.68 , 0.686, 0.692, 0.676, 0.672, 0.686, 0.697,\n",
       "       0.688, 0.688, 0.673, 0.672, 0.688, 0.685, 0.688, 0.674, 0.698,\n",
       "       0.689, 0.684, 0.691, 0.67 , 0.682, 0.666, 0.665, 0.682, 0.7  ,\n",
       "       0.68 , 0.684, 0.673, 0.687, 0.665, 0.688, 0.683, 0.707, 0.679,\n",
       "       0.684, 0.687, 0.687, 0.678, 0.676, 0.68 , 0.696, 0.691, 0.697,\n",
       "       0.666, 0.669, 0.689, 0.675, 0.69 , 0.692, 0.675, 0.686, 0.672,\n",
       "       0.696, 0.685, 0.657, 0.695, 0.678, 0.67 , 0.693, 0.698, 0.672,\n",
       "       0.682, 0.693, 0.676, 0.684, 0.696, 0.685, 0.693, 0.677, 0.696,\n",
       "       0.69 , 0.687, 0.68 , 0.685, 0.699, 0.691, 0.682, 0.67 , 0.686,\n",
       "       0.7  , 0.68 , 0.689, 0.687, 0.689, 0.682, 0.686, 0.672, 0.69 ,\n",
       "       0.681, 0.697, 0.694, 0.672, 0.675, 0.689, 0.678, 0.682, 0.683,\n",
       "       0.668, 0.681, 0.694, 0.681, 0.694, 0.68 , 0.666, 0.678, 0.69 ,\n",
       "       0.681, 0.661, 0.687, 0.682, 0.69 , 0.686, 0.677, 0.682, 0.694,\n",
       "       0.678, 0.671, 0.68 , 0.664, 0.666, 0.698, 0.675, 0.691, 0.689,\n",
       "       0.677, 0.684, 0.685, 0.678, 0.692, 0.709, 0.68 , 0.694, 0.665,\n",
       "       0.672, 0.678, 0.688, 0.695, 0.693, 0.681, 0.702, 0.676, 0.679,\n",
       "       0.683, 0.671, 0.693, 0.665, 0.692, 0.667, 0.685, 0.679, 0.682,\n",
       "       0.677, 0.697, 0.681, 0.693, 0.679, 0.68 , 0.685, 0.678, 0.675,\n",
       "       0.687, 0.688, 0.671, 0.691, 0.673, 0.685, 0.678, 0.684, 0.677,\n",
       "       0.688, 0.668, 0.693, 0.693, 0.684, 0.68 , 0.689, 0.68 , 0.661,\n",
       "       0.666, 0.674, 0.687, 0.677, 0.692, 0.68 , 0.681, 0.665, 0.676,\n",
       "       0.702, 0.677, 0.661, 0.675, 0.688, 0.679, 0.687, 0.668, 0.671,\n",
       "       0.665, 0.672, 0.664, 0.683, 0.669, 0.667, 0.675, 0.664, 0.697,\n",
       "       0.682, 0.685, 0.684, 0.679, 0.701, 0.674, 0.684, 0.682, 0.687,\n",
       "       0.695, 0.682, 0.675, 0.677, 0.667, 0.694, 0.695, 0.708, 0.682,\n",
       "       0.689, 0.685, 0.673, 0.687, 0.664, 0.677, 0.693, 0.673, 0.682,\n",
       "       0.682, 0.693, 0.681, 0.688, 0.686, 0.7  , 0.694, 0.679, 0.689,\n",
       "       0.676, 0.695, 0.687, 0.671, 0.667, 0.679, 0.684, 0.686, 0.708,\n",
       "       0.681, 0.681, 0.671, 0.693, 0.669, 0.688, 0.675, 0.667, 0.677,\n",
       "       0.695, 0.687, 0.692, 0.692, 0.696, 0.682, 0.682, 0.678, 0.693,\n",
       "       0.688, 0.682, 0.673, 0.683, 0.702, 0.679, 0.685, 0.687, 0.698,\n",
       "       0.692, 0.694, 0.676, 0.681, 0.689, 0.701, 0.68 , 0.661, 0.691,\n",
       "       0.698, 0.683, 0.667, 0.673, 0.669, 0.673, 0.672, 0.657, 0.692,\n",
       "       0.681, 0.681, 0.676, 0.677, 0.68 , 0.691, 0.696, 0.697, 0.697,\n",
       "       0.683, 0.702, 0.674, 0.685, 0.683, 0.69 , 0.693, 0.683, 0.675,\n",
       "       0.682, 0.69 , 0.693, 0.681, 0.687, 0.674, 0.698, 0.669, 0.695,\n",
       "       0.692, 0.69 , 0.691, 0.672, 0.669, 0.678, 0.681, 0.689, 0.695,\n",
       "       0.666, 0.682, 0.696, 0.685, 0.674, 0.689, 0.682, 0.682, 0.691,\n",
       "       0.681, 0.673, 0.681, 0.668, 0.683, 0.685, 0.677, 0.682, 0.684,\n",
       "       0.666, 0.685, 0.687, 0.683, 0.683, 0.68 , 0.697, 0.693, 0.702,\n",
       "       0.673, 0.682, 0.664, 0.68 , 0.672, 0.676, 0.688, 0.692, 0.687,\n",
       "       0.658, 0.687, 0.68 , 0.679, 0.689, 0.698, 0.671, 0.68 , 0.682,\n",
       "       0.679, 0.681, 0.701, 0.694, 0.686, 0.689, 0.683, 0.687, 0.673,\n",
       "       0.677, 0.685, 0.679, 0.673, 0.704, 0.697, 0.675, 0.68 , 0.68 ,\n",
       "       0.664, 0.683, 0.673, 0.704, 0.689, 0.674, 0.698, 0.695, 0.681,\n",
       "       0.691, 0.679, 0.677, 0.697, 0.701, 0.689, 0.697, 0.701, 0.678,\n",
       "       0.673, 0.679, 0.683, 0.682, 0.68 , 0.68 , 0.687, 0.694, 0.695,\n",
       "       0.703, 0.69 , 0.681, 0.68 , 0.68 , 0.679, 0.685, 0.68 , 0.691,\n",
       "       0.683, 0.693, 0.667, 0.678, 0.687, 0.675, 0.686, 0.677, 0.662,\n",
       "       0.689, 0.67 , 0.676, 0.684, 0.703, 0.675, 0.67 , 0.678, 0.689,\n",
       "       0.671, 0.693, 0.684, 0.684, 0.683, 0.69 , 0.669, 0.68 , 0.676,\n",
       "       0.663, 0.675, 0.678, 0.676, 0.675, 0.683, 0.673, 0.67 , 0.668,\n",
       "       0.67 ])"
      ]
     },
     "execution_count": 10,
     "metadata": {},
     "output_type": "execute_result"
    }
   ],
   "source": [
    "t_statistics = []\n",
    "for x, sigma in posterior_distributions:\n",
    "    new_data =  stats.norm.rvs(x, sigma, N)\n",
    "    t_statistics.append(test_statistic(new_data))\n",
    "    \n",
    "t_statistics = np.array(t_statistics)\n",
    "t_statistics"
   ]
  },
  {
   "cell_type": "code",
   "execution_count": 11,
   "metadata": {},
   "outputs": [
    {
     "data": {
      "text/plain": [
       "1000"
      ]
     },
     "execution_count": 11,
     "metadata": {},
     "output_type": "execute_result"
    }
   ],
   "source": [
    "len(t_statistics[t_statistics > 0.64])"
   ]
  },
  {
   "cell_type": "code",
   "execution_count": 12,
   "metadata": {},
   "outputs": [
    {
     "data": {
      "image/png": "[encoded data removed]",
      "text/plain": [
       "<Figure size 864x432 with 1 Axes>"
      ]
     },
     "metadata": {
      "needs_background": "light"
     },
     "output_type": "display_data"
    }
   ],
   "source": [
    "plt.figure(figsize=(12, 6))\n",
    "plt.hist(t_statistics, bins=20, alpha=0.5, density=True)\n",
    "plt.axvline(0.640, color='black')\n",
    "plt.title(f'Proportion of test statistic above {test_statistic(data)}')\n",
    "plt.show()"
   ]
  }
 ],
 "metadata": {
  "kernelspec": {
   "display_name": "Python 3",
   "language": "python",
   "name": "python3"
  },
  "language_info": {
   "codemirror_mode": {
    "name": "ipython",
    "version": 3
   },
   "file_extension": ".py",
   "mimetype": "text/x-python",
   "name": "python",
   "nbconvert_exporter": "python",
   "pygments_lexer": "ipython3",
   "version": "3.7.10"
  }
 },
 "nbformat": 4,
 "nbformat_minor": 4
}
