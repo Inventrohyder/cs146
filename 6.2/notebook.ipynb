{
 "cells": [
  {
   "cell_type": "code",
   "execution_count": 1,
   "id": "similar-amount",
   "metadata": {},
   "outputs": [],
   "source": [
    "import pandas as pd\n",
    "import numpy as np\n",
    "import scipy.stats as sts"
   ]
  },
  {
   "cell_type": "code",
   "execution_count": 2,
   "id": "ordered-rotation",
   "metadata": {},
   "outputs": [
    {
     "data": {
      "text/html": [
       "<div>\n",
       "<style scoped>\n",
       "    .dataframe tbody tr th:only-of-type {\n",
       "        vertical-align: middle;\n",
       "    }\n",
       "\n",
       "    .dataframe tbody tr th {\n",
       "        vertical-align: top;\n",
       "    }\n",
       "\n",
       "    .dataframe thead th {\n",
       "        text-align: right;\n",
       "    }\n",
       "</style>\n",
       "<table border=\"1\" class=\"dataframe\">\n",
       "  <thead>\n",
       "    <tr style=\"text-align: right;\">\n",
       "      <th></th>\n",
       "      <th>combo</th>\n",
       "      <th>count</th>\n",
       "    </tr>\n",
       "  </thead>\n",
       "  <tbody>\n",
       "    <tr>\n",
       "      <th>0</th>\n",
       "      <td>farm_farm</td>\n",
       "      <td>703</td>\n",
       "    </tr>\n",
       "    <tr>\n",
       "      <th>1</th>\n",
       "      <td>farm_unskilled</td>\n",
       "      <td>1478</td>\n",
       "    </tr>\n",
       "    <tr>\n",
       "      <th>2</th>\n",
       "      <td>farm_skilled</td>\n",
       "      <td>1430</td>\n",
       "    </tr>\n",
       "    <tr>\n",
       "      <th>3</th>\n",
       "      <td>farm_professional</td>\n",
       "      <td>1109</td>\n",
       "    </tr>\n",
       "    <tr>\n",
       "      <th>4</th>\n",
       "      <td>unskilled_farm</td>\n",
       "      <td>58</td>\n",
       "    </tr>\n",
       "    <tr>\n",
       "      <th>5</th>\n",
       "      <td>unskilled_unskilled</td>\n",
       "      <td>1756</td>\n",
       "    </tr>\n",
       "    <tr>\n",
       "      <th>6</th>\n",
       "      <td>unskilled_skilled</td>\n",
       "      <td>1630</td>\n",
       "    </tr>\n",
       "    <tr>\n",
       "      <th>7</th>\n",
       "      <td>unskilled_professional</td>\n",
       "      <td>1568</td>\n",
       "    </tr>\n",
       "    <tr>\n",
       "      <th>8</th>\n",
       "      <td>skilled_farm</td>\n",
       "      <td>63</td>\n",
       "    </tr>\n",
       "    <tr>\n",
       "      <th>9</th>\n",
       "      <td>skilled_unskilled</td>\n",
       "      <td>1453</td>\n",
       "    </tr>\n",
       "    <tr>\n",
       "      <th>10</th>\n",
       "      <td>skilled_skilled</td>\n",
       "      <td>2068</td>\n",
       "    </tr>\n",
       "    <tr>\n",
       "      <th>11</th>\n",
       "      <td>skilled_professional</td>\n",
       "      <td>2483</td>\n",
       "    </tr>\n",
       "    <tr>\n",
       "      <th>12</th>\n",
       "      <td>professional_farm</td>\n",
       "      <td>61</td>\n",
       "    </tr>\n",
       "    <tr>\n",
       "      <th>13</th>\n",
       "      <td>professional_unskilled</td>\n",
       "      <td>749</td>\n",
       "    </tr>\n",
       "    <tr>\n",
       "      <th>14</th>\n",
       "      <td>professional_skilled</td>\n",
       "      <td>1183</td>\n",
       "    </tr>\n",
       "    <tr>\n",
       "      <th>15</th>\n",
       "      <td>professional_professional</td>\n",
       "      <td>3315</td>\n",
       "    </tr>\n",
       "  </tbody>\n",
       "</table>\n",
       "</div>"
      ],
      "text/plain": [
       "                        combo  count\n",
       "0                   farm_farm    703\n",
       "1              farm_unskilled   1478\n",
       "2                farm_skilled   1430\n",
       "3           farm_professional   1109\n",
       "4              unskilled_farm     58\n",
       "5         unskilled_unskilled   1756\n",
       "6           unskilled_skilled   1630\n",
       "7      unskilled_professional   1568\n",
       "8                skilled_farm     63\n",
       "9           skilled_unskilled   1453\n",
       "10            skilled_skilled   2068\n",
       "11       skilled_professional   2483\n",
       "12          professional_farm     61\n",
       "13     professional_unskilled    749\n",
       "14       professional_skilled   1183\n",
       "15  professional_professional   3315"
      ]
     },
     "execution_count": 2,
     "metadata": {},
     "output_type": "execute_result"
    }
   ],
   "source": [
    "df = pd.read_csv('socialmobility.csv')\n",
    "df['combo'] = df['father'] + '_' + df['son']\n",
    "df = df[['combo', 'count']]\n",
    "df"
   ]
  },
  {
   "cell_type": "markdown",
   "id": "veterinary-softball",
   "metadata": {},
   "source": [
    "There are 16 categories, we can start with uniform Dirichlet distribution over $\\vec{p}$ with $\\vec{\\alpha} = (1, \\cdots, 1)$.\n",
    "\n",
    "$$Dirichlet(p_{1}, p_{2}, \\cdots, p_{16}) | (1, 1, \\cdots, 1)$$\n",
    "\n",
    "Given that info, we know that the Dirichlet distribution is a conjugate prior for our Multinomial distribution. Therefore the posterior is also a Dirichlet distribution. \n",
    "The new alpha is given as $\\vec{\\alpha_{p\\text{post}}} = \\vec{\\alpha_{\\text{prior}}} + \\vec{x}$"
   ]
  },
  {
   "cell_type": "code",
   "execution_count": 3,
   "id": "alpine-miami",
   "metadata": {},
   "outputs": [
    {
     "data": {
      "text/html": [
       "<div>\n",
       "<style scoped>\n",
       "    .dataframe tbody tr th:only-of-type {\n",
       "        vertical-align: middle;\n",
       "    }\n",
       "\n",
       "    .dataframe tbody tr th {\n",
       "        vertical-align: top;\n",
       "    }\n",
       "\n",
       "    .dataframe thead th {\n",
       "        text-align: right;\n",
       "    }\n",
       "</style>\n",
       "<table border=\"1\" class=\"dataframe\">\n",
       "  <thead>\n",
       "    <tr style=\"text-align: right;\">\n",
       "      <th></th>\n",
       "      <th>combo</th>\n",
       "      <th>count</th>\n",
       "      <th>posterior</th>\n",
       "    </tr>\n",
       "  </thead>\n",
       "  <tbody>\n",
       "    <tr>\n",
       "      <th>0</th>\n",
       "      <td>farm_farm</td>\n",
       "      <td>703</td>\n",
       "      <td>704</td>\n",
       "    </tr>\n",
       "    <tr>\n",
       "      <th>1</th>\n",
       "      <td>farm_unskilled</td>\n",
       "      <td>1478</td>\n",
       "      <td>1479</td>\n",
       "    </tr>\n",
       "    <tr>\n",
       "      <th>2</th>\n",
       "      <td>farm_skilled</td>\n",
       "      <td>1430</td>\n",
       "      <td>1431</td>\n",
       "    </tr>\n",
       "    <tr>\n",
       "      <th>3</th>\n",
       "      <td>farm_professional</td>\n",
       "      <td>1109</td>\n",
       "      <td>1110</td>\n",
       "    </tr>\n",
       "    <tr>\n",
       "      <th>4</th>\n",
       "      <td>unskilled_farm</td>\n",
       "      <td>58</td>\n",
       "      <td>59</td>\n",
       "    </tr>\n",
       "    <tr>\n",
       "      <th>5</th>\n",
       "      <td>unskilled_unskilled</td>\n",
       "      <td>1756</td>\n",
       "      <td>1757</td>\n",
       "    </tr>\n",
       "    <tr>\n",
       "      <th>6</th>\n",
       "      <td>unskilled_skilled</td>\n",
       "      <td>1630</td>\n",
       "      <td>1631</td>\n",
       "    </tr>\n",
       "    <tr>\n",
       "      <th>7</th>\n",
       "      <td>unskilled_professional</td>\n",
       "      <td>1568</td>\n",
       "      <td>1569</td>\n",
       "    </tr>\n",
       "    <tr>\n",
       "      <th>8</th>\n",
       "      <td>skilled_farm</td>\n",
       "      <td>63</td>\n",
       "      <td>64</td>\n",
       "    </tr>\n",
       "    <tr>\n",
       "      <th>9</th>\n",
       "      <td>skilled_unskilled</td>\n",
       "      <td>1453</td>\n",
       "      <td>1454</td>\n",
       "    </tr>\n",
       "    <tr>\n",
       "      <th>10</th>\n",
       "      <td>skilled_skilled</td>\n",
       "      <td>2068</td>\n",
       "      <td>2069</td>\n",
       "    </tr>\n",
       "    <tr>\n",
       "      <th>11</th>\n",
       "      <td>skilled_professional</td>\n",
       "      <td>2483</td>\n",
       "      <td>2484</td>\n",
       "    </tr>\n",
       "    <tr>\n",
       "      <th>12</th>\n",
       "      <td>professional_farm</td>\n",
       "      <td>61</td>\n",
       "      <td>62</td>\n",
       "    </tr>\n",
       "    <tr>\n",
       "      <th>13</th>\n",
       "      <td>professional_unskilled</td>\n",
       "      <td>749</td>\n",
       "      <td>750</td>\n",
       "    </tr>\n",
       "    <tr>\n",
       "      <th>14</th>\n",
       "      <td>professional_skilled</td>\n",
       "      <td>1183</td>\n",
       "      <td>1184</td>\n",
       "    </tr>\n",
       "    <tr>\n",
       "      <th>15</th>\n",
       "      <td>professional_professional</td>\n",
       "      <td>3315</td>\n",
       "      <td>3316</td>\n",
       "    </tr>\n",
       "  </tbody>\n",
       "</table>\n",
       "</div>"
      ],
      "text/plain": [
       "                        combo  count  posterior\n",
       "0                   farm_farm    703        704\n",
       "1              farm_unskilled   1478       1479\n",
       "2                farm_skilled   1430       1431\n",
       "3           farm_professional   1109       1110\n",
       "4              unskilled_farm     58         59\n",
       "5         unskilled_unskilled   1756       1757\n",
       "6           unskilled_skilled   1630       1631\n",
       "7      unskilled_professional   1568       1569\n",
       "8                skilled_farm     63         64\n",
       "9           skilled_unskilled   1453       1454\n",
       "10            skilled_skilled   2068       2069\n",
       "11       skilled_professional   2483       2484\n",
       "12          professional_farm     61         62\n",
       "13     professional_unskilled    749        750\n",
       "14       professional_skilled   1183       1184\n",
       "15  professional_professional   3315       3316"
      ]
     },
     "execution_count": 3,
     "metadata": {},
     "output_type": "execute_result"
    }
   ],
   "source": [
    "df['posterior'] = df['count'] + 1\n",
    "df"
   ]
  },
  {
   "cell_type": "code",
   "execution_count": 4,
   "id": "disturbed-klein",
   "metadata": {},
   "outputs": [],
   "source": [
    "samples = sts.dirichlet.rvs(list(df['posterior']), size=10000000)"
   ]
  },
  {
   "cell_type": "code",
   "execution_count": 5,
   "id": "governmental-indie",
   "metadata": {},
   "outputs": [
    {
     "data": {
      "text/plain": [
       "array([[0.03271644, 0.07292673, 0.06719231, ..., 0.03596035, 0.05454874,\n",
       "        0.15166469],\n",
       "       [0.03363889, 0.07192281, 0.06451225, ..., 0.03468563, 0.05665673,\n",
       "        0.16252697],\n",
       "       [0.03296097, 0.06657759, 0.06710244, ..., 0.03669185, 0.05506611,\n",
       "        0.15518725],\n",
       "       ...,\n",
       "       [0.03197833, 0.0681482 , 0.06812832, ..., 0.03434879, 0.05638938,\n",
       "        0.15398862],\n",
       "       [0.032008  , 0.06851897, 0.06983416, ..., 0.03484872, 0.05547947,\n",
       "        0.15857829],\n",
       "       [0.03400199, 0.06883476, 0.06656245, ..., 0.03244451, 0.05859537,\n",
       "        0.15926717]])"
      ]
     },
     "execution_count": 5,
     "metadata": {},
     "output_type": "execute_result"
    }
   ],
   "source": [
    "samples"
   ]
  },
  {
   "cell_type": "markdown",
   "id": "steady-crazy",
   "metadata": {},
   "source": [
    "The `unskilled_skilled` category with index 6 represents the situation whereby the father was unskilled and their son was skilled. To calculate the 95% probability of this situaion we use `numpy`."
   ]
  },
  {
   "cell_type": "code",
   "execution_count": 6,
   "id": "complete-weather",
   "metadata": {},
   "outputs": [
    {
     "name": "stdout",
     "output_type": "stream",
     "text": [
      "95% confidence interval = [0.07097066699758794, 0.07298336393297479]\n"
     ]
    }
   ],
   "source": [
    "lower = np.percentile(samples[:, 6], 0.025)\n",
    "upper = np.percentile(samples[:, 6], 0.975)\n",
    "\n",
    "print(f\"95% confidence interval = [{lower}, {upper}]\")"
   ]
  },
  {
   "cell_type": "markdown",
   "id": "handled-trouble",
   "metadata": {},
   "source": [
    "Doing the same thing for a father that works on the farm and their son works as a professional `farm_professional` index 3"
   ]
  },
  {
   "cell_type": "code",
   "execution_count": 7,
   "id": "killing-short",
   "metadata": {},
   "outputs": [
    {
     "name": "stdout",
     "output_type": "stream",
     "text": [
      "95% confidence interval = [0.0473744266076873, 0.04902684672565704]\n"
     ]
    }
   ],
   "source": [
    "lower = np.percentile(samples[:, 3], 0.025)\n",
    "upper = np.percentile(samples[:, 3], 0.975)\n",
    "\n",
    "print(f\"95% confidence interval = [{lower}, {upper}]\")"
   ]
  }
 ],
 "metadata": {
  "kernelspec": {
   "display_name": "Python 3",
   "language": "python",
   "name": "python3"
  },
  "language_info": {
   "codemirror_mode": {
    "name": "ipython",
    "version": 3
   },
   "file_extension": ".py",
   "mimetype": "text/x-python",
   "name": "python",
   "nbconvert_exporter": "python",
   "pygments_lexer": "ipython3",
   "version": "3.7.9"
  }
 },
 "nbformat": 4,
 "nbformat_minor": 5
}
