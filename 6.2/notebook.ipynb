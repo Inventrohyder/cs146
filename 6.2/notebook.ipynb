{
 "cells": [
  {
   "cell_type": "code",
   "execution_count": 1,
   "id": "sublime-baptist",
   "metadata": {},
   "outputs": [],
   "source": [
    "import pandas as pd\n",
    "import numpy as np\n",
    "import matplotlib.pyplot as plt\n",
    "import scipy.stats as sts"
   ]
  },
  {
   "cell_type": "code",
   "execution_count": 2,
   "id": "overhead-seventh",
   "metadata": {},
   "outputs": [
    {
     "data": {
      "text/html": [
       "<div>\n",
       "<style scoped>\n",
       "    .dataframe tbody tr th:only-of-type {\n",
       "        vertical-align: middle;\n",
       "    }\n",
       "\n",
       "    .dataframe tbody tr th {\n",
       "        vertical-align: top;\n",
       "    }\n",
       "\n",
       "    .dataframe thead th {\n",
       "        text-align: right;\n",
       "    }\n",
       "</style>\n",
       "<table border=\"1\" class=\"dataframe\">\n",
       "  <thead>\n",
       "    <tr style=\"text-align: right;\">\n",
       "      <th></th>\n",
       "      <th>combo</th>\n",
       "      <th>count</th>\n",
       "    </tr>\n",
       "  </thead>\n",
       "  <tbody>\n",
       "    <tr>\n",
       "      <th>0</th>\n",
       "      <td>farm_farm</td>\n",
       "      <td>703</td>\n",
       "    </tr>\n",
       "    <tr>\n",
       "      <th>1</th>\n",
       "      <td>farm_unskilled</td>\n",
       "      <td>1478</td>\n",
       "    </tr>\n",
       "    <tr>\n",
       "      <th>2</th>\n",
       "      <td>farm_skilled</td>\n",
       "      <td>1430</td>\n",
       "    </tr>\n",
       "    <tr>\n",
       "      <th>3</th>\n",
       "      <td>farm_professional</td>\n",
       "      <td>1109</td>\n",
       "    </tr>\n",
       "    <tr>\n",
       "      <th>4</th>\n",
       "      <td>unskilled_farm</td>\n",
       "      <td>58</td>\n",
       "    </tr>\n",
       "    <tr>\n",
       "      <th>5</th>\n",
       "      <td>unskilled_unskilled</td>\n",
       "      <td>1756</td>\n",
       "    </tr>\n",
       "    <tr>\n",
       "      <th>6</th>\n",
       "      <td>unskilled_skilled</td>\n",
       "      <td>1630</td>\n",
       "    </tr>\n",
       "    <tr>\n",
       "      <th>7</th>\n",
       "      <td>unskilled_professional</td>\n",
       "      <td>1568</td>\n",
       "    </tr>\n",
       "    <tr>\n",
       "      <th>8</th>\n",
       "      <td>skilled_farm</td>\n",
       "      <td>63</td>\n",
       "    </tr>\n",
       "    <tr>\n",
       "      <th>9</th>\n",
       "      <td>skilled_unskilled</td>\n",
       "      <td>1453</td>\n",
       "    </tr>\n",
       "    <tr>\n",
       "      <th>10</th>\n",
       "      <td>skilled_skilled</td>\n",
       "      <td>2068</td>\n",
       "    </tr>\n",
       "    <tr>\n",
       "      <th>11</th>\n",
       "      <td>skilled_professional</td>\n",
       "      <td>2483</td>\n",
       "    </tr>\n",
       "    <tr>\n",
       "      <th>12</th>\n",
       "      <td>professional_farm</td>\n",
       "      <td>61</td>\n",
       "    </tr>\n",
       "    <tr>\n",
       "      <th>13</th>\n",
       "      <td>professional_unskilled</td>\n",
       "      <td>749</td>\n",
       "    </tr>\n",
       "    <tr>\n",
       "      <th>14</th>\n",
       "      <td>professional_skilled</td>\n",
       "      <td>1183</td>\n",
       "    </tr>\n",
       "    <tr>\n",
       "      <th>15</th>\n",
       "      <td>professional_professional</td>\n",
       "      <td>3315</td>\n",
       "    </tr>\n",
       "  </tbody>\n",
       "</table>\n",
       "</div>"
      ],
      "text/plain": [
       "                        combo  count\n",
       "0                   farm_farm    703\n",
       "1              farm_unskilled   1478\n",
       "2                farm_skilled   1430\n",
       "3           farm_professional   1109\n",
       "4              unskilled_farm     58\n",
       "5         unskilled_unskilled   1756\n",
       "6           unskilled_skilled   1630\n",
       "7      unskilled_professional   1568\n",
       "8                skilled_farm     63\n",
       "9           skilled_unskilled   1453\n",
       "10            skilled_skilled   2068\n",
       "11       skilled_professional   2483\n",
       "12          professional_farm     61\n",
       "13     professional_unskilled    749\n",
       "14       professional_skilled   1183\n",
       "15  professional_professional   3315"
      ]
     },
     "execution_count": 2,
     "metadata": {},
     "output_type": "execute_result"
    }
   ],
   "source": [
    "df = pd.read_csv('socialmobility.csv')\n",
    "df['combo'] = df['father'] + '_' + df['son']\n",
    "df = df[['combo', 'count']]\n",
    "df"
   ]
  },
  {
   "cell_type": "markdown",
   "id": "awful-refund",
   "metadata": {},
   "source": [
    "There are 16 categories, we can start with uniform Dirichlet distribution over $\\vec{p}$ with $\\vec{\\alpha} = (1, \\cdots, 1)$.\n",
    "\n",
    "$$Dirichlet(p_{1}, p_{2}, \\cdots, p_{16}) | (1, 1, \\cdots, 1)$$\n",
    "\n",
    "Given that info, we know that the Dirichlet distribution is a conjugate prior for our Multinomial distribution. Therefore the posterior is also a Dirichlet distribution. \n",
    "The new alpha is given as $\\vec{\\alpha_{p\\text{post}}} = \\vec{\\alpha_{\\text{prior}}} + \\vec{x}$"
   ]
  },
  {
   "cell_type": "code",
   "execution_count": 3,
   "id": "conditional-copper",
   "metadata": {},
   "outputs": [
    {
     "data": {
      "text/html": [
       "<div>\n",
       "<style scoped>\n",
       "    .dataframe tbody tr th:only-of-type {\n",
       "        vertical-align: middle;\n",
       "    }\n",
       "\n",
       "    .dataframe tbody tr th {\n",
       "        vertical-align: top;\n",
       "    }\n",
       "\n",
       "    .dataframe thead th {\n",
       "        text-align: right;\n",
       "    }\n",
       "</style>\n",
       "<table border=\"1\" class=\"dataframe\">\n",
       "  <thead>\n",
       "    <tr style=\"text-align: right;\">\n",
       "      <th></th>\n",
       "      <th>combo</th>\n",
       "      <th>count</th>\n",
       "      <th>posterior</th>\n",
       "    </tr>\n",
       "  </thead>\n",
       "  <tbody>\n",
       "    <tr>\n",
       "      <th>0</th>\n",
       "      <td>farm_farm</td>\n",
       "      <td>703</td>\n",
       "      <td>704</td>\n",
       "    </tr>\n",
       "    <tr>\n",
       "      <th>1</th>\n",
       "      <td>farm_unskilled</td>\n",
       "      <td>1478</td>\n",
       "      <td>1479</td>\n",
       "    </tr>\n",
       "    <tr>\n",
       "      <th>2</th>\n",
       "      <td>farm_skilled</td>\n",
       "      <td>1430</td>\n",
       "      <td>1431</td>\n",
       "    </tr>\n",
       "    <tr>\n",
       "      <th>3</th>\n",
       "      <td>farm_professional</td>\n",
       "      <td>1109</td>\n",
       "      <td>1110</td>\n",
       "    </tr>\n",
       "    <tr>\n",
       "      <th>4</th>\n",
       "      <td>unskilled_farm</td>\n",
       "      <td>58</td>\n",
       "      <td>59</td>\n",
       "    </tr>\n",
       "    <tr>\n",
       "      <th>5</th>\n",
       "      <td>unskilled_unskilled</td>\n",
       "      <td>1756</td>\n",
       "      <td>1757</td>\n",
       "    </tr>\n",
       "    <tr>\n",
       "      <th>6</th>\n",
       "      <td>unskilled_skilled</td>\n",
       "      <td>1630</td>\n",
       "      <td>1631</td>\n",
       "    </tr>\n",
       "    <tr>\n",
       "      <th>7</th>\n",
       "      <td>unskilled_professional</td>\n",
       "      <td>1568</td>\n",
       "      <td>1569</td>\n",
       "    </tr>\n",
       "    <tr>\n",
       "      <th>8</th>\n",
       "      <td>skilled_farm</td>\n",
       "      <td>63</td>\n",
       "      <td>64</td>\n",
       "    </tr>\n",
       "    <tr>\n",
       "      <th>9</th>\n",
       "      <td>skilled_unskilled</td>\n",
       "      <td>1453</td>\n",
       "      <td>1454</td>\n",
       "    </tr>\n",
       "    <tr>\n",
       "      <th>10</th>\n",
       "      <td>skilled_skilled</td>\n",
       "      <td>2068</td>\n",
       "      <td>2069</td>\n",
       "    </tr>\n",
       "    <tr>\n",
       "      <th>11</th>\n",
       "      <td>skilled_professional</td>\n",
       "      <td>2483</td>\n",
       "      <td>2484</td>\n",
       "    </tr>\n",
       "    <tr>\n",
       "      <th>12</th>\n",
       "      <td>professional_farm</td>\n",
       "      <td>61</td>\n",
       "      <td>62</td>\n",
       "    </tr>\n",
       "    <tr>\n",
       "      <th>13</th>\n",
       "      <td>professional_unskilled</td>\n",
       "      <td>749</td>\n",
       "      <td>750</td>\n",
       "    </tr>\n",
       "    <tr>\n",
       "      <th>14</th>\n",
       "      <td>professional_skilled</td>\n",
       "      <td>1183</td>\n",
       "      <td>1184</td>\n",
       "    </tr>\n",
       "    <tr>\n",
       "      <th>15</th>\n",
       "      <td>professional_professional</td>\n",
       "      <td>3315</td>\n",
       "      <td>3316</td>\n",
       "    </tr>\n",
       "  </tbody>\n",
       "</table>\n",
       "</div>"
      ],
      "text/plain": [
       "                        combo  count  posterior\n",
       "0                   farm_farm    703        704\n",
       "1              farm_unskilled   1478       1479\n",
       "2                farm_skilled   1430       1431\n",
       "3           farm_professional   1109       1110\n",
       "4              unskilled_farm     58         59\n",
       "5         unskilled_unskilled   1756       1757\n",
       "6           unskilled_skilled   1630       1631\n",
       "7      unskilled_professional   1568       1569\n",
       "8                skilled_farm     63         64\n",
       "9           skilled_unskilled   1453       1454\n",
       "10            skilled_skilled   2068       2069\n",
       "11       skilled_professional   2483       2484\n",
       "12          professional_farm     61         62\n",
       "13     professional_unskilled    749        750\n",
       "14       professional_skilled   1183       1184\n",
       "15  professional_professional   3315       3316"
      ]
     },
     "execution_count": 3,
     "metadata": {},
     "output_type": "execute_result"
    }
   ],
   "source": [
    "df['posterior'] = df['count'] + 1\n",
    "df"
   ]
  },
  {
   "cell_type": "code",
   "execution_count": 4,
   "id": "dependent-basement",
   "metadata": {},
   "outputs": [],
   "source": [
    "samples = sts.dirichlet.rvs(list(df['posterior']), size=10000000)"
   ]
  },
  {
   "cell_type": "code",
   "execution_count": 5,
   "id": "operational-psychology",
   "metadata": {},
   "outputs": [
    {
     "data": {
      "text/plain": [
       "array([[0.03270262, 0.06873217, 0.06919225, ..., 0.03579328, 0.05536627,\n",
       "        0.15716867],\n",
       "       [0.03403706, 0.0735984 , 0.06683935, ..., 0.03424177, 0.05636677,\n",
       "        0.15879942],\n",
       "       [0.03311361, 0.06854897, 0.06771622, ..., 0.03515724, 0.05535144,\n",
       "        0.15729075],\n",
       "       ...,\n",
       "       [0.03624748, 0.06729414, 0.07106045, ..., 0.03378269, 0.0554512 ,\n",
       "        0.15021294],\n",
       "       [0.03219587, 0.07068669, 0.06921273, ..., 0.03423453, 0.05782179,\n",
       "        0.15589977],\n",
       "       [0.03217395, 0.07064052, 0.06627791, ..., 0.03781145, 0.05621429,\n",
       "        0.15643668]])"
      ]
     },
     "execution_count": 5,
     "metadata": {},
     "output_type": "execute_result"
    }
   ],
   "source": [
    "samples"
   ]
  },
  {
   "cell_type": "markdown",
   "id": "russian-adolescent",
   "metadata": {},
   "source": [
    "The `unskilled_skilled` category with index 6 represents the situation whereby the father was unskilled and their son was skilled. To calculate the 95% probability of this situaion we use `numpy`."
   ]
  },
  {
   "cell_type": "code",
   "execution_count": 6,
   "id": "excessive-chart",
   "metadata": {},
   "outputs": [
    {
     "name": "stdout",
     "output_type": "stream",
     "text": [
      "95% confidence interval = [0.07097085 0.07298615]\n"
     ]
    }
   ],
   "source": [
    "percentiles = np.percentile(samples[:, 6], [0.025, 0.975])\n",
    "\n",
    "print(f\"95% confidence interval = {percentiles}\")"
   ]
  },
  {
   "cell_type": "markdown",
   "id": "electronic-treasurer",
   "metadata": {},
   "source": [
    "Doing the same thing for a father that works on the farm and their son works as a professional `farm_professional` index 3"
   ]
  },
  {
   "cell_type": "code",
   "execution_count": 7,
   "id": "ranging-newman",
   "metadata": {},
   "outputs": [
    {
     "name": "stdout",
     "output_type": "stream",
     "text": [
      "95% confidence interval = [0.04735835 0.04902474]\n"
     ]
    }
   ],
   "source": [
    "percentiles = np.percentile(samples[:, 3],  [0.025, 0.975])\n",
    "\n",
    "print(f\"95% confidence interval = {percentiles}\")"
   ]
  },
  {
   "cell_type": "code",
   "execution_count": 8,
   "id": "thermal-cheat",
   "metadata": {},
   "outputs": [
    {
     "data": {
      "image/png": "[encoded data removed]",
      "text/plain": [
       "<Figure size 432x288 with 1 Axes>"
      ]
     },
     "metadata": {
      "needs_background": "light"
     },
     "output_type": "display_data"
    }
   ],
   "source": [
    "to_plot = []\n",
    "for i in [3, 6]:\n",
    "    y = samples[:, i]\n",
    "    # Add some random \"jitter\" to the x-axis\n",
    "    x = np.random.normal(i, 0.04, size=len(y))\n",
    "    to_plot.append(y)\n",
    "    plt.plot(x, y, '.', alpha=0.002)\n",
    "    \n",
    "plt.boxplot(to_plot, positions=[3, 6], labels=['farm_professional', 'unskilled_skilled'])\n",
    "plt.show()"
   ]
  }
 ],
 "metadata": {
  "kernelspec": {
   "display_name": "Python 3",
   "language": "python",
   "name": "python3"
  },
  "language_info": {
   "codemirror_mode": {
    "name": "ipython",
    "version": 3
   },
   "file_extension": ".py",
   "mimetype": "text/x-python",
   "name": "python",
   "nbconvert_exporter": "python",
   "pygments_lexer": "ipython3",
   "version": "3.7.9"
  }
 },
 "nbformat": 4,
 "nbformat_minor": 5
}
