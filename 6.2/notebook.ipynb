{
 "cells": [
  {
   "cell_type": "code",
   "execution_count": 1,
   "id": "broadband-vintage",
   "metadata": {},
   "outputs": [],
   "source": [
    "import pandas as pd\n",
    "import numpy as np\n",
    "import matplotlib.pyplot as plt\n",
    "import scipy.stats as sts\n",
    "\n",
    "import pystan"
   ]
  },
  {
   "cell_type": "code",
   "execution_count": 2,
   "id": "major-civilian",
   "metadata": {},
   "outputs": [
    {
     "data": {
      "text/html": [
       "<div>\n",
       "<style scoped>\n",
       "    .dataframe tbody tr th:only-of-type {\n",
       "        vertical-align: middle;\n",
       "    }\n",
       "\n",
       "    .dataframe tbody tr th {\n",
       "        vertical-align: top;\n",
       "    }\n",
       "\n",
       "    .dataframe thead th {\n",
       "        text-align: right;\n",
       "    }\n",
       "</style>\n",
       "<table border=\"1\" class=\"dataframe\">\n",
       "  <thead>\n",
       "    <tr style=\"text-align: right;\">\n",
       "      <th></th>\n",
       "      <th>father</th>\n",
       "      <th>son</th>\n",
       "      <th>count</th>\n",
       "    </tr>\n",
       "  </thead>\n",
       "  <tbody>\n",
       "    <tr>\n",
       "      <th>0</th>\n",
       "      <td>farm</td>\n",
       "      <td>farm</td>\n",
       "      <td>703</td>\n",
       "    </tr>\n",
       "    <tr>\n",
       "      <th>1</th>\n",
       "      <td>farm</td>\n",
       "      <td>unskilled</td>\n",
       "      <td>1478</td>\n",
       "    </tr>\n",
       "    <tr>\n",
       "      <th>2</th>\n",
       "      <td>farm</td>\n",
       "      <td>skilled</td>\n",
       "      <td>1430</td>\n",
       "    </tr>\n",
       "    <tr>\n",
       "      <th>3</th>\n",
       "      <td>farm</td>\n",
       "      <td>professional</td>\n",
       "      <td>1109</td>\n",
       "    </tr>\n",
       "    <tr>\n",
       "      <th>4</th>\n",
       "      <td>unskilled</td>\n",
       "      <td>farm</td>\n",
       "      <td>58</td>\n",
       "    </tr>\n",
       "    <tr>\n",
       "      <th>5</th>\n",
       "      <td>unskilled</td>\n",
       "      <td>unskilled</td>\n",
       "      <td>1756</td>\n",
       "    </tr>\n",
       "    <tr>\n",
       "      <th>6</th>\n",
       "      <td>unskilled</td>\n",
       "      <td>skilled</td>\n",
       "      <td>1630</td>\n",
       "    </tr>\n",
       "    <tr>\n",
       "      <th>7</th>\n",
       "      <td>unskilled</td>\n",
       "      <td>professional</td>\n",
       "      <td>1568</td>\n",
       "    </tr>\n",
       "    <tr>\n",
       "      <th>8</th>\n",
       "      <td>skilled</td>\n",
       "      <td>farm</td>\n",
       "      <td>63</td>\n",
       "    </tr>\n",
       "    <tr>\n",
       "      <th>9</th>\n",
       "      <td>skilled</td>\n",
       "      <td>unskilled</td>\n",
       "      <td>1453</td>\n",
       "    </tr>\n",
       "    <tr>\n",
       "      <th>10</th>\n",
       "      <td>skilled</td>\n",
       "      <td>skilled</td>\n",
       "      <td>2068</td>\n",
       "    </tr>\n",
       "    <tr>\n",
       "      <th>11</th>\n",
       "      <td>skilled</td>\n",
       "      <td>professional</td>\n",
       "      <td>2483</td>\n",
       "    </tr>\n",
       "    <tr>\n",
       "      <th>12</th>\n",
       "      <td>professional</td>\n",
       "      <td>farm</td>\n",
       "      <td>61</td>\n",
       "    </tr>\n",
       "    <tr>\n",
       "      <th>13</th>\n",
       "      <td>professional</td>\n",
       "      <td>unskilled</td>\n",
       "      <td>749</td>\n",
       "    </tr>\n",
       "    <tr>\n",
       "      <th>14</th>\n",
       "      <td>professional</td>\n",
       "      <td>skilled</td>\n",
       "      <td>1183</td>\n",
       "    </tr>\n",
       "    <tr>\n",
       "      <th>15</th>\n",
       "      <td>professional</td>\n",
       "      <td>professional</td>\n",
       "      <td>3315</td>\n",
       "    </tr>\n",
       "  </tbody>\n",
       "</table>\n",
       "</div>"
      ],
      "text/plain": [
       "          father           son  count\n",
       "0           farm          farm    703\n",
       "1           farm     unskilled   1478\n",
       "2           farm       skilled   1430\n",
       "3           farm  professional   1109\n",
       "4      unskilled          farm     58\n",
       "5      unskilled     unskilled   1756\n",
       "6      unskilled       skilled   1630\n",
       "7      unskilled  professional   1568\n",
       "8        skilled          farm     63\n",
       "9        skilled     unskilled   1453\n",
       "10       skilled       skilled   2068\n",
       "11       skilled  professional   2483\n",
       "12  professional          farm     61\n",
       "13  professional     unskilled    749\n",
       "14  professional       skilled   1183\n",
       "15  professional  professional   3315"
      ]
     },
     "execution_count": 2,
     "metadata": {},
     "output_type": "execute_result"
    }
   ],
   "source": [
    "df = pd.read_csv('socialmobility.csv')\n",
    "df"
   ]
  },
  {
   "cell_type": "markdown",
   "id": "resistant-shoot",
   "metadata": {},
   "source": [
    "There are 16 categories, we can start with uniform Dirichlet distribution over $\\vec{p}$ with $\\vec{\\alpha} = (1, \\cdots, 1)$.\n",
    "\n",
    "$$Dirichlet(p_{1}, p_{2}, \\cdots, p_{16}) | (1, 1, \\cdots, 1)$$\n",
    "\n",
    "Given that info, we know that the Dirichlet distribution is a conjugate prior for our Multinomial distribution. Therefore the posterior is also a Dirichlet distribution. \n",
    "The new alpha is given as $\\vec{\\alpha_{p\\text{post}}} = \\vec{\\alpha_{\\text{prior}}} + \\vec{x}$"
   ]
  },
  {
   "cell_type": "code",
   "execution_count": 3,
   "id": "conscious-workplace",
   "metadata": {},
   "outputs": [
    {
     "data": {
      "text/html": [
       "<div>\n",
       "<style scoped>\n",
       "    .dataframe tbody tr th:only-of-type {\n",
       "        vertical-align: middle;\n",
       "    }\n",
       "\n",
       "    .dataframe tbody tr th {\n",
       "        vertical-align: top;\n",
       "    }\n",
       "\n",
       "    .dataframe thead th {\n",
       "        text-align: right;\n",
       "    }\n",
       "</style>\n",
       "<table border=\"1\" class=\"dataframe\">\n",
       "  <thead>\n",
       "    <tr style=\"text-align: right;\">\n",
       "      <th></th>\n",
       "      <th>father</th>\n",
       "      <th>son</th>\n",
       "      <th>count</th>\n",
       "      <th>posterior</th>\n",
       "    </tr>\n",
       "  </thead>\n",
       "  <tbody>\n",
       "    <tr>\n",
       "      <th>0</th>\n",
       "      <td>farm</td>\n",
       "      <td>farm</td>\n",
       "      <td>703</td>\n",
       "      <td>704</td>\n",
       "    </tr>\n",
       "    <tr>\n",
       "      <th>1</th>\n",
       "      <td>farm</td>\n",
       "      <td>unskilled</td>\n",
       "      <td>1478</td>\n",
       "      <td>1479</td>\n",
       "    </tr>\n",
       "    <tr>\n",
       "      <th>2</th>\n",
       "      <td>farm</td>\n",
       "      <td>skilled</td>\n",
       "      <td>1430</td>\n",
       "      <td>1431</td>\n",
       "    </tr>\n",
       "    <tr>\n",
       "      <th>3</th>\n",
       "      <td>farm</td>\n",
       "      <td>professional</td>\n",
       "      <td>1109</td>\n",
       "      <td>1110</td>\n",
       "    </tr>\n",
       "    <tr>\n",
       "      <th>4</th>\n",
       "      <td>unskilled</td>\n",
       "      <td>farm</td>\n",
       "      <td>58</td>\n",
       "      <td>59</td>\n",
       "    </tr>\n",
       "    <tr>\n",
       "      <th>5</th>\n",
       "      <td>unskilled</td>\n",
       "      <td>unskilled</td>\n",
       "      <td>1756</td>\n",
       "      <td>1757</td>\n",
       "    </tr>\n",
       "    <tr>\n",
       "      <th>6</th>\n",
       "      <td>unskilled</td>\n",
       "      <td>skilled</td>\n",
       "      <td>1630</td>\n",
       "      <td>1631</td>\n",
       "    </tr>\n",
       "    <tr>\n",
       "      <th>7</th>\n",
       "      <td>unskilled</td>\n",
       "      <td>professional</td>\n",
       "      <td>1568</td>\n",
       "      <td>1569</td>\n",
       "    </tr>\n",
       "    <tr>\n",
       "      <th>8</th>\n",
       "      <td>skilled</td>\n",
       "      <td>farm</td>\n",
       "      <td>63</td>\n",
       "      <td>64</td>\n",
       "    </tr>\n",
       "    <tr>\n",
       "      <th>9</th>\n",
       "      <td>skilled</td>\n",
       "      <td>unskilled</td>\n",
       "      <td>1453</td>\n",
       "      <td>1454</td>\n",
       "    </tr>\n",
       "    <tr>\n",
       "      <th>10</th>\n",
       "      <td>skilled</td>\n",
       "      <td>skilled</td>\n",
       "      <td>2068</td>\n",
       "      <td>2069</td>\n",
       "    </tr>\n",
       "    <tr>\n",
       "      <th>11</th>\n",
       "      <td>skilled</td>\n",
       "      <td>professional</td>\n",
       "      <td>2483</td>\n",
       "      <td>2484</td>\n",
       "    </tr>\n",
       "    <tr>\n",
       "      <th>12</th>\n",
       "      <td>professional</td>\n",
       "      <td>farm</td>\n",
       "      <td>61</td>\n",
       "      <td>62</td>\n",
       "    </tr>\n",
       "    <tr>\n",
       "      <th>13</th>\n",
       "      <td>professional</td>\n",
       "      <td>unskilled</td>\n",
       "      <td>749</td>\n",
       "      <td>750</td>\n",
       "    </tr>\n",
       "    <tr>\n",
       "      <th>14</th>\n",
       "      <td>professional</td>\n",
       "      <td>skilled</td>\n",
       "      <td>1183</td>\n",
       "      <td>1184</td>\n",
       "    </tr>\n",
       "    <tr>\n",
       "      <th>15</th>\n",
       "      <td>professional</td>\n",
       "      <td>professional</td>\n",
       "      <td>3315</td>\n",
       "      <td>3316</td>\n",
       "    </tr>\n",
       "  </tbody>\n",
       "</table>\n",
       "</div>"
      ],
      "text/plain": [
       "          father           son  count  posterior\n",
       "0           farm          farm    703        704\n",
       "1           farm     unskilled   1478       1479\n",
       "2           farm       skilled   1430       1431\n",
       "3           farm  professional   1109       1110\n",
       "4      unskilled          farm     58         59\n",
       "5      unskilled     unskilled   1756       1757\n",
       "6      unskilled       skilled   1630       1631\n",
       "7      unskilled  professional   1568       1569\n",
       "8        skilled          farm     63         64\n",
       "9        skilled     unskilled   1453       1454\n",
       "10       skilled       skilled   2068       2069\n",
       "11       skilled  professional   2483       2484\n",
       "12  professional          farm     61         62\n",
       "13  professional     unskilled    749        750\n",
       "14  professional       skilled   1183       1184\n",
       "15  professional  professional   3315       3316"
      ]
     },
     "execution_count": 3,
     "metadata": {},
     "output_type": "execute_result"
    }
   ],
   "source": [
    "df['posterior'] = df['count'] + 1\n",
    "df"
   ]
  },
  {
   "cell_type": "code",
   "execution_count": 4,
   "id": "stunning-packaging",
   "metadata": {},
   "outputs": [
    {
     "data": {
      "text/html": [
       "<div>\n",
       "<style scoped>\n",
       "    .dataframe tbody tr th:only-of-type {\n",
       "        vertical-align: middle;\n",
       "    }\n",
       "\n",
       "    .dataframe tbody tr th {\n",
       "        vertical-align: top;\n",
       "    }\n",
       "\n",
       "    .dataframe thead th {\n",
       "        text-align: right;\n",
       "    }\n",
       "</style>\n",
       "<table border=\"1\" class=\"dataframe\">\n",
       "  <thead>\n",
       "    <tr style=\"text-align: right;\">\n",
       "      <th></th>\n",
       "      <th>father</th>\n",
       "      <th>son</th>\n",
       "      <th>count</th>\n",
       "      <th>posterior</th>\n",
       "    </tr>\n",
       "  </thead>\n",
       "  <tbody>\n",
       "    <tr>\n",
       "      <th>4</th>\n",
       "      <td>unskilled</td>\n",
       "      <td>farm</td>\n",
       "      <td>58</td>\n",
       "      <td>59</td>\n",
       "    </tr>\n",
       "    <tr>\n",
       "      <th>5</th>\n",
       "      <td>unskilled</td>\n",
       "      <td>unskilled</td>\n",
       "      <td>1756</td>\n",
       "      <td>1757</td>\n",
       "    </tr>\n",
       "    <tr>\n",
       "      <th>6</th>\n",
       "      <td>unskilled</td>\n",
       "      <td>skilled</td>\n",
       "      <td>1630</td>\n",
       "      <td>1631</td>\n",
       "    </tr>\n",
       "    <tr>\n",
       "      <th>7</th>\n",
       "      <td>unskilled</td>\n",
       "      <td>professional</td>\n",
       "      <td>1568</td>\n",
       "      <td>1569</td>\n",
       "    </tr>\n",
       "  </tbody>\n",
       "</table>\n",
       "</div>"
      ],
      "text/plain": [
       "      father           son  count  posterior\n",
       "4  unskilled          farm     58         59\n",
       "5  unskilled     unskilled   1756       1757\n",
       "6  unskilled       skilled   1630       1631\n",
       "7  unskilled  professional   1568       1569"
      ]
     },
     "execution_count": 4,
     "metadata": {},
     "output_type": "execute_result"
    }
   ],
   "source": [
    "df.loc[df['father'] == 'unskilled']"
   ]
  },
  {
   "cell_type": "markdown",
   "id": "industrial-pilot",
   "metadata": {},
   "source": [
    "The `unskilled_skilled` category with index 6 at position 2 represents the situation whereby the father was unskilled and their son was skilled. To calculate the 95% probability of this situaion we use `numpy`."
   ]
  },
  {
   "cell_type": "code",
   "execution_count": 5,
   "id": "adequate-thriller",
   "metadata": {},
   "outputs": [
    {
     "data": {
      "text/plain": [
       "array([[0.01106683, 0.34645241, 0.32544745, 0.31703331],\n",
       "       [0.01312141, 0.34906343, 0.3185286 , 0.31928657],\n",
       "       [0.01200244, 0.35687034, 0.32258678, 0.30854044],\n",
       "       ...,\n",
       "       [0.01128939, 0.35872593, 0.32680765, 0.30317704],\n",
       "       [0.01070704, 0.34433493, 0.31960285, 0.32535518],\n",
       "       [0.01055765, 0.33839927, 0.33159214, 0.31945094]])"
      ]
     },
     "execution_count": 5,
     "metadata": {},
     "output_type": "execute_result"
    }
   ],
   "source": [
    "samples_1 = sts.dirichlet.rvs(list(df.loc[df['father'] == 'unskilled']['posterior']), size=10000)\n",
    "samples_1"
   ]
  },
  {
   "cell_type": "markdown",
   "id": "blocked-fetish",
   "metadata": {},
   "source": [
    "Getting only the `farm` values whereby the father was a farmer. The index of when the child is `skilled` is 2. Therefore we would calculate the dirichlet of index 2."
   ]
  },
  {
   "cell_type": "code",
   "execution_count": 6,
   "id": "noble-smoke",
   "metadata": {},
   "outputs": [
    {
     "name": "stdout",
     "output_type": "stream",
     "text": [
      "95% confidence interval = [0.31200806 0.33808833]\n"
     ]
    }
   ],
   "source": [
    "percentiles = np.percentile(samples_1[:, 2], [2.5, 97.5])\n",
    "\n",
    "print(f\"95% confidence interval = {percentiles}\")"
   ]
  },
  {
   "cell_type": "markdown",
   "id": "compatible-workplace",
   "metadata": {},
   "source": [
    "Doing the same thing for a father that works on the farm and their son works as a professional `farm_professional` index 3"
   ]
  },
  {
   "cell_type": "code",
   "execution_count": 7,
   "id": "tight-decision",
   "metadata": {},
   "outputs": [
    {
     "data": {
      "text/html": [
       "<div>\n",
       "<style scoped>\n",
       "    .dataframe tbody tr th:only-of-type {\n",
       "        vertical-align: middle;\n",
       "    }\n",
       "\n",
       "    .dataframe tbody tr th {\n",
       "        vertical-align: top;\n",
       "    }\n",
       "\n",
       "    .dataframe thead th {\n",
       "        text-align: right;\n",
       "    }\n",
       "</style>\n",
       "<table border=\"1\" class=\"dataframe\">\n",
       "  <thead>\n",
       "    <tr style=\"text-align: right;\">\n",
       "      <th></th>\n",
       "      <th>father</th>\n",
       "      <th>son</th>\n",
       "      <th>count</th>\n",
       "      <th>posterior</th>\n",
       "    </tr>\n",
       "  </thead>\n",
       "  <tbody>\n",
       "    <tr>\n",
       "      <th>0</th>\n",
       "      <td>farm</td>\n",
       "      <td>farm</td>\n",
       "      <td>703</td>\n",
       "      <td>704</td>\n",
       "    </tr>\n",
       "    <tr>\n",
       "      <th>1</th>\n",
       "      <td>farm</td>\n",
       "      <td>unskilled</td>\n",
       "      <td>1478</td>\n",
       "      <td>1479</td>\n",
       "    </tr>\n",
       "    <tr>\n",
       "      <th>2</th>\n",
       "      <td>farm</td>\n",
       "      <td>skilled</td>\n",
       "      <td>1430</td>\n",
       "      <td>1431</td>\n",
       "    </tr>\n",
       "    <tr>\n",
       "      <th>3</th>\n",
       "      <td>farm</td>\n",
       "      <td>professional</td>\n",
       "      <td>1109</td>\n",
       "      <td>1110</td>\n",
       "    </tr>\n",
       "  </tbody>\n",
       "</table>\n",
       "</div>"
      ],
      "text/plain": [
       "  father           son  count  posterior\n",
       "0   farm          farm    703        704\n",
       "1   farm     unskilled   1478       1479\n",
       "2   farm       skilled   1430       1431\n",
       "3   farm  professional   1109       1110"
      ]
     },
     "execution_count": 7,
     "metadata": {},
     "output_type": "execute_result"
    }
   ],
   "source": [
    "df.loc[df['father'] == 'farm']"
   ]
  },
  {
   "cell_type": "code",
   "execution_count": 8,
   "id": "sapphire-property",
   "metadata": {},
   "outputs": [
    {
     "data": {
      "text/plain": [
       "array([[0.14091224, 0.31446584, 0.30177655, 0.24284537],\n",
       "       [0.15314417, 0.3076781 , 0.30600138, 0.23317634],\n",
       "       [0.15071806, 0.31712559, 0.30745668, 0.22469967],\n",
       "       ...,\n",
       "       [0.1603102 , 0.30825725, 0.2979399 , 0.23349265],\n",
       "       [0.1470923 , 0.30712419, 0.31422539, 0.23155812],\n",
       "       [0.15397158, 0.30874266, 0.30031758, 0.23696818]])"
      ]
     },
     "execution_count": 8,
     "metadata": {},
     "output_type": "execute_result"
    }
   ],
   "source": [
    "samples_2 = sts.dirichlet.rvs(list(df.loc[df['father'] == 'farm']['posterior']), size=10000)\n",
    "samples_2"
   ]
  },
  {
   "cell_type": "code",
   "execution_count": 9,
   "id": "offshore-parker",
   "metadata": {},
   "outputs": [
    {
     "name": "stdout",
     "output_type": "stream",
     "text": [
      "95% confidence interval = [0.22293175 0.24720068]\n"
     ]
    }
   ],
   "source": [
    "percentiles = np.percentile(samples_2[:, 3],  [2.5, 97.5])\n",
    "\n",
    "print(f\"95% confidence interval = {percentiles}\")"
   ]
  },
  {
   "cell_type": "code",
   "execution_count": 10,
   "id": "respective-lightweight",
   "metadata": {},
   "outputs": [
    {
     "data": {
      "image/png": "[encoded data removed]",
      "text/plain": [
       "<Figure size 864x432 with 1 Axes>"
      ]
     },
     "metadata": {
      "needs_background": "light"
     },
     "output_type": "display_data"
    }
   ],
   "source": [
    "to_plot = []\n",
    "samples = [samples_1[:, 2], samples_2[:, 3]]\n",
    "plt.figure(figsize=(12, 6))\n",
    "for i in range(2):\n",
    "    y = samples[i]\n",
    "    plt.plot(sts.uniform.rvs(loc=i+1-0.1, scale=0.2, size=len(y)), y, ',', alpha=0.5)\n",
    "plt.title('Distribution')\n",
    "plt.show()"
   ]
  },
  {
   "cell_type": "code",
   "execution_count": 11,
   "id": "funny-bolivia",
   "metadata": {},
   "outputs": [],
   "source": [
    "# Code the type of work with integers\n",
    "farm = 0\n",
    "unskilled = 1\n",
    "skilled = 2\n",
    "professional = 3\n",
    "\n",
    "# Matrix of counts such that, for example, counts[farm][skilled] is the\n",
    "# number of times a father does farm work and a son skilled work.\n",
    "counts = [\n",
    "    [703, 1478, 1430, 1109],\n",
    "    [58, 1756, 1630, 1568],\n",
    "    [63, 1453, 2068, 2483],\n",
    "    [61, 749, 1183, 3315]]"
   ]
  },
  {
   "cell_type": "code",
   "execution_count": 12,
   "id": "little-challenge",
   "metadata": {},
   "outputs": [
    {
     "name": "stderr",
     "output_type": "stream",
     "text": [
      "INFO:pystan:COMPILING THE C++ CODE FOR MODEL anon_model_f51709e4eef7fbe9d0fba9efc1b42b34 NOW.\n"
     ]
    }
   ],
   "source": [
    "# This is a partial Stan model. Look up how to define the multinomial\n",
    "# and dirichlet distributions in your likelihood and prior.\n",
    "\n",
    "stan_code = '''\n",
    "\n",
    "data {\n",
    "    int<lower=1> C;    // number of categories in the multinomial\n",
    "    vector[C] alpha;   // prior hyperparameters for Dirichlet\n",
    "    int counts[C];     // the data set: counts for each category\n",
    "}\n",
    "\n",
    "parameters {\n",
    "    simplex[C] theta;  // the probability vector over categories\n",
    "}\n",
    "\n",
    "model {\n",
    "    theta ~ dirichlet(alpha);\n",
    "    counts ~ multinomial(theta);\n",
    "}\n",
    "'''\n",
    "\n",
    "stan_model = pystan.StanModel(model_code=stan_code)"
   ]
  },
  {
   "cell_type": "code",
   "execution_count": 13,
   "id": "floating-highland",
   "metadata": {},
   "outputs": [
    {
     "name": "stdout",
     "output_type": "stream",
     "text": [
      "Inference for Stan model: anon_model_f51709e4eef7fbe9d0fba9efc1b42b34.\n",
      "4 chains, each with iter=2000; warmup=1000; thin=1; \n",
      "post-warmup draws per chain=1000, total post-warmup draws=4000.\n",
      "\n",
      "           mean se_mean     sd   2.5%    25%    50%    75%  97.5%  n_eff   Rhat\n",
      "theta[1]   0.15  7.6e-5 5.1e-3   0.14   0.15   0.15   0.15   0.16   4523    1.0\n",
      "theta[2]   0.31  1.0e-4 6.8e-3    0.3   0.31   0.31   0.32   0.33   4256    1.0\n",
      "theta[3]    0.3  1.0e-4 6.8e-3   0.29    0.3    0.3   0.31   0.32   4403    1.0\n",
      "theta[4]   0.23  8.7e-5 6.0e-3   0.22   0.23   0.23   0.24   0.25   4757    1.0\n",
      "lp__      -6375    0.03   1.18  -6378  -6376  -6375  -6374  -6374   2156    1.0\n",
      "\n",
      "Samples were drawn using NUTS at Wed Feb 24 16:26:38 2021.\n",
      "For each parameter, n_eff is a crude measure of effective sample size,\n",
      "and Rhat is the potential scale reduction factor on split chains (at \n",
      "convergence, Rhat=1).\n"
     ]
    }
   ],
   "source": [
    "# Results for one row (father = 0)\n",
    "stan_data = {\n",
    "    'C': 4,\n",
    "    'alpha': [1, 1, 1, 1],\n",
    "    'counts': counts[0]}\n",
    "results = stan_model.sampling(data=stan_data)\n",
    "print(results)"
   ]
  },
  {
   "cell_type": "code",
   "execution_count": 14,
   "id": "mysterious-mandate",
   "metadata": {},
   "outputs": [
    {
     "data": {
      "image/png": "[encoded data removed]",
      "text/plain": [
       "<Figure size 864x432 with 1 Axes>"
      ]
     },
     "metadata": {
      "needs_background": "light"
     },
     "output_type": "display_data"
    }
   ],
   "source": [
    "samples = results.extract()\n",
    "plt.figure(figsize=(12, 6))\n",
    "for i in range(4):\n",
    "    plt.plot(sts.uniform.rvs(loc=i+1-0.1, scale=0.2, size=samples['theta'].shape[0]), samples['theta'][:,i], ',', alpha=0.5)\n",
    "plt.title('Distribution over each component of θ for p(son | father is farm worker)')\n",
    "plt.show()"
   ]
  },
  {
   "cell_type": "code",
   "execution_count": 15,
   "id": "foreign-strike",
   "metadata": {},
   "outputs": [
    {
     "name": "stdout",
     "output_type": "stream",
     "text": [
      "Inference for Stan model: anon_model_f51709e4eef7fbe9d0fba9efc1b42b34.\n",
      "4 chains, each with iter=2000; warmup=1000; thin=1; \n",
      "post-warmup draws per chain=1000, total post-warmup draws=4000.\n",
      "\n",
      "           mean se_mean     sd   2.5%    25%    50%    75%  97.5%  n_eff   Rhat\n",
      "theta[1]   0.15  7.7e-5 5.1e-3   0.14   0.15   0.15   0.15   0.16   4333    1.0\n",
      "theta[2]   0.31  9.8e-5 6.7e-3    0.3   0.31   0.31   0.32   0.33   4673    1.0\n",
      "theta[3]    0.3  8.8e-5 6.6e-3   0.29    0.3    0.3   0.31   0.32   5616    1.0\n",
      "theta[4]   0.23  8.6e-5 6.1e-3   0.22   0.23   0.23   0.24   0.25   5033    1.0\n",
      "lp__      -6375    0.03   1.25  -6379  -6376  -6375  -6374  -6374   1944    1.0\n",
      "\n",
      "Samples were drawn using NUTS at Wed Feb 24 16:26:44 2021.\n",
      "For each parameter, n_eff is a crude measure of effective sample size,\n",
      "and Rhat is the potential scale reduction factor on split chains (at \n",
      "convergence, Rhat=1).\n"
     ]
    },
    {
     "name": "stderr",
     "output_type": "stream",
     "text": [
      "WARNING:pystan:4 of 4000 iterations saturated the maximum tree depth of 10 (0.1 %)\n",
      "WARNING:pystan:Run again with max_treedepth larger than 10 to avoid saturation\n"
     ]
    },
    {
     "name": "stdout",
     "output_type": "stream",
     "text": [
      "Inference for Stan model: anon_model_f51709e4eef7fbe9d0fba9efc1b42b34.\n",
      "4 chains, each with iter=2000; warmup=1000; thin=1; \n",
      "post-warmup draws per chain=1000, total post-warmup draws=4000.\n",
      "\n",
      "           mean se_mean     sd   2.5%    25%    50%    75%  97.5%  n_eff   Rhat\n",
      "theta[1]   0.01  2.6e-5 1.5e-3 9.0e-3   0.01   0.01   0.01   0.02   3590    1.0\n",
      "theta[2]   0.35  1.1e-4 6.6e-3   0.34   0.35   0.35   0.35   0.36   3739    1.0\n",
      "theta[3]   0.33  1.1e-4 6.6e-3   0.31   0.32   0.32   0.33   0.34   3698    1.0\n",
      "theta[4]   0.31  1.0e-4 6.4e-3    0.3   0.31   0.31   0.32   0.33   3883    1.0\n",
      "lp__      -5762    0.03   1.19  -5765  -5763  -5762  -5761  -5761   2242    1.0\n",
      "\n",
      "Samples were drawn using NUTS at Wed Feb 24 16:26:45 2021.\n",
      "For each parameter, n_eff is a crude measure of effective sample size,\n",
      "and Rhat is the potential scale reduction factor on split chains (at \n",
      "convergence, Rhat=1).\n",
      "Inference for Stan model: anon_model_f51709e4eef7fbe9d0fba9efc1b42b34.\n",
      "4 chains, each with iter=2000; warmup=1000; thin=1; \n",
      "post-warmup draws per chain=1000, total post-warmup draws=4000.\n",
      "\n",
      "           mean se_mean     sd   2.5%    25%    50%    75%  97.5%  n_eff   Rhat\n",
      "theta[1]   0.01  2.0e-5 1.3e-3 8.1e-3 9.6e-3   0.01   0.01   0.01   4305    1.0\n",
      "theta[2]   0.24  9.1e-5 5.4e-3   0.23   0.24   0.24   0.24   0.25   3556    1.0\n",
      "theta[3]   0.34  9.7e-5 6.0e-3   0.33   0.34   0.34   0.34   0.35   3762    1.0\n",
      "theta[4]   0.41  1.0e-4 6.1e-3    0.4   0.41   0.41   0.41   0.42   3720    1.0\n",
      "lp__      -6817    0.03   1.22  -6821  -6818  -6817  -6817  -6816   1731    1.0\n",
      "\n",
      "Samples were drawn using NUTS at Wed Feb 24 16:26:45 2021.\n",
      "For each parameter, n_eff is a crude measure of effective sample size,\n",
      "and Rhat is the potential scale reduction factor on split chains (at \n",
      "convergence, Rhat=1).\n",
      "Inference for Stan model: anon_model_f51709e4eef7fbe9d0fba9efc1b42b34.\n",
      "4 chains, each with iter=2000; warmup=1000; thin=1; \n",
      "post-warmup draws per chain=1000, total post-warmup draws=4000.\n",
      "\n",
      "           mean se_mean     sd   2.5%    25%    50%    75%  97.5%  n_eff   Rhat\n",
      "theta[1]   0.01  2.0e-5 1.5e-3 8.9e-3   0.01   0.01   0.01   0.01   5369    1.0\n",
      "theta[2]   0.14  7.7e-5 4.8e-3   0.13   0.14   0.14   0.14   0.15   3842    1.0\n",
      "theta[3]   0.22  8.3e-5 5.7e-3   0.21   0.22   0.22   0.23   0.23   4736    1.0\n",
      "theta[4]   0.62  1.1e-4 6.7e-3   0.61   0.62   0.62   0.63   0.64   3712    1.0\n",
      "lp__      -5085    0.03   1.22  -5088  -5086  -5085  -5084  -5084   1869    1.0\n",
      "\n",
      "Samples were drawn using NUTS at Wed Feb 24 16:26:45 2021.\n",
      "For each parameter, n_eff is a crude measure of effective sample size,\n",
      "and Rhat is the potential scale reduction factor on split chains (at \n",
      "convergence, Rhat=1).\n"
     ]
    }
   ],
   "source": [
    "stan_data = {\n",
    "    'C': 4,\n",
    "    'alpha': [1, 1, 1, 1],\n",
    "    'counts': ...}\n",
    "\n",
    "results = []\n",
    "for i in range(4):\n",
    "    stan_data['counts'] = counts[i]\n",
    "    results.append(stan_model.sampling(data=stan_data))\n",
    "    print(results[-1])"
   ]
  },
  {
   "cell_type": "code",
   "execution_count": 16,
   "id": "parliamentary-bones",
   "metadata": {},
   "outputs": [
    {
     "data": {
      "text/plain": [
       "array([[0.14894479, 0.31324416, 0.3029574 , 0.23485366],\n",
       "       [0.01180316, 0.35022234, 0.32519654, 0.31277797],\n",
       "       [0.01054367, 0.23942958, 0.34081302, 0.40921373],\n",
       "       [0.01167708, 0.14119821, 0.22285927, 0.62426545]])"
      ]
     },
     "execution_count": 16,
     "metadata": {},
     "output_type": "execute_result"
    }
   ],
   "source": [
    "# Calculate the transition matrix of the type of work a son does, conditioned on the type\n",
    "# of work his father does. That is, calculate a matrix, M, such that M[i,j] is the\n",
    "# probability that the son does type of work j given that the father does type of work i.\n",
    "\n",
    "M = np.empty((4, 4))\n",
    "for i, result in enumerate(results):\n",
    "    samples = result.extract()\n",
    "    M[i,:] = samples['theta'].mean(axis=0)\n",
    "M"
   ]
  },
  {
   "cell_type": "code",
   "execution_count": 17,
   "id": "premium-child",
   "metadata": {},
   "outputs": [
    {
     "data": {
      "image/png": "[encoded data removed]",
      "text/plain": [
       "<Figure size 432x288 with 2 Axes>"
      ]
     },
     "metadata": {
      "needs_background": "light"
     },
     "output_type": "display_data"
    }
   ],
   "source": [
    "plt.imshow(M, vmin=0, vmax=1)\n",
    "plt.xticks([0, 1, 2, 3], ['farm', 'unskilled', 'skilled', 'professional'])\n",
    "plt.xlabel('son')\n",
    "plt.yticks([0, 1, 2, 3], ['farm', 'unskilled', 'skilled', 'professional'])\n",
    "plt.ylabel('father')\n",
    "plt.title(\"Probability of son's profession conditioned on father's profession\")\n",
    "plt.colorbar()\n",
    "plt.show()"
   ]
  }
 ],
 "metadata": {
  "kernelspec": {
   "display_name": "Python 3",
   "language": "python",
   "name": "python3"
  },
  "language_info": {
   "codemirror_mode": {
    "name": "ipython",
    "version": 3
   },
   "file_extension": ".py",
   "mimetype": "text/x-python",
   "name": "python",
   "nbconvert_exporter": "python",
   "pygments_lexer": "ipython3",
   "version": "3.7.9"
  }
 },
 "nbformat": 4,
 "nbformat_minor": 5
}
