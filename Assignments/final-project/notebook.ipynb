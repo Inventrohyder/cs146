{
 "cells": [
  {
   "cell_type": "code",
   "execution_count": 1,
   "id": "premier-relevance",
   "metadata": {
    "id": "premier-relevance"
   },
   "outputs": [],
   "source": [
    "import pandas as pd\n",
    "import numpy as np\n",
    "from datetime import datetime, date\n",
    "\n",
    "from sklearn.linear_model import LinearRegression\n",
    "\n",
    "import pystan\n",
    "\n",
    "import matplotlib.pyplot as plt"
   ]
  },
  {
   "cell_type": "code",
   "execution_count": 2,
   "id": "coupled-creation",
   "metadata": {
    "colab": {
     "base_uri": "https://localhost:8080/"
    },
    "id": "coupled-creation",
    "outputId": "f5c89882-dbfb-4e4c-bf2b-8a2784a20e33"
   },
   "outputs": [
    {
     "data": {
      "text/plain": [
       "<contextlib._GeneratorContextManager at 0x7f5cb7d9ebd0>"
      ]
     },
     "execution_count": 2,
     "metadata": {
      "tags": []
     },
     "output_type": "execute_result"
    }
   ],
   "source": [
    "plt.style.context('seaborn')"
   ]
  },
  {
   "cell_type": "code",
   "execution_count": 96,
   "id": "narrative-sharp",
   "metadata": {
    "colab": {
     "base_uri": "https://localhost:8080/",
     "height": 204
    },
    "id": "narrative-sharp",
    "outputId": "dc97b9fa-743b-4203-90dd-f21851dec6a5"
   },
   "outputs": [
    {
     "data": {
      "text/html": [
       "<div>\n",
       "<style scoped>\n",
       "    .dataframe tbody tr th:only-of-type {\n",
       "        vertical-align: middle;\n",
       "    }\n",
       "\n",
       "    .dataframe tbody tr th {\n",
       "        vertical-align: top;\n",
       "    }\n",
       "\n",
       "    .dataframe thead th {\n",
       "        text-align: right;\n",
       "    }\n",
       "</style>\n",
       "<table border=\"1\" class=\"dataframe\">\n",
       "  <thead>\n",
       "    <tr style=\"text-align: right;\">\n",
       "      <th></th>\n",
       "      <th>date</th>\n",
       "      <th>level_ppm</th>\n",
       "    </tr>\n",
       "  </thead>\n",
       "  <tbody>\n",
       "    <tr>\n",
       "      <th>0</th>\n",
       "      <td>1958-03-29</td>\n",
       "      <td>316.25</td>\n",
       "    </tr>\n",
       "    <tr>\n",
       "      <th>1</th>\n",
       "      <td>1958-04-05</td>\n",
       "      <td>317.25</td>\n",
       "    </tr>\n",
       "    <tr>\n",
       "      <th>2</th>\n",
       "      <td>1958-04-12</td>\n",
       "      <td>317.75</td>\n",
       "    </tr>\n",
       "    <tr>\n",
       "      <th>3</th>\n",
       "      <td>1958-04-19</td>\n",
       "      <td>317.50</td>\n",
       "    </tr>\n",
       "    <tr>\n",
       "      <th>4</th>\n",
       "      <td>1958-04-26</td>\n",
       "      <td>316.50</td>\n",
       "    </tr>\n",
       "  </tbody>\n",
       "</table>\n",
       "</div>"
      ],
      "text/plain": [
       "        date  level_ppm\n",
       "0 1958-03-29     316.25\n",
       "1 1958-04-05     317.25\n",
       "2 1958-04-12     317.75\n",
       "3 1958-04-19     317.50\n",
       "4 1958-04-26     316.50"
      ]
     },
     "execution_count": 96,
     "metadata": {},
     "output_type": "execute_result"
    }
   ],
   "source": [
    "df = pd.read_csv(\n",
    "    'https://scrippsco2.ucsd.edu/assets/data/atmospheric/stations/in_situ_co2/weekly/weekly_in_situ_co2_mlo.csv', \n",
    "    header=None, \n",
    "    parse_dates=[0], \n",
    "    dtype={1: np.float16}, \n",
    "    names=['date', 'level_ppm']\n",
    ")\n",
    "df.head()"
   ]
  },
  {
   "cell_type": "code",
   "execution_count": 97,
   "id": "spatial-cancellation",
   "metadata": {
    "colab": {
     "base_uri": "https://localhost:8080/"
    },
    "id": "spatial-cancellation",
    "outputId": "2d8d1c0c-7055-4920-a553-1a2cd164a3dd"
   },
   "outputs": [
    {
     "name": "stdout",
     "output_type": "stream",
     "text": [
      "<class 'pandas.core.frame.DataFrame'>\n",
      "RangeIndex: 3210 entries, 0 to 3209\n",
      "Data columns (total 2 columns):\n",
      " #   Column     Non-Null Count  Dtype         \n",
      "---  ------     --------------  -----         \n",
      " 0   date       3210 non-null   datetime64[ns]\n",
      " 1   level_ppm  3210 non-null   float16       \n",
      "dtypes: datetime64[ns](1), float16(1)\n",
      "memory usage: 31.5 KB\n"
     ]
    }
   ],
   "source": [
    "df.info()"
   ]
  },
  {
   "cell_type": "code",
   "execution_count": 5,
   "id": "located-rehabilitation",
   "metadata": {
    "colab": {
     "base_uri": "https://localhost:8080/",
     "height": 404
    },
    "id": "located-rehabilitation",
    "outputId": "474d5b6e-230c-4aad-9b5a-9ccd8d863211"
   },
   "outputs": [
    {
     "name": "stderr",
     "output_type": "stream",
     "text": [
      "INFO:numexpr.utils:NumExpr defaulting to 2 threads.\n"
     ]
    },
    {
     "data": {
      "image/png": "[encoded data removed]",
      "text/plain": [
       "<Figure size 864x432 with 1 Axes>"
      ]
     },
     "metadata": {
      "needs_background": "light",
      "tags": []
     },
     "output_type": "display_data"
    }
   ],
   "source": [
    "df.plot('date', 'level_ppm', figsize=(12, 6), grid=True)\n",
    "plt.ylabel('CO$^2$ ppm level')\n",
    "plt.xlabel('Date')\n",
    "plt.title('Observed CO$^2$ ppm levels from Mauna Loa Observatory')\n",
    "plt.savefig('observed_data.png')"
   ]
  },
  {
   "cell_type": "code",
   "execution_count": 98,
   "id": "prospective-minute",
   "metadata": {
    "colab": {
     "base_uri": "https://localhost:8080/",
     "height": 204
    },
    "id": "prospective-minute",
    "outputId": "5810442e-1d66-48d9-c3e6-2d49f37d6757"
   },
   "outputs": [
    {
     "data": {
      "text/html": [
       "<div>\n",
       "<style scoped>\n",
       "    .dataframe tbody tr th:only-of-type {\n",
       "        vertical-align: middle;\n",
       "    }\n",
       "\n",
       "    .dataframe tbody tr th {\n",
       "        vertical-align: top;\n",
       "    }\n",
       "\n",
       "    .dataframe thead th {\n",
       "        text-align: right;\n",
       "    }\n",
       "</style>\n",
       "<table border=\"1\" class=\"dataframe\">\n",
       "  <thead>\n",
       "    <tr style=\"text-align: right;\">\n",
       "      <th></th>\n",
       "      <th>date</th>\n",
       "      <th>level_ppm</th>\n",
       "      <th>ordinal</th>\n",
       "    </tr>\n",
       "  </thead>\n",
       "  <tbody>\n",
       "    <tr>\n",
       "      <th>0</th>\n",
       "      <td>1958-03-29</td>\n",
       "      <td>316.25</td>\n",
       "      <td>714867</td>\n",
       "    </tr>\n",
       "    <tr>\n",
       "      <th>1</th>\n",
       "      <td>1958-04-05</td>\n",
       "      <td>317.25</td>\n",
       "      <td>714874</td>\n",
       "    </tr>\n",
       "    <tr>\n",
       "      <th>2</th>\n",
       "      <td>1958-04-12</td>\n",
       "      <td>317.75</td>\n",
       "      <td>714881</td>\n",
       "    </tr>\n",
       "    <tr>\n",
       "      <th>3</th>\n",
       "      <td>1958-04-19</td>\n",
       "      <td>317.50</td>\n",
       "      <td>714888</td>\n",
       "    </tr>\n",
       "    <tr>\n",
       "      <th>4</th>\n",
       "      <td>1958-04-26</td>\n",
       "      <td>316.50</td>\n",
       "      <td>714895</td>\n",
       "    </tr>\n",
       "  </tbody>\n",
       "</table>\n",
       "</div>"
      ],
      "text/plain": [
       "        date  level_ppm  ordinal\n",
       "0 1958-03-29     316.25   714867\n",
       "1 1958-04-05     317.25   714874\n",
       "2 1958-04-12     317.75   714881\n",
       "3 1958-04-19     317.50   714888\n",
       "4 1958-04-26     316.50   714895"
      ]
     },
     "execution_count": 98,
     "metadata": {},
     "output_type": "execute_result"
    }
   ],
   "source": [
    "df['ordinal'] = df['date'].apply(datetime.toordinal)\n",
    "df.head()"
   ]
  },
  {
   "cell_type": "code",
   "execution_count": 7,
   "id": "eleven-favorite",
   "metadata": {
    "id": "eleven-favorite"
   },
   "outputs": [],
   "source": [
    "last_date = date(2060, 2, 1)\n",
    "future_dates = pd.date_range(start=max(df['date']),end=last_date, freq='7d').to_series()\n",
    "future_dates_ordinal = future_dates.apply(datetime.toordinal)\n",
    "stan_data = {\n",
    "    'N': len(df),\n",
    "    'y': df['level_ppm'],\n",
    "    'x': df['ordinal'],\n",
    "    'nFutureCount': len(future_dates),\n",
    "    'futureDays': future_dates_ordinal\n",
    "}\n",
    "to_predict_dates = df['date'].append(future_dates)\n",
    "to_predict = to_predict_dates.apply(datetime.toordinal)"
   ]
  },
  {
   "cell_type": "code",
   "execution_count": 8,
   "id": "abstract-asbestos",
   "metadata": {
    "colab": {
     "base_uri": "https://localhost:8080/"
    },
    "id": "abstract-asbestos",
    "outputId": "0e4e9ea7-4479-4747-87e7-3021229448c3"
   },
   "outputs": [
    {
     "data": {
      "text/plain": [
       "LinearRegression(copy_X=True, fit_intercept=True, n_jobs=-1, normalize=False)"
      ]
     },
     "execution_count": 8,
     "metadata": {
      "tags": []
     },
     "output_type": "execute_result"
    }
   ],
   "source": [
    "# Generate starting points for the models\n",
    "lr = LinearRegression(n_jobs=-1)\n",
    "lr.fit(\n",
    "    X = df[['ordinal']],\n",
    "    y = df[['level_ppm']]\n",
    ")"
   ]
  },
  {
   "cell_type": "code",
   "execution_count": 17,
   "id": "referenced-acoustic",
   "metadata": {
    "colab": {
     "base_uri": "https://localhost:8080/"
    },
    "id": "referenced-acoustic",
    "outputId": "69b1663f-220d-41bb-b8a5-199e0681acb0"
   },
   "outputs": [
    {
     "name": "stderr",
     "output_type": "stream",
     "text": [
      "INFO:pystan:COMPILING THE C++ CODE FOR MODEL anon_model_e09ee87c492d075e470a0e6350380faa NOW.\n"
     ]
    },
    {
     "name": "stdout",
     "output_type": "stream",
     "text": [
      "CPU times: user 1.41 s, sys: 92.9 ms, total: 1.51 s\n",
      "Wall time: 59.2 s\n"
     ]
    }
   ],
   "source": [
    "%%time\n",
    "bad_stan:str = \"\"\"\n",
    "data {\n",
    "    int<lower=1> N;\n",
    "    vector[N] y;\n",
    "    vector[N] x;  // Ordinal date\n",
    "    int<lower=1> nFutureCount;\n",
    "    vector[nFutureCount] futureDays; // The future days to make predictions for\n",
    "}\n",
    "\n",
    "parameters {\n",
    "    // Linear relationship\n",
    "    real<lower=-10000, upper=10000>t_intercept;\n",
    "    real<lower=0, upper=1>t_coef;  // Prior knowledge informs us of increasing c02 levels\n",
    "    // Seasonal variation\n",
    "    real<lower=0, upper=5> c2;\n",
    "    real<lower=-2, upper=2> c3;\n",
    "    real<lower=0>sigma;  // Standard deviation has to be positive\n",
    "}\n",
    "\n",
    "model {\n",
    "    t_intercept ~ cauchy(-2800, 100);\n",
    "    t_coef ~ cauchy(0.005, 0.01);\n",
    "    c2 ~ cauchy(2.5, 1);\n",
    "    c3 ~ cauchy(0, 1);\n",
    "    y ~ normal(\n",
    "        t_intercept + t_coef*x + c2 * cos(2 * pi() * x / 365.25 + c3),\n",
    "        sigma\n",
    "    );\n",
    "}\n",
    "\n",
    "generated quantities {\n",
    "   real x_future[nFutureCount];\n",
    "   for (t in 1:nFutureCount){\n",
    "       x_future[t] = normal_rng(\n",
    "           t_intercept + t_coef*(futureDays[t]) + c2 * cos(2 * pi() * (futureDays[t]) / 365.25 + c3),\n",
    "           sigma\n",
    "       );\n",
    "   }\n",
    "}\n",
    "\"\"\"\n",
    "bad_stan_model = pystan.StanModel(model_code=bad_stan)"
   ]
  },
  {
   "cell_type": "code",
   "execution_count": 18,
   "id": "inner-chester",
   "metadata": {
    "colab": {
     "base_uri": "https://localhost:8080/"
    },
    "id": "inner-chester",
    "outputId": "9d3a0d7b-6cd2-49d9-a9bc-946a0b72cfc8"
   },
   "outputs": [
    {
     "name": "stderr",
     "output_type": "stream",
     "text": [
      "WARNING:pystan:Maximum (flat) parameter count (1000) exceeded: skipping diagnostic tests for n_eff and Rhat.\n",
      "To run all diagnostics call pystan.check_hmc_diagnostics(fit)\n"
     ]
    },
    {
     "name": "stdout",
     "output_type": "stream",
     "text": [
      "Inference for Stan model: anon_model_e09ee87c492d075e470a0e6350380faa.\n",
      "4 chains, each with iter=2000; warmup=1000; thin=1; \n",
      "post-warmup draws per chain=1000, total post-warmup draws=4000.\n",
      "\n",
      "              mean se_mean     sd   2.5%    25%    50%    75%  97.5%  n_eff   Rhat\n",
      "t_intercept  -2812    0.26   7.61  -2827  -2817  -2812  -2806  -2797    891    1.0\n",
      "t_coef      4.4e-3  3.5e-7 1.0e-5 4.3e-3 4.4e-3 4.4e-3 4.4e-3 4.4e-3    891    1.0\n",
      "c2            2.83  1.8e-3    0.1   2.63   2.76   2.83   2.89   3.02   3029    1.0\n",
      "c3           -1.66  7.8e-4   0.04  -1.73  -1.68  -1.66  -1.64  -1.59   2176    1.0\n",
      "sigma          4.0  8.2e-4   0.05    3.9   3.97    4.0   4.03   4.09   3609    1.0\n",
      "\n",
      "Samples were drawn using NUTS at Sun Apr 25 13:38:16 2021.\n",
      "For each parameter, n_eff is a crude measure of effective sample size,\n",
      "and Rhat is the potential scale reduction factor on split chains (at \n",
      "convergence, Rhat=1).\n",
      "CPU times: user 11.8 s, sys: 2.18 s, total: 13.9 s\n",
      "Wall time: 40min 58s\n"
     ]
    }
   ],
   "source": [
    "%%time\n",
    "bad_parameters = ['t_intercept', 't_coef', 'c2', 'c3', 'sigma']\n",
    "bad_results = bad_stan_model.sampling(\n",
    "    data=stan_data,\n",
    "    control = {\"max_treedepth\": 15},\n",
    "    init=[{\n",
    "        't_intercept': lr.intercept_[0],\n",
    "        't_coef': lr.coef_[0][0]\n",
    "    }] * 4\n",
    ")\n",
    "print(bad_results.stansummary(pars=bad_parameters))\n",
    "bad_samples = bad_results.extract()"
   ]
  },
  {
   "cell_type": "code",
   "execution_count": 19,
   "id": "cutting-exercise",
   "metadata": {
    "colab": {
     "base_uri": "https://localhost:8080/"
    },
    "id": "cutting-exercise",
    "outputId": "e43ac21b-9b79-4969-d34a-53d931c90696"
   },
   "outputs": [
    {
     "name": "stdout",
     "output_type": "stream",
     "text": [
      "CPU times: user 7.26 s, sys: 30.3 ms, total: 7.29 s\n",
      "Wall time: 7.33 s\n"
     ]
    },
    {
     "data": {
      "text/plain": [
       "{'Rhat': True,\n",
       " 'divergence': True,\n",
       " 'energy': True,\n",
       " 'n_eff': True,\n",
       " 'treedepth': True}"
      ]
     },
     "execution_count": 19,
     "metadata": {
      "tags": []
     },
     "output_type": "execute_result"
    }
   ],
   "source": [
    "%%time\n",
    "pystan.check_hmc_diagnostics(bad_results)"
   ]
  },
  {
   "cell_type": "code",
   "execution_count": 9,
   "id": "premium-mixer",
   "metadata": {
    "id": "premium-mixer"
   },
   "outputs": [],
   "source": [
    "def get_parameter(parameter:str, results, func = np.mean) -> float:\n",
    "    return np.mean(results[parameter])"
   ]
  },
  {
   "cell_type": "code",
   "execution_count": 21,
   "id": "gorgeous-ratio",
   "metadata": {
    "id": "gorgeous-ratio"
   },
   "outputs": [],
   "source": [
    "# Model parameters\n",
    "bad_t_intercept = get_parameter('t_intercept', bad_results)\n",
    "bad_t_coef = get_parameter('t_coef', bad_results)\n",
    "bad_c2 = get_parameter('c2', bad_results)\n",
    "bad_c3 = get_parameter('c3', bad_results)"
   ]
  },
  {
   "cell_type": "code",
   "execution_count": 22,
   "id": "hungry-mississippi",
   "metadata": {
    "id": "hungry-mississippi"
   },
   "outputs": [],
   "source": [
    "# Stan model future predictions output\n",
    "bad_prediction = bad_samples['x_future']\n",
    "\n",
    "# Compute 95% interval of the predicted values\n",
    "bad_prediction_interval = np.percentile(bad_prediction, axis=0, q=[2.5, 97.5])"
   ]
  },
  {
   "cell_type": "code",
   "execution_count": 23,
   "id": "painful-davis",
   "metadata": {
    "colab": {
     "base_uri": "https://localhost:8080/",
     "height": 523
    },
    "id": "painful-davis",
    "outputId": "f419b36a-8111-4dd3-d433-082a6ddedf63"
   },
   "outputs": [
    {
     "data": {
      "image/png": "[encoded data removed]",
      "text/plain": [
       "<Figure size 1080x576 with 1 Axes>"
      ]
     },
     "metadata": {
      "needs_background": "light",
      "tags": []
     },
     "output_type": "display_data"
    }
   ],
   "source": [
    "fig = plt.figure(figsize=(15, 8))\n",
    "ax = fig.add_subplot()\n",
    "\n",
    "fig.suptitle('Bad [Default] Model', fontsize=14, fontweight='bold')\n",
    "# Observed data\n",
    "df.plot('date', 'level_ppm', ax=ax, grid=True, label='observed')\n",
    "\n",
    "# 95% confidence interval lower and upper bounds\n",
    "ax.plot(\n",
    "    future_dates,\n",
    "    np.concatenate((df['level_ppm'][-1:], bad_prediction_interval[0,1:])),\n",
    "    'b-', label='prediction 95% interval')\n",
    "ax.plot(\n",
    "    future_dates,\n",
    "    np.concatenate((df['level_ppm'][-1:], bad_prediction_interval[1,1:])),\n",
    "    'b-')\n",
    "\n",
    "# Model\n",
    "model_predictions = bad_t_intercept + bad_t_coef* to_predict + bad_c2 * np.cos(2 * np.pi * to_predict / 365.25 + bad_c3)\n",
    "ax.plot(to_predict_dates, model_predictions, label=\"Model\")\n",
    "\n",
    "# Last observed date line\n",
    "ax.axvline(max(df['date']), color='red')\n",
    "ax.set_xlabel('Date')\n",
    "ax.set_ylabel('CO$^2$ ppm level')\n",
    "ax.legend()\n",
    "ax.set_title('Observed data, unobserved future data, and predicted 95% interval')\n",
    "ax.text(\n",
    "    date(1959, 11, 1), 425, \n",
    "    r'Model equation: $intercept + coef \\cdot t + c_2 \\cos(2 \\pi \\cdot \\frac{t}{365.25} + c_3$)', \n",
    "    fontsize=15, bbox={'facecolor': 'orange', 'alpha': 0.5, 'pad': 10}\n",
    ")\n",
    "plt.savefig('bad_model.png')\n",
    "plt.show()"
   ]
  },
  {
   "cell_type": "code",
   "execution_count": 39,
   "id": "FB9uzcDO8-dh",
   "metadata": {
    "colab": {
     "base_uri": "https://localhost:8080/"
    },
    "id": "FB9uzcDO8-dh",
    "outputId": "88211f5d-a3db-4b9b-df53-6edd82060f8e"
   },
   "outputs": [
    {
     "data": {
      "text/plain": [
       "0       2.043915\n",
       "1       2.043929\n",
       "2       2.043943\n",
       "3       2.043958\n",
       "4       2.043972\n",
       "          ...   \n",
       "3205    2.091342\n",
       "3206    2.091357\n",
       "3207    2.091371\n",
       "3208    2.091386\n",
       "3209    2.091401\n",
       "Name: ordinal, Length: 3210, dtype: float64"
      ]
     },
     "execution_count": 39,
     "metadata": {
      "tags": []
     },
     "output_type": "execute_result"
    }
   ],
   "source": [
    "np.exp(df['ordinal']*0.000001)"
   ]
  },
  {
   "cell_type": "code",
   "execution_count": 31,
   "id": "8g3CWQ-Z7gfW",
   "metadata": {
    "colab": {
     "base_uri": "https://localhost:8080/",
     "height": 286
    },
    "id": "8g3CWQ-Z7gfW",
    "outputId": "005eb074-f3ac-4202-c970-ed12b500122c"
   },
   "outputs": [
    {
     "data": {
      "text/plain": [
       "[<matplotlib.lines.Line2D at 0x7f5caf6dc650>]"
      ]
     },
     "execution_count": 31,
     "metadata": {
      "tags": []
     },
     "output_type": "execute_result"
    },
    {
     "data": {
      "image/png": "[encoded data removed]",
      "text/plain": [
       "<Figure size 432x288 with 1 Axes>"
      ]
     },
     "metadata": {
      "needs_background": "light",
      "tags": []
     },
     "output_type": "display_data"
    }
   ],
   "source": [
    "df.plot('date', 'level_ppm')\n",
    "plt.plot(\n",
    "    df['date'],\n",
    "    -2800 + 0.004 * df['ordinal'] + 0.5 * np.exp(np.log(df['ordinal']) * 0.45)\n",
    ")"
   ]
  },
  {
   "cell_type": "code",
   "execution_count": 40,
   "id": "outside-settlement",
   "metadata": {
    "colab": {
     "base_uri": "https://localhost:8080/"
    },
    "id": "outside-settlement",
    "outputId": "f642425c-26a0-427c-de94-9c8053d75626"
   },
   "outputs": [
    {
     "name": "stderr",
     "output_type": "stream",
     "text": [
      "INFO:pystan:COMPILING THE C++ CODE FOR MODEL anon_model_8dd21c7679a168384f7944066446ecec NOW.\n"
     ]
    },
    {
     "name": "stdout",
     "output_type": "stream",
     "text": [
      "CPU times: user 1.28 s, sys: 245 ms, total: 1.52 s\n",
      "Wall time: 1min 7s\n"
     ]
    }
   ],
   "source": [
    "%%time\n",
    "good_stan: str = \"\"\"\n",
    "data {\n",
    "    int<lower=1> N;\n",
    "    vector[N] y;\n",
    "    vector[N] x;  // Ordinal date\n",
    "    int<lower=1> nFutureCount;\n",
    "    vector[nFutureCount] futureDays; // The future days to make predictions for\n",
    "}\n",
    "\n",
    "parameters {\n",
    "  //posterior parameters \n",
    "      // Trend relationship\n",
    "    real<lower=0> t_intercept;\n",
    "    real<lower=0> a;  // (scaling factor) Cannot be below 0\n",
    "    real<lower=0> b; // Prior knowledge informs us of increasing CO2 levels\n",
    "    // real<lower=1, upper=5> c;\n",
    "    // Seasonal variation\n",
    "    real c2;\n",
    "    real<lower=-2, upper=2> c3;\n",
    "    real<lower=0>sigma;  // Standard deviation has to be positive\n",
    "}\n",
    "\n",
    "model {\n",
    "  //non-informative gaussian priors\n",
    "  b ~ normal(0, 5); \n",
    "  t_intercept ~ normal(300, 3);\n",
    "\n",
    "  //likelihood function \n",
    "    for(t in 1:N){\n",
    "      y[t]~normal(\n",
    "        t_intercept + a*x[t] + b*x[t]^1.5 + c2 * cos(2 * pi() * x[t] / 365.25 + c3), \n",
    "        sigma\n",
    "      );\n",
    "    }\n",
    "\n",
    "}\n",
    "//for predictions into the future\n",
    "generated quantities {\n",
    "  real x_future[nFutureCount];\n",
    "  for (t in 1:nFutureCount){\n",
    "    x_future[t] = normal_rng(\n",
    "        t_intercept + a*futureDays[t] + b*futureDays[t]^1.5 + c2 * cos(2 * pi() * futureDays[t] / 365.25 + c3),\n",
    "        sigma\n",
    "    );\n",
    "  }\n",
    "}\n",
    "\"\"\"\n",
    "good_stan_model = pystan.StanModel(model_code=good_stan)"
   ]
  },
  {
   "cell_type": "code",
   "execution_count": 61,
   "id": "occupied-pension",
   "metadata": {
    "id": "occupied-pension"
   },
   "outputs": [
    {
     "name": "stderr",
     "output_type": "stream",
     "text": [
      "WARNING:pystan:Maximum (flat) parameter count (1000) exceeded: skipping diagnostic tests for n_eff and Rhat.\n",
      "To run all diagnostics call pystan.check_hmc_diagnostics(fit)\n",
      "WARNING:pystan:281 of 4000 iterations ended with a divergence (7.03 %).\n",
      "WARNING:pystan:Try running with adapt_delta larger than 2 to remove the divergences.\n"
     ]
    },
    {
     "name": "stdout",
     "output_type": "stream",
     "text": [
      "Inference for Stan model: anon_model_8dd21c7679a168384f7944066446ecec.\n",
      "4 chains, each with iter=2000; warmup=1000; thin=1; \n",
      "post-warmup draws per chain=1000, total post-warmup draws=4000.\n",
      "\n",
      "              mean se_mean     sd   2.5%    25%    50%    75%  97.5%  n_eff   Rhat\n",
      "t_intercept 286.23    0.11   2.99 280.23 284.24 286.17 288.31 292.02    680    1.0\n",
      "a           2.3e-6  1.4e-7 2.0e-6 7.7e-8 7.3e-7 1.7e-6 3.4e-6 7.6e-6    204   1.02\n",
      "b           1.1e-7 2.9e-10 5.4e-9 1.0e-7 1.1e-7 1.1e-7 1.1e-7 1.2e-7    353   1.01\n",
      "c2           -0.63     1.4   2.68  -3.86  -2.78  -2.11   2.44   3.71      4   2.27\n",
      "c3            0.31    0.82   1.49  -1.88  -1.47   1.27   1.53   1.87      3   2.54\n",
      "sigma        27.99  9.5e-3   0.34  27.33  27.76   28.0  28.22  28.66   1246   1.01\n",
      "\n",
      "Samples were drawn using NUTS at Mon Apr 26 09:13:58 2021.\n",
      "For each parameter, n_eff is a crude measure of effective sample size,\n",
      "and Rhat is the potential scale reduction factor on split chains (at \n",
      "convergence, Rhat=1).\n",
      "CPU times: user 513 ms, sys: 496 ms, total: 1.01 s\n",
      "Wall time: 5min 50s\n"
     ]
    }
   ],
   "source": [
    "%%time\n",
    "good_parameters = ['t_intercept', 'a', 'b', 'c2', 'c3', 'sigma']\n",
    "good_results = good_stan_model.sampling(\n",
    "    data=stan_data,\n",
    "    control = {\n",
    "#         'max_treedepth': 15, \n",
    "        'adapt_delta': 2\n",
    "    }\n",
    ")\n",
    "print(good_results.stansummary(pars=good_parameters))\n",
    "good_samples = good_results.extract()"
   ]
  },
  {
   "cell_type": "code",
   "execution_count": 62,
   "id": "nasty-nickname",
   "metadata": {
    "id": "nasty-nickname"
   },
   "outputs": [
    {
     "name": "stderr",
     "output_type": "stream",
     "text": [
      "WARNING:pystan:n_eff / iter below 0.001 indicates that the effective sample size has likely been overestimated\n",
      "WARNING:pystan:Rhat above 1.1 or below 0.9 indicates that the chains very likely have not mixed\n",
      "WARNING:pystan:281 of 4000 iterations ended with a divergence (7.03 %).\n",
      "WARNING:pystan:Try running with adapt_delta larger than 2 to remove the divergences.\n"
     ]
    },
    {
     "name": "stdout",
     "output_type": "stream",
     "text": [
      "CPU times: user 24.5 ms, sys: 2.78 ms, total: 27.3 ms\n",
      "Wall time: 27.1 ms\n"
     ]
    },
    {
     "data": {
      "text/plain": [
       "{'n_eff': False,\n",
       " 'Rhat': False,\n",
       " 'divergence': False,\n",
       " 'treedepth': True,\n",
       " 'energy': True}"
      ]
     },
     "execution_count": 62,
     "metadata": {},
     "output_type": "execute_result"
    }
   ],
   "source": [
    "%%time\n",
    "pystan.check_hmc_diagnostics(good_results)"
   ]
  },
  {
   "cell_type": "code",
   "execution_count": 63,
   "id": "expanded-offset",
   "metadata": {
    "id": "expanded-offset"
   },
   "outputs": [],
   "source": [
    "# Model parameters\n",
    "good_t_intercept = get_parameter('t_intercept', good_results)\n",
    "good_a = get_parameter('a', good_results)\n",
    "good_b = get_parameter('b', good_results)\n",
    "# good_c = get_parameter('c', good_results)\n",
    "good_c2 = get_parameter('c2', good_results)\n",
    "good_c3 = get_parameter('c3', good_results)"
   ]
  },
  {
   "cell_type": "code",
   "execution_count": 64,
   "id": "opened-giving",
   "metadata": {
    "id": "opened-giving"
   },
   "outputs": [],
   "source": [
    "# Stan model future predictions output\n",
    "good_prediction = good_samples['x_future']\n",
    "\n",
    "# Compute 95% interval of the predicted values\n",
    "good_prediction_interval = np.percentile(good_prediction, axis=0, q=[2.5, 97.5])"
   ]
  },
  {
   "cell_type": "code",
   "execution_count": 65,
   "id": "diverse-planet",
   "metadata": {
    "id": "diverse-planet",
    "outputId": "4949ea1b-1b54-4c91-db14-bf685d19b2c6"
   },
   "outputs": [
    {
     "data": {
      "text/plain": [
       "<matplotlib.legend.Legend at 0x7ffa80dffd50>"
      ]
     },
     "execution_count": 65,
     "metadata": {},
     "output_type": "execute_result"
    },
    {
     "data": {
      "image/png": "[encoded data removed]",
      "text/plain": [
       "<Figure size 1080x576 with 1 Axes>"
      ]
     },
     "metadata": {
      "needs_background": "light"
     },
     "output_type": "display_data"
    }
   ],
   "source": [
    "fig = plt.figure(figsize=(15, 8))\n",
    "ax = fig.add_subplot()\n",
    "\n",
    "fig.suptitle('Good Model', fontsize=14, fontweight='bold')\n",
    "# Observed data\n",
    "df.plot('date', 'level_ppm', ax=ax, grid=True, label='observed')\n",
    "\n",
    "# 95% confidence interval lower and upper bounds\n",
    "ax.plot(\n",
    "    future_dates,\n",
    "    np.concatenate((df['level_ppm'][-1:], good_prediction_interval[0,1:])),\n",
    "    'b-', label='prediction 95% interval')\n",
    "ax.plot(\n",
    "    future_dates,\n",
    "    np.concatenate((df['level_ppm'][-1:], good_prediction_interval[1,1:])),\n",
    "    'b-')\n",
    "\n",
    "# Model\n",
    "model_predictions =  good_t_intercept + good_a * to_predict + good_b * to_predict**2 + good_c2 * np.cos(2 * np.pi * to_predict / 365.25 + good_c3)\n",
    "ax.plot(to_predict_dates, model_predictions, label=\"Model\")\n",
    "\n",
    "# Last observed date line\n",
    "ax.axvline(max(df['date']), color='red')\n",
    "ax.set_xlabel('Date')\n",
    "ax.set_ylabel('CO$^2$ ppm level')\n",
    "ax.legend()"
   ]
  },
  {
   "cell_type": "code",
   "execution_count": 66,
   "id": "nominated-questionnaire",
   "metadata": {
    "id": "nominated-questionnaire"
   },
   "outputs": [
    {
     "name": "stdout",
     "output_type": "stream",
     "text": [
      "[[87 316.25]\n",
      " [94 317.25]\n",
      " [101 317.75]\n",
      " ...\n",
      " [23040 415.75]\n",
      " [23047 417.0]\n",
      " [23054 416.5]]\n"
     ]
    }
   ],
   "source": [
    "### IMPORTING THE MODULES \n",
    "import io\n",
    "import numpy as np\n",
    "import pandas as pd \n",
    "import scipy.stats as sts\n",
    "import matplotlib.pyplot as plt\n",
    "import pystan\n",
    "import math\n",
    "import seaborn\n",
    "from datetime import datetime\n",
    "\n",
    "#get dataset \n",
    "df = pd.read_csv(\n",
    "    'https://scrippsco2.ucsd.edu/assets/data/atmospheric/stations/in_situ_co2/weekly/weekly_in_situ_co2_mlo.csv', \n",
    "    header=None, \n",
    "    # parse_dates=[0], \n",
    "    dtype={1: np.float16}, \n",
    "    names=['date', 'level_ppm']\n",
    ")\n",
    "\n",
    "#convert the dataframe into a numpy array\n",
    "co2_data = df.to_numpy()\n",
    "\n",
    "#Convert dates from strings to number of days since start of 1958\n",
    "frmt = '%Y-%m-%d'\n",
    "beginning_date = '1958-1-1'\n",
    "b_date = datetime.strptime(beginning_date, frmt) #strptime converts the string to datetime object\n",
    "\n",
    "#calculate days since 1st jan of 1958 to get a numerical t range for modeling\n",
    "for i in range(len(co2_data)):\n",
    "    curr_date = co2_data[i,0]\n",
    "    c_date = datetime.strptime(curr_date, frmt)\n",
    "    diff = c_date - b_date #subtract current date from the beginning\n",
    "    co2_data[i,0] = diff.days\n",
    "\n",
    "\n",
    "t_vals = co2_data[:,0] #time in days since 1st jan, 1958\n",
    "x_vals = co2_data[:,1] #CO2 levels\n",
    "\n",
    "n = len(co2_data) #number of observations in dataset\n",
    " #15000 days till 2060 from 2017 \n",
    " #divide 15000 by 7 to get n_future for weekly data collection expectation at Mauna Loa\n",
    "n_future = 15000\n",
    "\n",
    "#preview the numpy array with days since 1st jan on 1st col\n",
    "#and CO2 levels in ppm on second column\n",
    "print(co2_data) "
   ]
  },
  {
   "cell_type": "code",
   "execution_count": 92,
   "id": "588c724b-9686-4c80-904d-56c9384d3556",
   "metadata": {},
   "outputs": [
    {
     "name": "stderr",
     "output_type": "stream",
     "text": [
      "INFO:pystan:COMPILING THE C++ CODE FOR MODEL anon_model_3254603abd7ddddba46accb03e763bc8 NOW.\n"
     ]
    },
    {
     "name": "stdout",
     "output_type": "stream",
     "text": [
      "CPU times: user 1.16 s, sys: 201 ms, total: 1.36 s\n",
      "Wall time: 53.6 s\n"
     ]
    }
   ],
   "source": [
    "%%time\n",
    "### STAN MODELING \n",
    "\n",
    "stan_code = '''\n",
    "data {\n",
    "  int <lower=0> n;\n",
    "  int <lower=0> n_future;\n",
    "  vector[n] y;\n",
    "  vector[n] x;\n",
    "}\n",
    "\n",
    "parameters {\n",
    "  //posterior parameters \n",
    "  real<lower=0> b; \n",
    "  real c2; \n",
    "  real<lower=0> intercept;\n",
    "  real<lower=0> a; \n",
    "  real<lower=0> sigma; // Noise\n",
    "}\n",
    "\n",
    "model {\n",
    "  //non-informative gaussian priors\n",
    "  b ~ normal(0, 5); \n",
    "  intercept ~ normal(300, 3);\n",
    "\n",
    "  //likelihood function \n",
    "  for(t in 1:n){\n",
    "    y[t]~normal(intercept + a*x[t] + b*x[t]^2 + c2*cos(2*pi()*x[t]/365.25), sigma);\n",
    "  }\n",
    "\n",
    "}\n",
    "//for predictions into the future\n",
    "generated quantities {\n",
    "  real y_future[n_future];\n",
    "  for(t in 1:n_future) {\n",
    "    y_future[t] = normal_rng(intercept + a*(x[n]+t) + b*(x[n]+t)^2 + c2*cos(2*pi()*(x[n]+t)/365.25), sigma);\n",
    "    }\n",
    "}\n",
    "'''\n",
    "\n",
    "#Compile the model \n",
    "stan_model = pystan.StanModel(model_code=stan_code)\n"
   ]
  },
  {
   "cell_type": "code",
   "execution_count": 99,
   "id": "cccdadf6-6c4c-4c19-abee-1f4d0b79bb53",
   "metadata": {},
   "outputs": [
    {
     "name": "stderr",
     "output_type": "stream",
     "text": [
      "WARNING:pystan:Maximum (flat) parameter count (1000) exceeded: skipping diagnostic tests for n_eff and Rhat.\n",
      "To run all diagnostics call pystan.check_hmc_diagnostics(fit)\n"
     ]
    },
    {
     "name": "stdout",
     "output_type": "stream",
     "text": [
      "Inference for Stan model: anon_model_3254603abd7ddddba46accb03e763bc8.\n",
      "4 chains, each with iter=2000; warmup=1000; thin=1; \n",
      "post-warmup draws per chain=1000, total post-warmup draws=4000.\n",
      "\n",
      "             mean se_mean      sd    2.5%     25%     50%     75%   97.5%  n_eff   Rhat\n",
      "b         1.4e-10 1.5e-13 6.1e-12 1.3e-10 1.4e-10 1.4e-10 1.5e-10 1.5e-10   1623    1.0\n",
      "c2          -0.13    0.01    0.69   -1.47   -0.58   -0.15    0.33    1.22   3245    1.0\n",
      "intercept  281.48    0.07    3.03   275.6  279.42  281.51  283.62  287.31   1651    1.0\n",
      "a          1.3e-6  2.6e-8  1.3e-6  3.5e-8  3.7e-7  9.0e-7  1.8e-6  4.9e-6   2551    1.0\n",
      "sigma       27.66  6.3e-3    0.36   26.96   27.41   27.65   27.89   28.36   3206    1.0\n",
      "\n",
      "Samples were drawn using NUTS at Mon Apr 26 11:01:03 2021.\n",
      "For each parameter, n_eff is a crude measure of effective sample size,\n",
      "and Rhat is the potential scale reduction factor on split chains (at \n",
      "convergence, Rhat=1).\n",
      "CPU times: user 2.53 s, sys: 4.07 s, total: 6.6 s\n",
      "Wall time: 4min 43s\n"
     ]
    }
   ],
   "source": [
    "%%time\n",
    "stan_data = {\n",
    "    'n': n, #number of days since 1 jan 1958\n",
    "    'n_future': n_future, #40 years into the future is approximately 15000\n",
    "    'y': df['level_ppm'],\n",
    "    'x': df['ordinal']\n",
    "}\n",
    "results = stan_model.sampling(data=stan_data)\n",
    "samples = results.extract()\n",
    "#Preview the parameters\n",
    "parameters = ['b','c2','intercept','a','sigma'] \n",
    "print(results.stansummary(pars=parameters))"
   ]
  },
  {
   "cell_type": "code",
   "execution_count": null,
   "id": "620427cc-ddaf-462b-995e-97c4fbf28f6c",
   "metadata": {},
   "outputs": [],
   "source": []
  }
 ],
 "metadata": {
  "colab": {
   "name": "notebook.ipynb",
   "provenance": []
  },
  "kernelspec": {
   "display_name": "Python 3",
   "language": "python",
   "name": "python3"
  },
  "language_info": {
   "codemirror_mode": {
    "name": "ipython",
    "version": 3
   },
   "file_extension": ".py",
   "mimetype": "text/x-python",
   "name": "python",
   "nbconvert_exporter": "python",
   "pygments_lexer": "ipython3",
   "version": "3.7.10"
  }
 },
 "nbformat": 4,
 "nbformat_minor": 5
}
