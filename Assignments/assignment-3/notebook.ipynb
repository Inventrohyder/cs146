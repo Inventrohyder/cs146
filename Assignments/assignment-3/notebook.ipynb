{
 "cells": [
  {
   "cell_type": "markdown",
   "id": "missing-opinion",
   "metadata": {},
   "source": [
    "# Assignment 3 - Using Stan & other exercises"
   ]
  },
  {
   "cell_type": "code",
   "execution_count": 1,
   "id": "useful-disney",
   "metadata": {},
   "outputs": [],
   "source": [
    "# Setup \n",
    "import numpy as np\n",
    "import matplotlib.pyplot as plt"
   ]
  },
  {
   "cell_type": "markdown",
   "id": "formed-psychology",
   "metadata": {},
   "source": [
    "## 1. Implement models in Stan"
   ]
  },
  {
   "cell_type": "markdown",
   "id": "major-writer",
   "metadata": {},
   "source": [
    "### 1. Call center data set"
   ]
  },
  {
   "cell_type": "markdown",
   "id": "bright-television",
   "metadata": {},
   "source": [
    "To model the call center data set we use Bayesian inference. To calculate the posterior we use an exponential likelihood with a gamma prior. We want to estimat the number of calls per minute for the 13th hour of the call center data set."
   ]
  },
  {
   "cell_type": "code",
   "execution_count": 2,
   "id": "banned-rally",
   "metadata": {},
   "outputs": [
    {
     "name": "stdout",
     "output_type": "stream",
     "text": [
      "Size of data set: 5856\n",
      "First 3 values in data set: [30.   3.4  3.2]\n",
      "Sum of data set: 1441.6838153800093\n"
     ]
    }
   ],
   "source": [
    "# Load the data set containing durations between calls arriving at the call\n",
    "# center during 1 day. All values are in minutes.\n",
    "waiting_times_day = np.loadtxt('call-center.csv')\n",
    "\n",
    "# Display some basic information about the data set.\n",
    "print('Size of data set:', len(waiting_times_day))\n",
    "print('First 3 values in data set:', waiting_times_day[:3])\n",
    "print('Sum of data set:', sum(waiting_times_day))"
   ]
  },
  {
   "cell_type": "markdown",
   "id": "approved-template",
   "metadata": {},
   "source": [
    "To remind ourselves let's look at the distribution of the waiting times per hour."
   ]
  },
  {
   "cell_type": "code",
   "execution_count": 3,
   "id": "royal-force",
   "metadata": {},
   "outputs": [],
   "source": [
    "# Make 24 empty lists, one per hour.\n",
    "waiting_times_per_hour = [[] for _ in range(24)]\n",
    "\n",
    "# Split the data into 24 separate series, one for each hour of the day.\n",
    "current_time = 0\n",
    "for t in waiting_times_day:\n",
    "    current_hour = int(current_time // 60)\n",
    "    current_time += t\n",
    "    waiting_times_per_hour[current_hour].append(t)"
   ]
  },
  {
   "cell_type": "code",
   "execution_count": 4,
   "id": "overhead-disaster",
   "metadata": {},
   "outputs": [
    {
     "data": {
      "image/png": "[encoded data removed]",
      "text/plain": [
       "<Figure size 432x288 with 1 Axes>"
      ]
     },
     "metadata": {
      "needs_background": "light"
     },
     "output_type": "display_data"
    }
   ],
   "source": [
    "plt.bar(\n",
    "    x = list(range(len(waiting_times_per_hour))), \n",
    "    height = [len(x) for x in waiting_times_per_hour]\n",
    ")\n",
    "plt.xlabel('Hour')\n",
    "plt.ylabel('Number of calls')\n",
    "plt.title('Calls per hour')\n",
    "plt.show()"
   ]
  },
  {
   "cell_type": "markdown",
   "id": "conscious-johns",
   "metadata": {},
   "source": [
    "Specifically looking at the 13th hour, we can see the distribtuion of the waiting times of the 13th hour."
   ]
  },
  {
   "cell_type": "code",
   "execution_count": 5,
   "id": "stable-theorem",
   "metadata": {},
   "outputs": [
    {
     "data": {
      "image/png": "[encoded data removed]",
      "text/plain": [
       "<Figure size 432x288 with 1 Axes>"
      ]
     },
     "metadata": {
      "needs_background": "light"
     },
     "output_type": "display_data"
    }
   ],
   "source": [
    "# Plot histogram of waiting times for hour\n",
    "hour_index = 13\n",
    "waiting_times_hour = waiting_times_per_hour[hour_index]\n",
    "plt.hist(waiting_times_hour, bins=20)\n",
    "plt.title('Waiting times for hour %i' % hour_index)\n",
    "plt.show()"
   ]
  }
 ],
 "metadata": {
  "kernelspec": {
   "display_name": "Python 3",
   "language": "python",
   "name": "python3"
  },
  "language_info": {
   "codemirror_mode": {
    "name": "ipython",
    "version": 3
   },
   "file_extension": ".py",
   "mimetype": "text/x-python",
   "name": "python",
   "nbconvert_exporter": "python",
   "pygments_lexer": "ipython3",
   "version": "3.7.9"
  }
 },
 "nbformat": 4,
 "nbformat_minor": 5
}
