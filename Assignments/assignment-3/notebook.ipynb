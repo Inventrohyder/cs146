{
  "nbformat": 4,
  "nbformat_minor": 5,
  "metadata": {
    "kernelspec": {
      "display_name": "Python 3",
      "language": "python",
      "name": "python3"
    },
    "language_info": {
      "codemirror_mode": {
        "name": "ipython",
        "version": 3
      },
      "file_extension": ".py",
      "mimetype": "text/x-python",
      "name": "python",
      "nbconvert_exporter": "python",
      "pygments_lexer": "ipython3",
      "version": "3.7.9"
    },
    "colab": {
      "name": "notebook.ipynb",
      "provenance": []
    }
  },
  "cells": [
    {
      "cell_type": "markdown",
      "metadata": {
        "id": "missing-opinion"
      },
      "source": [
        "# Assignment 3 - Using Stan & other exercises"
      ],
      "id": "missing-opinion"
    },
    {
      "cell_type": "code",
      "metadata": {
        "id": "useful-disney"
      },
      "source": [
        "# Setup \n",
        "import numpy as np\n",
        "import matplotlib.pyplot as plt\n",
        "import pystan"
      ],
      "id": "useful-disney",
      "execution_count": 1,
      "outputs": []
    },
    {
      "cell_type": "code",
      "metadata": {
        "id": "tyxQBXKkVahY",
        "outputId": "b954135b-d5a8-44b4-f281-7af3a25ffb47",
        "colab": {
          "base_uri": "https://localhost:8080/"
        }
      },
      "source": [
        "!wget https://course-resources.minerva.kgi.edu/uploaded_files/mke/00124343-8397/call-center.csv"
      ],
      "id": "tyxQBXKkVahY",
      "execution_count": 2,
      "outputs": [
        {
          "output_type": "stream",
          "text": [
            "--2021-02-18 13:49:34--  https://course-resources.minerva.kgi.edu/uploaded_files/mke/00124343-8397/call-center.csv\n",
            "Resolving course-resources.minerva.kgi.edu (course-resources.minerva.kgi.edu)... 54.192.23.12, 54.192.23.117, 54.192.23.107, ...\n",
            "Connecting to course-resources.minerva.kgi.edu (course-resources.minerva.kgi.edu)|54.192.23.12|:443... connected.\n",
            "HTTP request sent, awaiting response... 200 OK\n",
            "Length: 46848 (46K)\n",
            "Saving to: ‘call-center.csv.1’\n",
            "\n",
            "call-center.csv.1   100%[===================>]  45.75K   158KB/s    in 0.3s    \n",
            "\n",
            "2021-02-18 13:49:35 (158 KB/s) - ‘call-center.csv.1’ saved [46848/46848]\n",
            "\n"
          ],
          "name": "stdout"
        }
      ]
    },
    {
      "cell_type": "markdown",
      "metadata": {
        "id": "formed-psychology"
      },
      "source": [
        "## 1. Implement models in Stan"
      ],
      "id": "formed-psychology"
    },
    {
      "cell_type": "markdown",
      "metadata": {
        "id": "major-writer"
      },
      "source": [
        "### 1. Call center data set"
      ],
      "id": "major-writer"
    },
    {
      "cell_type": "markdown",
      "metadata": {
        "id": "bright-television"
      },
      "source": [
        "To model the call center data set we use Bayesian inference. To calculate the posterior we use an exponential likelihood with a gamma prior. We want to estimat the number of calls per minute for the 13th hour of the call center data set."
      ],
      "id": "bright-television"
    },
    {
      "cell_type": "code",
      "metadata": {
        "id": "banned-rally",
        "outputId": "04f98915-a0b0-4779-a719-fd423919a650",
        "colab": {
          "base_uri": "https://localhost:8080/"
        }
      },
      "source": [
        "# Load the data set containing durations between calls arriving at the call\n",
        "# center during 1 day. All values are in minutes.\n",
        "waiting_times_day = np.loadtxt('call-center.csv')\n",
        "\n",
        "# Display some basic information about the data set.\n",
        "print('Size of data set:', len(waiting_times_day))\n",
        "print('First 3 values in data set:', waiting_times_day[:3])\n",
        "print('Sum of data set:', sum(waiting_times_day))"
      ],
      "id": "banned-rally",
      "execution_count": 3,
      "outputs": [
        {
          "output_type": "stream",
          "text": [
            "Size of data set: 5856\n",
            "First 3 values in data set: [30.   3.4  3.2]\n",
            "Sum of data set: 1441.6838153800093\n"
          ],
          "name": "stdout"
        }
      ]
    },
    {
      "cell_type": "markdown",
      "metadata": {
        "id": "approved-template"
      },
      "source": [
        "To remind ourselves let's look at the distribution of the waiting times per hour."
      ],
      "id": "approved-template"
    },
    {
      "cell_type": "code",
      "metadata": {
        "id": "royal-force"
      },
      "source": [
        "# Make 24 empty lists, one per hour.\n",
        "waiting_times_per_hour = [[] for _ in range(24)]\n",
        "\n",
        "# Split the data into 24 separate series, one for each hour of the day.\n",
        "current_time = 0\n",
        "for t in waiting_times_day:\n",
        "    current_hour = int(current_time // 60)\n",
        "    current_time += t\n",
        "    waiting_times_per_hour[current_hour].append(t)"
      ],
      "id": "royal-force",
      "execution_count": 4,
      "outputs": []
    },
    {
      "cell_type": "code",
      "metadata": {
        "id": "overhead-disaster",
        "outputId": "7cd13d38-641b-4b19-d6a0-0acb6db14ff3",
        "colab": {
          "base_uri": "https://localhost:8080/",
          "height": 295
        }
      },
      "source": [
        "plt.bar(\n",
        "    x = list(range(len(waiting_times_per_hour))), \n",
        "    height = [len(x) for x in waiting_times_per_hour]\n",
        ")\n",
        "plt.xlabel('Hour')\n",
        "plt.ylabel('Number of calls')\n",
        "plt.title('Calls per hour')\n",
        "plt.show()"
      ],
      "id": "overhead-disaster",
      "execution_count": 5,
      "outputs": [
        {
          "output_type": "display_data",
          "data": {
            "image/png": "[encoded data removed]",
            "text/plain": [
              "<Figure size 432x288 with 1 Axes>"
            ]
          },
          "metadata": {
            "tags": [],
            "needs_background": "light"
          }
        }
      ]
    },
    {
      "cell_type": "markdown",
      "metadata": {
        "id": "conscious-johns"
      },
      "source": [
        "Specifically looking at the 13th hour, we can see the distribtuion of the waiting times of the 13th hour."
      ],
      "id": "conscious-johns"
    },
    {
      "cell_type": "code",
      "metadata": {
        "id": "stable-theorem",
        "outputId": "c230cc8d-3174-49cf-c987-bebdf0b39360",
        "colab": {
          "base_uri": "https://localhost:8080/",
          "height": 281
        }
      },
      "source": [
        "# Plot histogram of waiting times for hour\n",
        "hour_index = 13\n",
        "waiting_times_hour = waiting_times_per_hour[hour_index]\n",
        "plt.hist(waiting_times_hour, bins=20)\n",
        "plt.title('Waiting times for hour %i' % hour_index)\n",
        "plt.show()"
      ],
      "id": "stable-theorem",
      "execution_count": 6,
      "outputs": [
        {
          "output_type": "display_data",
          "data": {
            "image/png": "[encoded data removed]",
            "text/plain": [
              "<Figure size 432x288 with 1 Axes>"
            ]
          },
          "metadata": {
            "tags": [],
            "needs_background": "light"
          }
        }
      ]
    },
    {
      "cell_type": "code",
      "metadata": {
        "id": "7OaGIhbAUfou",
        "outputId": "1dede2ec-5189-4cb7-d205-1fd813480f2c",
        "colab": {
          "base_uri": "https://localhost:8080/"
        }
      },
      "source": [
        "stan_code = '''\n",
        "\n",
        "data {\n",
        "    int <lower=1> N;   // Sample size\n",
        "    vector[N] y;       // Outcome\n",
        "}\n",
        "\n",
        "parameters {\n",
        "    real lambda;  // the parameter for our posterior model\n",
        "}\n",
        "\n",
        "model {\n",
        "    real alpha;\n",
        "    real beta;\n",
        "    alpha <- 1;\n",
        "    beta <- 0.25;\n",
        "\n",
        "    lambda ~ gamma(alpha, beta);     // Prior\n",
        "    y ~ exponential(lambda);\n",
        "}\n",
        "'''\n",
        "\n",
        "stan_model = pystan.StanModel(model_code=stan_code)"
      ],
      "id": "7OaGIhbAUfou",
      "execution_count": 7,
      "outputs": [
        {
          "output_type": "stream",
          "text": [
            "INFO:pystan:COMPILING THE C++ CODE FOR MODEL anon_model_114c5022f986fd27b4e15f6c643ea5cb NOW.\n"
          ],
          "name": "stderr"
        }
      ]
    },
    {
      "cell_type": "code",
      "metadata": {
        "id": "AYdCmNUDUhBR",
        "outputId": "d5be925c-2d3e-4399-a8d5-0f756b0ecfeb",
        "colab": {
          "base_uri": "https://localhost:8080/"
        }
      },
      "source": [
        "# Results for one row (father = 0)\n",
        "stan_data = {\n",
        "    'N': len(waiting_times_hour),\n",
        "    'y': waiting_times_hour\n",
        "}\n",
        "results = stan_model.sampling(data=stan_data)\n",
        "print(results)"
      ],
      "id": "AYdCmNUDUhBR",
      "execution_count": 8,
      "outputs": [
        {
          "output_type": "stream",
          "text": [
            "Inference for Stan model: anon_model_114c5022f986fd27b4e15f6c643ea5cb.\n",
            "4 chains, each with iter=2000; warmup=1000; thin=1; \n",
            "post-warmup draws per chain=1000, total post-warmup draws=4000.\n",
            "\n",
            "         mean se_mean     sd   2.5%    25%    50%    75%  97.5%  n_eff   Rhat\n",
            "lambda   6.36  8.6e-3   0.32   5.74   6.14   6.35   6.57   6.98   1378    1.0\n",
            "lp__   321.21    0.02   0.68 319.27 321.06 321.47 321.64 321.69   1987    1.0\n",
            "\n",
            "Samples were drawn using NUTS at Thu Feb 18 13:50:40 2021.\n",
            "For each parameter, n_eff is a crude measure of effective sample size,\n",
            "and Rhat is the potential scale reduction factor on split chains (at \n",
            "convergence, Rhat=1).\n"
          ],
          "name": "stdout"
        }
      ]
    }
  ]
}