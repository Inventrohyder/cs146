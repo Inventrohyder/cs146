{
 "cells": [
  {
   "cell_type": "markdown",
   "id": "double-separation",
   "metadata": {
    "id": "missing-opinion"
   },
   "source": [
    "# Assignment 3 - Using Stan & other exercises"
   ]
  },
  {
   "cell_type": "code",
   "execution_count": 1,
   "id": "dress-oxygen",
   "metadata": {
    "id": "useful-disney"
   },
   "outputs": [],
   "source": [
    "# Setup \n",
    "import numpy as np\n",
    "import matplotlib.pyplot as plt\n",
    "import pystan"
   ]
  },
  {
   "cell_type": "markdown",
   "id": "angry-employee",
   "metadata": {
    "id": "formed-psychology"
   },
   "source": [
    "## 1. Implement models in Stan"
   ]
  },
  {
   "cell_type": "markdown",
   "id": "partial-closer",
   "metadata": {
    "id": "major-writer"
   },
   "source": [
    "### 1. Call center data set"
   ]
  },
  {
   "cell_type": "markdown",
   "id": "continuing-prompt",
   "metadata": {
    "id": "bright-television"
   },
   "source": [
    "To model the call center data set we use Bayesian inference. To calculate the posterior we use an exponential likelihood with a gamma prior. We want to estimat the number of calls per minute for the 13th hour of the call center data set."
   ]
  },
  {
   "cell_type": "code",
   "execution_count": 2,
   "id": "periodic-denial",
   "metadata": {
    "colab": {
     "base_uri": "https://localhost:8080/"
    },
    "id": "banned-rally",
    "outputId": "04f98915-a0b0-4779-a719-fd423919a650"
   },
   "outputs": [
    {
     "name": "stdout",
     "output_type": "stream",
     "text": [
      "Size of data set: 5856\n",
      "First 3 values in data set: [30.   3.4  3.2]\n",
      "Sum of data set: 1441.6838153800093\n"
     ]
    }
   ],
   "source": [
    "# Load the data set containing durations between calls arriving at the call\n",
    "# center during 1 day. All values are in minutes.\n",
    "waiting_times_day = np.loadtxt('call-center.csv')\n",
    "\n",
    "# Display some basic information about the data set.\n",
    "print('Size of data set:', len(waiting_times_day))\n",
    "print('First 3 values in data set:', waiting_times_day[:3])\n",
    "print('Sum of data set:', sum(waiting_times_day))"
   ]
  },
  {
   "cell_type": "markdown",
   "id": "recovered-graduation",
   "metadata": {
    "id": "approved-template"
   },
   "source": [
    "To remind ourselves let's look at the distribution of the waiting times per hour."
   ]
  },
  {
   "cell_type": "code",
   "execution_count": 3,
   "id": "brilliant-medicine",
   "metadata": {
    "id": "royal-force"
   },
   "outputs": [],
   "source": [
    "# Make 24 empty lists, one per hour.\n",
    "waiting_times_per_hour = [[] for _ in range(24)]\n",
    "\n",
    "# Split the data into 24 separate series, one for each hour of the day.\n",
    "current_time = 0\n",
    "for t in waiting_times_day:\n",
    "    current_hour = int(current_time // 60)\n",
    "    current_time += t\n",
    "    waiting_times_per_hour[current_hour].append(t)"
   ]
  },
  {
   "cell_type": "code",
   "execution_count": 4,
   "id": "characteristic-development",
   "metadata": {
    "colab": {
     "base_uri": "https://localhost:8080/",
     "height": 295
    },
    "id": "overhead-disaster",
    "outputId": "7cd13d38-641b-4b19-d6a0-0acb6db14ff3"
   },
   "outputs": [
    {
     "data": {
      "image/png": "[encoded data removed]",
      "text/plain": [
       "<Figure size 432x288 with 1 Axes>"
      ]
     },
     "metadata": {
      "needs_background": "light"
     },
     "output_type": "display_data"
    }
   ],
   "source": [
    "plt.bar(\n",
    "    x = list(range(len(waiting_times_per_hour))), \n",
    "    height = [len(x) for x in waiting_times_per_hour]\n",
    ")\n",
    "plt.xlabel('Hour')\n",
    "plt.ylabel('Number of calls')\n",
    "plt.title('Calls per hour')\n",
    "plt.show()"
   ]
  },
  {
   "cell_type": "markdown",
   "id": "outdoor-islam",
   "metadata": {
    "id": "conscious-johns"
   },
   "source": [
    "Specifically looking at the 13th hour, we can see the distribtuion of the waiting times of the 13th hour."
   ]
  },
  {
   "cell_type": "code",
   "execution_count": 5,
   "id": "green-coupon",
   "metadata": {
    "colab": {
     "base_uri": "https://localhost:8080/",
     "height": 281
    },
    "id": "stable-theorem",
    "outputId": "c230cc8d-3174-49cf-c987-bebdf0b39360"
   },
   "outputs": [
    {
     "data": {
      "image/png": "[encoded data removed]",
      "text/plain": [
       "<Figure size 432x288 with 1 Axes>"
      ]
     },
     "metadata": {
      "needs_background": "light"
     },
     "output_type": "display_data"
    }
   ],
   "source": [
    "# Plot histogram of waiting times for hour\n",
    "hour_index = 13\n",
    "waiting_times_hour = waiting_times_per_hour[hour_index]\n",
    "plt.hist(waiting_times_hour, bins=20)\n",
    "plt.title('Waiting times for hour %i' % hour_index)\n",
    "plt.show()"
   ]
  },
  {
   "cell_type": "code",
   "execution_count": 6,
   "id": "approximate-affect",
   "metadata": {
    "colab": {
     "base_uri": "https://localhost:8080/"
    },
    "id": "7OaGIhbAUfou",
    "outputId": "1dede2ec-5189-4cb7-d205-1fd813480f2c"
   },
   "outputs": [
    {
     "name": "stderr",
     "output_type": "stream",
     "text": [
      "INFO:pystan:COMPILING THE C++ CODE FOR MODEL anon_model_1207905c5bb1a40fd000b1255d75927c NOW.\n"
     ]
    }
   ],
   "source": [
    "stan_code = '''\n",
    "\n",
    "data {\n",
    "    int <lower=1> N;   // Sample size\n",
    "    vector[N] y;       // Outcome\n",
    "    real alpha;        // Prior hyperparameter\n",
    "    real beta;         // Prior hyperparameter\n",
    "}\n",
    "\n",
    "parameters {\n",
    "    real lambda;  // the parameter for our posterior model\n",
    "}\n",
    "\n",
    "model {\n",
    "    lambda ~ gamma(alpha, beta);     // Prior distribution\n",
    "    y ~ exponential(lambda);         // Likelihood distribution\n",
    "}\n",
    "'''\n",
    "\n",
    "stan_model = pystan.StanModel(model_code=stan_code)"
   ]
  },
  {
   "cell_type": "code",
   "execution_count": 7,
   "id": "honey-opinion",
   "metadata": {
    "colab": {
     "base_uri": "https://localhost:8080/"
    },
    "id": "AYdCmNUDUhBR",
    "outputId": "d5be925c-2d3e-4399-a8d5-0f756b0ecfeb"
   },
   "outputs": [
    {
     "name": "stdout",
     "output_type": "stream",
     "text": [
      "Inference for Stan model: anon_model_1207905c5bb1a40fd000b1255d75927c.\n",
      "4 chains, each with iter=2000; warmup=1000; thin=1; \n",
      "post-warmup draws per chain=1000, total post-warmup draws=4000.\n",
      "\n",
      "         mean se_mean     sd   2.5%    25%    50%    75%  97.5%  n_eff   Rhat\n",
      "lambda   6.36  8.1e-3   0.33   5.73   6.15   6.36   6.58   7.04   1653    1.0\n",
      "lp__   322.56    0.02   0.74 320.45 322.42 322.86 323.02 323.08   1821    1.0\n",
      "\n",
      "Samples were drawn using NUTS at Thu Feb 18 17:47:00 2021.\n",
      "For each parameter, n_eff is a crude measure of effective sample size,\n",
      "and Rhat is the potential scale reduction factor on split chains (at \n",
      "convergence, Rhat=1).\n"
     ]
    }
   ],
   "source": [
    "# Results for one row (father = 0)\n",
    "stan_data = {\n",
    "    'N': len(waiting_times_hour),\n",
    "    'y': waiting_times_hour,\n",
    "    'alpha': 1,\n",
    "    'beta': 0.25\n",
    "}\n",
    "results = stan_model.sampling(data=stan_data)\n",
    "print(results)"
   ]
  },
  {
   "cell_type": "code",
   "execution_count": 8,
   "id": "thousand-failing",
   "metadata": {},
   "outputs": [
    {
     "data": {
      "text/plain": [
       "array([5.63365285, 7.17951561])"
      ]
     },
     "execution_count": 8,
     "metadata": {},
     "output_type": "execute_result"
    }
   ],
   "source": [
    "# The 98% percentiles\n",
    "samples = results.extract()\n",
    "np.percentile(samples['lambda'], [1, 99])"
   ]
  },
  {
   "cell_type": "code",
   "execution_count": 20,
   "id": "running-blogger",
   "metadata": {},
   "outputs": [
    {
     "data": {
      "image/png": "[encoded data removed]",
      "text/plain": [
       "<Figure size 432x288 with 1 Axes>"
      ]
     },
     "metadata": {
      "needs_background": "light"
     },
     "output_type": "display_data"
    }
   ],
   "source": [
    "plt.hist(samples['lambda'], bins=50, density=True)\n",
    "plt.title('$\\lambda$ samples of the posterior')\n",
    "plt.xlabel('$\\lambda$ value')\n",
    "plt.ylabel('Density frequency')\n",
    "plt.show()"
   ]
  }
 ],
 "metadata": {
  "colab": {
   "name": "notebook.ipynb",
   "provenance": []
  },
  "kernelspec": {
   "display_name": "Python 3",
   "language": "python",
   "name": "python3"
  },
  "language_info": {
   "codemirror_mode": {
    "name": "ipython",
    "version": 3
   },
   "file_extension": ".py",
   "mimetype": "text/x-python",
   "name": "python",
   "nbconvert_exporter": "python",
   "pygments_lexer": "ipython3",
   "version": "3.7.9"
  }
 },
 "nbformat": 4,
 "nbformat_minor": 5
}
