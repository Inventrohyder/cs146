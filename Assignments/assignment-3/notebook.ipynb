{
 "cells": [
  {
   "cell_type": "markdown",
   "id": "separate-tampa",
   "metadata": {
    "id": "missing-opinion"
   },
   "source": [
    "# Assignment 3 - Using Stan & other exercises"
   ]
  },
  {
   "cell_type": "markdown",
   "id": "armed-orange",
   "metadata": {
    "id": "formed-psychology"
   },
   "source": [
    "## 1. Implement models in Stan"
   ]
  },
  {
   "cell_type": "markdown",
   "id": "minor-result",
   "metadata": {
    "id": "major-writer"
   },
   "source": [
    "### 1. Call center data set"
   ]
  },
  {
   "cell_type": "markdown",
   "id": "simplified-clock",
   "metadata": {
    "id": "bright-television"
   },
   "source": [
    "To model the call center data set we use Bayesian inference. To calculate the posterior we use an exponential likelihood with a gamma prior. We want to estimate the number of calls per minute for the 13th hour of the call center data set.\n",
    "\n",
    "To remind ourselves let's look at the distribution of the waiting times per hour.\n",
    "\n",
    "![](calls_per_hour.png)"
   ]
  },
  {
   "cell_type": "markdown",
   "id": "aware-payroll",
   "metadata": {
    "colab": {
     "base_uri": "https://localhost:8080/",
     "height": 281
    },
    "id": "stable-theorem",
    "outputId": "c230cc8d-3174-49cf-c987-bebdf0b39360"
   },
   "source": [
    "Specifically looking at the 13th hour, we can see the distribtuion of the waiting times of the 13th hour.\n",
    "\n",
    "![](waiting_times_13.png)"
   ]
  },
  {
   "cell_type": "markdown",
   "id": "flush-samoa",
   "metadata": {},
   "source": [
    "We use the following Stan code to model the data."
   ]
  },
  {
   "cell_type": "code",
   "execution_count": 1,
   "id": "quantitative-daisy",
   "metadata": {
    "colab": {
     "base_uri": "https://localhost:8080/"
    },
    "id": "7OaGIhbAUfou",
    "outputId": "1dede2ec-5189-4cb7-d205-1fd813480f2c"
   },
   "outputs": [
    {
     "name": "stdout",
     "output_type": "stream",
     "text": [
      "data {\n",
      "    int <lower=1> N;                 // Sample size\n",
      "    vector[N] y;                     // Outcome\n",
      "    real alpha;                      // Prior hyperparameter\n",
      "    real beta;                       // Prior hyperparameter\n",
      "}\n",
      "\n",
      "parameters {\n",
      "    real lambda;                     // the parameter for our posterior model\n",
      "}\n",
      "\n",
      "model {\n",
      "    lambda ~ gamma(alpha, beta);     // Prior distribution\n",
      "    y ~ exponential(lambda);         // Likelihood distribution\n",
      "}"
     ]
    }
   ],
   "source": [
    "!cat call.stan"
   ]
  },
  {
   "cell_type": "markdown",
   "id": "specific-communist",
   "metadata": {
    "colab": {
     "base_uri": "https://localhost:8080/"
    },
    "id": "AYdCmNUDUhBR",
    "outputId": "d5be925c-2d3e-4399-a8d5-0f756b0ecfeb"
   },
   "source": [
    "The 98% confidence interval for lambda that we got is given next."
   ]
  },
  {
   "cell_type": "code",
   "execution_count": 2,
   "id": "polar-lodging",
   "metadata": {},
   "outputs": [
    {
     "name": "stdout",
     "output_type": "stream",
     "text": [
      "[5.6445729  7.17983044]"
     ]
    }
   ],
   "source": [
    "!cat call_98.txt"
   ]
  },
  {
   "cell_type": "markdown",
   "id": "talented-default",
   "metadata": {},
   "source": [
    "Here is the histogram of the $\\lambda$ posteriors that our model generated.\n",
    "\n",
    "![](call_98.png)"
   ]
  },
  {
   "cell_type": "markdown",
   "id": "elegant-religious",
   "metadata": {},
   "source": [
    "### 2. Normal likelihood with normal-inverse-gamma prior."
   ]
  },
  {
   "cell_type": "markdown",
   "id": "central-particular",
   "metadata": {},
   "source": [
    "For this section we will be working with some data provided to us by the professor. Let's visualize the distribution of that data here:\n",
    "\n",
    "![](normal_likelihood.png)"
   ]
  },
  {
   "cell_type": "markdown",
   "id": "serial-vinyl",
   "metadata": {},
   "source": [
    "We use stan to build a model for the dataset. The following is that Stan model."
   ]
  },
  {
   "cell_type": "code",
   "execution_count": 3,
   "id": "removed-inflation",
   "metadata": {},
   "outputs": [
    {
     "name": "stdout",
     "output_type": "stream",
     "text": [
      "data {\n",
      "    int <lower=1> N;   \n",
      "    vector[N] y;       \n",
      "    real<lower=0> mu_0; \n",
      "    real nu_0;\n",
      "    real alpha_0;\n",
      "    real beta_0;        \n",
      "}\n",
      "\n",
      "parameters {\n",
      "    real x;                                 // the parameter for our posterior model\n",
      "    real sigma;                             // the parameter for our posterior model\n",
      "}\n",
      "\n",
      "model {\n",
      "    sigma ~ inv_gamma(alpha_0, beta_0);\n",
      "    x ~ normal(mu_0, sqrt(sigma / nu_0));  // Normal-inverse-Gamma prior\n",
      "    \n",
      "    y ~ normal(x, sqrt(sigma));            // Likelihood distribution\n",
      "}"
     ]
    }
   ],
   "source": [
    "!cat normal_likelihood.stan"
   ]
  },
  {
   "cell_type": "markdown",
   "id": "endless-maryland",
   "metadata": {},
   "source": [
    "We use the following as the parameters of the `Normal Inverse-Gamma Prior`.\n",
    "\n",
    "```python\n",
    "'mu_0': 0,\n",
    "'nu_0': 0.054,\n",
    "'alpha_0': 1.12,\n",
    "'beta_0': 0.4\n",
    "```"
   ]
  },
  {
   "cell_type": "markdown",
   "id": "legitimate-clear",
   "metadata": {},
   "source": [
    "The 95% confidence interval values for the mean and variance are:"
   ]
  },
  {
   "cell_type": "code",
   "execution_count": 4,
   "id": "moving-secretariat",
   "metadata": {},
   "outputs": [
    {
     "name": "stdout",
     "output_type": "stream",
     "text": [
      "x : [2.79423665 3.32048053]\n",
      "sigma : [2.99563181 4.37533954]"
     ]
    }
   ],
   "source": [
    "!cat normal_likelihood_95.txt"
   ]
  },
  {
   "cell_type": "markdown",
   "id": "ruled-diameter",
   "metadata": {},
   "source": [
    "Let's now visualize 10 samples of the posterior $\\mu$s and $\\sigma$s\n",
    "\n",
    "![](normal_likelihood.png)"
   ]
  },
  {
   "cell_type": "markdown",
   "id": "contained-liechtenstein",
   "metadata": {},
   "source": [
    "### 3. Log-normal HRTEM data"
   ]
  },
  {
   "cell_type": "markdown",
   "id": "entertaining-creativity",
   "metadata": {},
   "source": [
    "We are working with HRTEM data that measures the particles sizes during an experiment.\n",
    "\n",
    "The following is a histogram of the data that we have.\n",
    "\n",
    "![](hrtem_data.png)"
   ]
  },
  {
   "cell_type": "markdown",
   "id": "bigger-inflation",
   "metadata": {},
   "source": [
    "We model the HRTEM data similar to the previous problem using a `Normal Inverse-Gamma` prior, however with a slight difference that the likelihood function is a `lognormal`."
   ]
  },
  {
   "cell_type": "code",
   "execution_count": 5,
   "id": "excess-wayne",
   "metadata": {},
   "outputs": [
    {
     "name": "stdout",
     "output_type": "stream",
     "text": [
      "data {\n",
      "    int <lower=1> N;   \n",
      "    vector[N] y;       \n",
      "    real<lower=0> mu_0; \n",
      "    real nu_0;\n",
      "    real alpha_0;\n",
      "    real beta_0;        \n",
      "}\n",
      "\n",
      "parameters {\n",
      "    real x;                                 // the parameter for our posterior model\n",
      "    real sigma;                             // the parameter for our posterior model\n",
      "}\n",
      "\n",
      "model {\n",
      "    sigma ~ inv_gamma(alpha_0, beta_0);\n",
      "    x ~ normal(mu_0, sqrt(sigma / nu_0));   // Normal-inverse-Gamma prior\n",
      "    \n",
      "    y ~ lognormal(x, sqrt(sigma));          // Likelihood distribution\n",
      "}"
     ]
    }
   ],
   "source": [
    "!cat hrtem.stan"
   ]
  },
  {
   "cell_type": "markdown",
   "id": "light-maple",
   "metadata": {},
   "source": [
    "We use the following hyperparameters as inputs to the model:\n",
    "\n",
    "```python\n",
    "'mu_0': 2.3,\n",
    "'nu_0': 0.1,\n",
    "'alpha_0': 2,\n",
    "'beta_0': 5\n",
    "```"
   ]
  },
  {
   "cell_type": "markdown",
   "id": "sexual-pension",
   "metadata": {},
   "source": [
    "The 95% confidence intervals of both the mean, $\\mu$ and variance, $\\sigma^{2}$ are:"
   ]
  },
  {
   "cell_type": "code",
   "execution_count": 6,
   "id": "cordless-sheffield",
   "metadata": {},
   "outputs": [
    {
     "name": "stdout",
     "output_type": "stream",
     "text": [
      "x : [1.83215423 1.95613198]\n",
      "sigma : [0.4395975 0.558074 ]"
     ]
    }
   ],
   "source": [
    "!cat hrtem_95.txt"
   ]
  },
  {
   "cell_type": "markdown",
   "id": "piano-concert",
   "metadata": {},
   "source": [
    "Getting 10 samples of the posterior mean and variance leads to the following plot:\n",
    "\n",
    "![](hrtem_posterior.png)"
   ]
  },
  {
   "cell_type": "markdown",
   "id": "lightweight-berlin",
   "metadata": {},
   "source": [
    "## 2. Stretch goal (optional)"
   ]
  },
  {
   "cell_type": "markdown",
   "id": "other-tribune",
   "metadata": {},
   "source": [
    "Fitting 2 Guassians on the HRTEM data set. For this part of the problem set we continue with HRTEM dataset. \n",
    "\n",
    "We use a different stan model to model the 2 Gaussians. [Teitelbaum](#References)'s tutorial from 2019 was very helpful in getting this done. "
   ]
  },
  {
   "cell_type": "code",
   "execution_count": 7,
   "id": "acting-invite",
   "metadata": {},
   "outputs": [
    {
     "name": "stdout",
     "output_type": "stream",
     "text": [
      "data {\n",
      "    int <lower=1> N;   \n",
      "    vector[N] y;            \n",
      "}\n",
      "\n",
      "parameters {\n",
      "    real<lower=0, upper=1> theta;\n",
      "    ordered[2] mu;\n",
      "    real<lower=0> sigma[2];\n",
      "}\n",
      "\n",
      "model {\n",
      "     sigma ~ normal(0, 2);\n",
      "     mu ~ normal(0, 2);\n",
      "     theta ~ beta(5, 5);\n",
      "\n",
      "     // Mix the two gaussians\n",
      "     for (n in 1:N){\n",
      "       target += log_mix(theta,\n",
      "                         normal_lpdf(y[n] | mu[1], sigma[1]),\n",
      "                         normal_lpdf(y[n] | mu[2], sigma[2]));\n",
      "    }          \n",
      "}"
     ]
    }
   ],
   "source": [
    "!cat hrtem_2.stan"
   ]
  },
  {
   "cell_type": "markdown",
   "id": "relevant-accounting",
   "metadata": {},
   "source": [
    "The results of mixing the two Gaussians leads to the following model.\n",
    "\n",
    "![](hrtem_2.png)"
   ]
  },
  {
   "cell_type": "markdown",
   "id": "spread-setup",
   "metadata": {},
   "source": [
    "## References"
   ]
  },
  {
   "cell_type": "markdown",
   "id": "dried-career",
   "metadata": {},
   "source": [
    "1. Teitelbaum, J. (2019, October 28). Gaussian Mixture in Stan. https://jeremy9959.github.io/Blog/StanMixture/"
   ]
  },
  {
   "cell_type": "markdown",
   "id": "aboriginal-decade",
   "metadata": {},
   "source": [
    "## Appendix"
   ]
  },
  {
   "cell_type": "markdown",
   "id": "anticipated-ghost",
   "metadata": {},
   "source": [
    "This assignment is also accessible online here: https://github.com/Inventrohyder/cs146/tree/main/Assignments/assignment-3"
   ]
  },
  {
   "cell_type": "markdown",
   "id": "grave-concentration",
   "metadata": {},
   "source": [
    "### Appendix 1 Setup"
   ]
  },
  {
   "cell_type": "code",
   "execution_count": 8,
   "id": "found-prototype",
   "metadata": {},
   "outputs": [],
   "source": [
    "# Setup \n",
    "import numpy as np\n",
    "import matplotlib.pyplot as plt\n",
    "from scipy import stats\n",
    "import pystan\n",
    "import json\n",
    "import os.path"
   ]
  },
  {
   "cell_type": "markdown",
   "id": "linear-questionnaire",
   "metadata": {},
   "source": [
    "### Appendix 2 Call Center"
   ]
  },
  {
   "cell_type": "markdown",
   "id": "continuing-lemon",
   "metadata": {},
   "source": [
    "#### Appendix 2.1 Loading data"
   ]
  },
  {
   "cell_type": "code",
   "execution_count": 9,
   "id": "billion-withdrawal",
   "metadata": {},
   "outputs": [],
   "source": [
    "# Load the data set containing durations between calls arriving at the call\n",
    "# center during 1 day. All values are in minutes.\n",
    "waiting_times_day = np.loadtxt('call-center.csv')\n",
    "\n",
    "# Make 24 empty lists, one per hour.\n",
    "waiting_times_per_hour = [[] for _ in range(24)]\n",
    "\n",
    "# Split the data into 24 separate series, one for each hour of the day.\n",
    "current_time = 0\n",
    "for t in waiting_times_day:\n",
    "    current_hour = int(current_time // 60)\n",
    "    current_time += t\n",
    "    waiting_times_per_hour[current_hour].append(t)"
   ]
  },
  {
   "cell_type": "code",
   "execution_count": 10,
   "id": "necessary-evidence",
   "metadata": {},
   "outputs": [
    {
     "data": {
      "image/png": "[encoded data removed]",
      "text/plain": [
       "<Figure size 864x432 with 1 Axes>"
      ]
     },
     "metadata": {
      "needs_background": "light"
     },
     "output_type": "display_data"
    }
   ],
   "source": [
    "hour_index = 13\n",
    "\n",
    "plt.figure(figsize=(12, 6))\n",
    "plt.bar(\n",
    "    x = list(range(len(waiting_times_per_hour))), \n",
    "    height = [len(x) for x in waiting_times_per_hour],\n",
    "    label='Other hours'\n",
    ")\n",
    "plt.bar(\n",
    "    hour_index,\n",
    "    len(waiting_times_per_hour[hour_index]),\n",
    "    label='Hour of interest, 13'\n",
    ")\n",
    "plt.xlabel('Hour')\n",
    "plt.ylabel('Number of calls')\n",
    "plt.title('Calls per hour')\n",
    "plt.legend()\n",
    "plt.savefig('calls_per_hour.png')\n",
    "plt.show()"
   ]
  },
  {
   "cell_type": "code",
   "execution_count": 11,
   "id": "minus-mills",
   "metadata": {},
   "outputs": [
    {
     "data": {
      "image/png": "[encoded data removed]",
      "text/plain": [
       "<Figure size 864x432 with 1 Axes>"
      ]
     },
     "metadata": {
      "needs_background": "light"
     },
     "output_type": "display_data"
    }
   ],
   "source": [
    "# Plot histogram of waiting times for hour\n",
    "plt.figure(figsize=(12, 6))\n",
    "waiting_times_hour = waiting_times_per_hour[hour_index]\n",
    "plt.hist(waiting_times_hour, bins=20)\n",
    "plt.title('Waiting times for hour %i' % hour_index)\n",
    "plt.xlabel('Waiting time (minutes)')\n",
    "plt.ylabel('Frequency')\n",
    "plt.savefig('waiting_times_13.png')\n",
    "plt.show()"
   ]
  },
  {
   "cell_type": "markdown",
   "id": "mexican-culture",
   "metadata": {},
   "source": [
    "#### Appendix 2.2 Stan model"
   ]
  },
  {
   "cell_type": "code",
   "execution_count": 12,
   "id": "acoustic-international",
   "metadata": {},
   "outputs": [
    {
     "name": "stdout",
     "output_type": "stream",
     "text": [
      "data {\n",
      "    int <lower=1> N;                 // Sample size\n",
      "    vector[N] y;                     // Outcome\n",
      "    real alpha;                      // Prior hyperparameter\n",
      "    real beta;                       // Prior hyperparameter\n",
      "}\n",
      "\n",
      "parameters {\n",
      "    real lambda;                     // the parameter for our posterior model\n",
      "}\n",
      "\n",
      "model {\n",
      "    lambda ~ gamma(alpha, beta);     // Prior distribution\n",
      "    y ~ exponential(lambda);         // Likelihood distribution\n",
      "}"
     ]
    }
   ],
   "source": [
    "!cat call.stan"
   ]
  },
  {
   "cell_type": "code",
   "execution_count": 13,
   "id": "imported-syndrome",
   "metadata": {},
   "outputs": [
    {
     "name": "stderr",
     "output_type": "stream",
     "text": [
      "INFO:pystan:COMPILING THE C++ CODE FOR MODEL anon_model_1a8dbb8d4123be738277513846743522 NOW.\n"
     ]
    }
   ],
   "source": [
    "stan_model_call = pystan.StanModel(file='call.stan')"
   ]
  },
  {
   "cell_type": "code",
   "execution_count": 14,
   "id": "burning-fence",
   "metadata": {},
   "outputs": [
    {
     "name": "stdout",
     "output_type": "stream",
     "text": [
      "Inference for Stan model: anon_model_1a8dbb8d4123be738277513846743522.\n",
      "4 chains, each with iter=2000; warmup=1000; thin=1; \n",
      "post-warmup draws per chain=1000, total post-warmup draws=4000.\n",
      "\n",
      "         mean se_mean     sd   2.5%    25%    50%    75%  97.5%  n_eff   Rhat\n",
      "lambda   6.35  9.3e-3   0.33   5.74   6.12   6.34   6.57   7.02   1253    1.0\n",
      "lp__   322.56    0.02   0.71 320.61 322.39 322.83 323.02 323.08   1840    1.0\n",
      "\n",
      "Samples were drawn using NUTS at Sat Feb 20 09:21:33 2021.\n",
      "For each parameter, n_eff is a crude measure of effective sample size,\n",
      "and Rhat is the potential scale reduction factor on split chains (at \n",
      "convergence, Rhat=1).\n"
     ]
    }
   ],
   "source": [
    "# Results for one row (father = 0)\n",
    "stan_data_call = {\n",
    "    'N': len(waiting_times_hour),\n",
    "    'y': waiting_times_hour,\n",
    "    'alpha': 1,\n",
    "    'beta': 0.25\n",
    "}\n",
    "results_call = stan_model_call.sampling(data=stan_data_call)\n",
    "print(results_call)"
   ]
  },
  {
   "cell_type": "code",
   "execution_count": 15,
   "id": "electrical-atlanta",
   "metadata": {},
   "outputs": [
    {
     "data": {
      "text/plain": [
       "array([5.64218398, 7.14656055])"
      ]
     },
     "execution_count": 15,
     "metadata": {},
     "output_type": "execute_result"
    }
   ],
   "source": [
    "# The 98% percentiles\n",
    "samples_call = results_call.extract()\n",
    "call_98 = np.percentile(samples_call['lambda'], [1, 99])\n",
    "\n",
    "with open('call_98.txt', 'w') as fp:\n",
    "    fp.write(str(call_98))\n",
    "\n",
    "call_98"
   ]
  },
  {
   "cell_type": "code",
   "execution_count": 16,
   "id": "classified-natural",
   "metadata": {},
   "outputs": [
    {
     "data": {
      "image/png": "[encoded data removed]",
      "text/plain": [
       "<Figure size 864x432 with 1 Axes>"
      ]
     },
     "metadata": {
      "needs_background": "light"
     },
     "output_type": "display_data"
    }
   ],
   "source": [
    "plt.figure(figsize=(12, 6))\n",
    "plt.hist(samples_call['lambda'], color='blue', bins=50, density=True, label='Samples', alpha=0.7)\n",
    "plt.plot([call_98[0], call_98[0]], [1.4, 0], \"-.r\", label=\"98% conf interval\")\n",
    "plt.plot([call_98[1], call_98[1]], [1.4, 0], \"-.r\")\n",
    "plt.title('$\\lambda$ samples of the posterior')\n",
    "plt.xlabel('$\\lambda$ value')\n",
    "plt.ylabel('Density frequency')\n",
    "plt.legend()\n",
    "plt.savefig('call_98.png')\n",
    "plt.show()"
   ]
  },
  {
   "cell_type": "markdown",
   "id": "exempt-sodium",
   "metadata": {},
   "source": [
    "### Appendix 3 Normal Likelihood with Normal inverse-gamma prior"
   ]
  },
  {
   "cell_type": "code",
   "execution_count": 17,
   "id": "intended-bench",
   "metadata": {},
   "outputs": [
    {
     "name": "stdout",
     "output_type": "stream",
     "text": [
      "200 data\n"
     ]
    },
    {
     "data": {
      "image/png": "[encoded data removed]",
      "text/plain": [
       "<Figure size 864x432 with 1 Axes>"
      ]
     },
     "metadata": {
      "needs_background": "light"
     },
     "output_type": "display_data"
    },
    {
     "name": "stdout",
     "output_type": "stream",
     "text": [
      "Data sample mean: 3.065080189542003\n",
      "Data sample variance: 3.6152141787699223\n"
     ]
    }
   ],
   "source": [
    "normal_likelihood_data = np.array([3.54551763569501, 4.23799861761927, 4.72138425951628, -0.692265320368236, 3.04473513808788, 3.10721270732507, 3.42982225852764, 3.12153903971176, 3.60532628639808, 2.46561737557325, 1.64059465916131, 2.4621623937158, 2.76744495617481, 2.11580054750407, 5.14077208608354, 4.90288499104252, 1.43357579078348, 4.78997817363558, 1.93633438207439, 2.43698838097178, 3.95389148701877, 2.4242295507716, 2.90256268679023, 2.90931728045901, 0.658072819386888, 3.05946763895983, 3.42615331539605, 2.68842833004417, 2.35850130765166, 2.20014998540933, 4.73846511350084, 4.19839721414451, 2.11805510171691, -0.572742936038015, 0.389413982010623, 3.87846130744249, 1.34057656890858, 0.7235748351719, 5.11042369840174, 4.00747556696571, 3.18080956726965, 3.24677964069676, 5.1154659863626, 1.80276616697155, 0.305877679021404, -0.449168307882718, 4.63705561194774, 1.37783714058301, 4.9608149859515, 6.7764195802069, 1.75515522922399, 7.04457337435215, 0.625185284955128, 2.25130734369064, 2.19770178119255, 2.16858257249432, 6.25367644481438, 0.116081323476489, 2.06315857864341, 1.82409781471718, 5.15226741230987, 2.03408231293173, -1.12450854337596, 5.03511270642234, 2.03841989653263, 5.80911741751597, 2.31718128783245, 4.97575010580997, 3.34262752222776, -0.786983904253601, 0.777362359850013, 0.975825009321195, 3.76354577515958, 7.27215002907876, 1.35404089480189, 3.76567940257157, 3.48573993343334, 1.85976988586156, 1.93567061960716, 5.31071812003942, 2.96832987672751, 3.32378908637275, 2.61631960054551, 5.80897964052825, 4.95215217171488, 1.32036772796131, 3.79932542233371, 3.08108492766309, 2.6734110081666, -0.14251851138521, 2.48744375588965, 3.98463042123415, 6.32781680028, 4.0029172024315, 4.23210369459457, 1.71412938967325, 5.16492114963802, 2.53409673107906, 4.77346963973334, 3.34088878725551, 4.77681472750664, 3.81135755590976, 1.14054269983137, 1.42057452397702, 0.132142311125433, 7.12577254064672, 4.85422012781764, 4.15745720676399, 4.48763147363348, 1.56060322283629, 2.64821761542887, 1.26655351354548, 4.48497722937931, 4.3286302403783, 4.26157679512625, 4.0597558651364, 5.14051109132496, 2.5660348362221, 1.10764013818617, 0.386889523012303, 3.54150473246237, 3.57480214382351, 1.95150869584847, 2.70688970563118, 2.47971849820016, 6.50838037000679, 4.01511556826974, 1.11562740835344, 5.02637639472439, 4.38184491686864, 5.60423144047386, 2.40067408379298, 5.7849941378344, 2.37225791084559, 6.86031465910273, 4.09214858239736, 6.85994063692621, 3.62202415158781, -1.11220646958158, 3.73920971696866, 3.24533871512216, 1.28724203643002, 0.291152541773164, 0.368630935755111, 6.71607270510525, 5.42278455200833, 5.35188416119281, 2.305874586163, -1.85878097203032, 2.69877382351447, 4.84121860550417, 4.40973060799391, 5.04399320650774, 2.68632252661298, 6.06531610659912, 3.11881325011993, 3.45532087005125, 3.08442259840346, 4.43564424136733, 2.84252623135804, 1.50536798885106, 1.48868622407603, 2.07322837615663, 2.5476910210998, 5.66941808257884, 2.16731067416426, 2.49843958833905, 3.94586413879977, 0.316433764679541, -0.608937441815983, 2.5943436558557, 1.05516869528337, 2.1447601332725, 6.65846634141906, 2.1771555267834, 5.23953812029442, 3.53629759842647, 6.03263538017003, 3.85739159396599, 5.95093453004638, 1.12856987160476, 3.5559912886093, 2.21974864244489, 3.38471394882135, -1.90805399279409, 3.5113699258973, 4.49319955412346, 5.10507952638867, 1.08277895384184, 4.58403638422759, 1.37304994426824, 4.17566975753523, 3.36454182510378, 0.177136582644021, 2.91337423388405, 3.22796455457526, 2.80124198378441, 1.95189718582788, 3.37659263896246, -1.6463045238231])\n",
    "print(len(normal_likelihood_data), \"data\")\n",
    "\n",
    "# Plot a histogram of the data. Do the data look normally distributed?\n",
    "plt.figure(figsize=(12, 6))\n",
    "plt.hist(normal_likelihood_data)\n",
    "plt.xlabel('Value')\n",
    "plt.ylabel('Frequency')\n",
    "plt.title('Data')\n",
    "plt.savefig('normal_likelihood.png')\n",
    "plt.show()\n",
    "\n",
    "# Calculate the sample mean and variance of the data\n",
    "print('Data sample mean:', np.mean(normal_likelihood_data))\n",
    "print('Data sample variance:', np.var(normal_likelihood_data))"
   ]
  },
  {
   "cell_type": "code",
   "execution_count": 18,
   "id": "regional-functionality",
   "metadata": {},
   "outputs": [
    {
     "name": "stdout",
     "output_type": "stream",
     "text": [
      "data {\n",
      "    int <lower=1> N;   \n",
      "    vector[N] y;       \n",
      "    real<lower=0> mu_0; \n",
      "    real nu_0;\n",
      "    real alpha_0;\n",
      "    real beta_0;        \n",
      "}\n",
      "\n",
      "parameters {\n",
      "    real x;                                 // the parameter for our posterior model\n",
      "    real sigma;                             // the parameter for our posterior model\n",
      "}\n",
      "\n",
      "model {\n",
      "    sigma ~ inv_gamma(alpha_0, beta_0);\n",
      "    x ~ normal(mu_0, sqrt(sigma / nu_0));  // Normal-inverse-Gamma prior\n",
      "    \n",
      "    y ~ normal(x, sqrt(sigma));            // Likelihood distribution\n",
      "}"
     ]
    }
   ],
   "source": [
    "!cat normal_likelihood.stan"
   ]
  },
  {
   "cell_type": "code",
   "execution_count": 19,
   "id": "other-tobacco",
   "metadata": {},
   "outputs": [
    {
     "name": "stderr",
     "output_type": "stream",
     "text": [
      "INFO:pystan:COMPILING THE C++ CODE FOR MODEL anon_model_5d35c2fcae96dba16f96102e8e6b1f07 NOW.\n"
     ]
    }
   ],
   "source": [
    "stan_model_normal_likelihood = pystan.StanModel(file='normal_likelihood.stan')"
   ]
  },
  {
   "cell_type": "code",
   "execution_count": 20,
   "id": "protected-grant",
   "metadata": {},
   "outputs": [
    {
     "name": "stdout",
     "output_type": "stream",
     "text": [
      "Inference for Stan model: anon_model_5d35c2fcae96dba16f96102e8e6b1f07.\n",
      "4 chains, each with iter=2000; warmup=1000; thin=1; \n",
      "post-warmup draws per chain=1000, total post-warmup draws=4000.\n",
      "\n",
      "        mean se_mean     sd   2.5%    25%    50%    75%  97.5%  n_eff   Rhat\n",
      "x       3.07  2.4e-3   0.13   2.81   2.98   3.07   3.15   3.34   3065    1.0\n",
      "sigma   3.63  6.5e-3   0.36    3.0   3.37   3.59   3.86   4.38   3128    1.0\n",
      "lp__  -234.5    0.03   1.05 -237.3 -234.9 -234.1 -233.7 -233.5   1702    1.0\n",
      "\n",
      "Samples were drawn using NUTS at Sat Feb 20 09:22:22 2021.\n",
      "For each parameter, n_eff is a crude measure of effective sample size,\n",
      "and Rhat is the potential scale reduction factor on split chains (at \n",
      "convergence, Rhat=1).\n"
     ]
    }
   ],
   "source": [
    "# Results\n",
    "stan_data_normal_likelihood = {\n",
    "    'N': len(normal_likelihood_data),\n",
    "    'y': normal_likelihood_data,\n",
    "    'mu_0': 0,\n",
    "    'nu_0': 0.054,\n",
    "    'alpha_0': 1.12,\n",
    "    'beta_0': 0.4\n",
    "}\n",
    "results_normal_likelihood = stan_model_normal_likelihood.sampling(data=stan_data_normal_likelihood)\n",
    "print(results_normal_likelihood)"
   ]
  },
  {
   "cell_type": "code",
   "execution_count": 21,
   "id": "sexual-madagascar",
   "metadata": {},
   "outputs": [],
   "source": [
    "# The 95% percentiles\n",
    "samples_normal_likelihood = results_normal_likelihood.extract()\n",
    "x_normal_likelihood_95 = np.percentile(samples_normal_likelihood['x'], [2.5, 97.5])\n",
    "sigma_normal_likelihood_95 = np.percentile(samples_normal_likelihood['sigma'], [2.5, 97.5])\n",
    "\n",
    "with open('normal_likelihood_95.txt', 'w') as fp:\n",
    "    fp.writelines(\n",
    "        [\n",
    "            f'x : {str(x_normal_likelihood_95)}\\n',\n",
    "            f'sigma : {str(sigma_normal_likelihood_95)}'\n",
    "        ]\n",
    "    )"
   ]
  },
  {
   "cell_type": "code",
   "execution_count": 22,
   "id": "latest-choir",
   "metadata": {},
   "outputs": [
    {
     "data": {
      "image/png": "[encoded data removed]",
      "text/plain": [
       "<Figure size 864x432 with 1 Axes>"
      ]
     },
     "metadata": {
      "needs_background": "light"
     },
     "output_type": "display_data"
    }
   ],
   "source": [
    "np.random.seed = 1\n",
    "num_samples = 10\n",
    "indexes = np.random.randint(len(samples_normal_likelihood['x']), size=num_samples)\n",
    "\n",
    "# Plot the normal distributions corresponding to the samples\n",
    "plt.figure(figsize=(12, 6))\n",
    "plot_x = np.linspace(-15, 15, 500)\n",
    "for i in indexes:\n",
    "    plot_y = stats.norm.pdf(\n",
    "        plot_x, \n",
    "        loc=samples_normal_likelihood['x'][i], \n",
    "        scale=np.sqrt(samples_normal_likelihood['sigma'][i])\n",
    "    )\n",
    "    plt.plot(plot_x, plot_y)\n",
    "plt.title('%i samples from a normal-inverse-gamma posterior distribution' % num_samples)\n",
    "plt.xlabel('Data value')\n",
    "plt.ylabel('Probability')\n",
    "plt.savefig('normal_likelihood.png')\n",
    "plt.show()"
   ]
  },
  {
   "cell_type": "markdown",
   "id": "spoken-biotechnology",
   "metadata": {},
   "source": [
    "### Appendix 4 HRTEM data"
   ]
  },
  {
   "cell_type": "code",
   "execution_count": 23,
   "id": "contrary-champagne",
   "metadata": {},
   "outputs": [
    {
     "name": "stdout",
     "output_type": "stream",
     "text": [
      "500 data, min: 1.051827, max: 28.942578\n"
     ]
    }
   ],
   "source": [
    "# Load data: read the particle sizes (in nanometers) from a CSV file.\n",
    "hrtem_data = np.loadtxt('hrtem.csv')\n",
    "print('%i data, min: %f, max: %f' % (len(hrtem_data), min(hrtem_data), max(hrtem_data)))"
   ]
  },
  {
   "cell_type": "code",
   "execution_count": 24,
   "id": "favorite-invasion",
   "metadata": {},
   "outputs": [
    {
     "data": {
      "image/png": "[encoded data removed]",
      "text/plain": [
       "<Figure size 864x432 with 1 Axes>"
      ]
     },
     "metadata": {
      "needs_background": "light"
     },
     "output_type": "display_data"
    }
   ],
   "source": [
    "# Data are very skew and all values are positive, so probably non-normal.\n",
    "plt.figure(figsize=(12,6))\n",
    "plt.hist(hrtem_data, bins=20)\n",
    "plt.xlabel('Particle size (nanometers)')\n",
    "plt.ylabel('Frequency')\n",
    "plt.title('Histogram of data set')\n",
    "plt.savefig('hrtem_data.png')\n",
    "plt.show()"
   ]
  },
  {
   "cell_type": "code",
   "execution_count": 25,
   "id": "tropical-nightlife",
   "metadata": {},
   "outputs": [
    {
     "name": "stdout",
     "output_type": "stream",
     "text": [
      "data {\n",
      "    int <lower=1> N;   \n",
      "    vector[N] y;       \n",
      "    real<lower=0> mu_0; \n",
      "    real nu_0;\n",
      "    real alpha_0;\n",
      "    real beta_0;        \n",
      "}\n",
      "\n",
      "parameters {\n",
      "    real x;                                 // the parameter for our posterior model\n",
      "    real sigma;                             // the parameter for our posterior model\n",
      "}\n",
      "\n",
      "model {\n",
      "    sigma ~ inv_gamma(alpha_0, beta_0);\n",
      "    x ~ normal(mu_0, sqrt(sigma / nu_0));   // Normal-inverse-Gamma prior\n",
      "    \n",
      "    y ~ lognormal(x, sqrt(sigma));          // Likelihood distribution\n",
      "}"
     ]
    }
   ],
   "source": [
    "!cat hrtem.stan"
   ]
  },
  {
   "cell_type": "code",
   "execution_count": 26,
   "id": "extraordinary-ethnic",
   "metadata": {},
   "outputs": [
    {
     "name": "stderr",
     "output_type": "stream",
     "text": [
      "INFO:pystan:COMPILING THE C++ CODE FOR MODEL anon_model_743cc40e3f78c725be8230ac957dd8a7 NOW.\n"
     ]
    }
   ],
   "source": [
    "stan_model_hrtem = pystan.StanModel(file='hrtem.stan')"
   ]
  },
  {
   "cell_type": "code",
   "execution_count": 27,
   "id": "formal-gallery",
   "metadata": {},
   "outputs": [
    {
     "name": "stdout",
     "output_type": "stream",
     "text": [
      "Inference for Stan model: anon_model_743cc40e3f78c725be8230ac957dd8a7.\n",
      "4 chains, each with iter=2000; warmup=1000; thin=1; \n",
      "post-warmup draws per chain=1000, total post-warmup draws=4000.\n",
      "\n",
      "        mean se_mean     sd   2.5%    25%    50%    75%  97.5%  n_eff   Rhat\n",
      "x       1.89  6.1e-4   0.03   1.83   1.87   1.89   1.91   1.95   2701    1.0\n",
      "sigma    0.5  5.5e-4   0.03   0.44   0.48   0.49   0.52   0.56   3034    1.0\n",
      "lp__  -75.29    0.02   0.98 -77.89 -75.69 -74.97 -74.58 -74.33   1748    1.0\n",
      "\n",
      "Samples were drawn using NUTS at Sat Feb 20 09:23:10 2021.\n",
      "For each parameter, n_eff is a crude measure of effective sample size,\n",
      "and Rhat is the potential scale reduction factor on split chains (at \n",
      "convergence, Rhat=1).\n"
     ]
    }
   ],
   "source": [
    "# Results\n",
    "stan_data_hrtem = {\n",
    "    'N': len(hrtem_data),\n",
    "    'y': hrtem_data,\n",
    "    'mu_0': 2.3,\n",
    "    'nu_0': 0.1,\n",
    "    'alpha_0': 2,\n",
    "    'beta_0': 5\n",
    "}\n",
    "results_hrtem = stan_model_hrtem.sampling(data=stan_data_hrtem)\n",
    "print(results_hrtem)"
   ]
  },
  {
   "cell_type": "code",
   "execution_count": 28,
   "id": "present-clark",
   "metadata": {},
   "outputs": [],
   "source": [
    "# The 95% percentiles\n",
    "samples_hrtem = results_hrtem.extract()\n",
    "x_hrtem_95 = np.percentile(samples_hrtem['x'], [2.5, 97.5])\n",
    "sigma_hrtem_95 = np.percentile(samples_hrtem['sigma'], [2.5, 97.5])\n",
    "\n",
    "with open('hrtem_95.txt', 'w') as fp:\n",
    "    fp.writelines(\n",
    "        [\n",
    "            f'x : {str(x_hrtem_95)}\\n',\n",
    "            f'sigma : {str(sigma_hrtem_95)}'\n",
    "        ]\n",
    "    )"
   ]
  },
  {
   "cell_type": "code",
   "execution_count": 29,
   "id": "transsexual-football",
   "metadata": {},
   "outputs": [
    {
     "data": {
      "image/png": "[encoded data removed]",
      "text/plain": [
       "<Figure size 864x432 with 1 Axes>"
      ]
     },
     "metadata": {
      "needs_background": "light"
     },
     "output_type": "display_data"
    }
   ],
   "source": [
    "np.random.seed = 1\n",
    "num_samples = 10\n",
    "indexes = np.random.randint(len(samples_hrtem['x']), size=num_samples)\n",
    "\n",
    "plt.figure(figsize=(12,6))\n",
    "plt.hist(hrtem_data, bins=20, density=True, alpha=0.5)\n",
    "plot_x = np.linspace(0, 30, 200)\n",
    "for i in indexes:\n",
    "    plot_y = stats.lognorm.pdf(\n",
    "        plot_x, \n",
    "        np.sqrt(samples_hrtem['sigma'][i]), \n",
    "        scale=np.exp(samples_hrtem['x'][i])\n",
    "    )\n",
    "    plt.plot(plot_x, plot_y)\n",
    "plt.xlabel('Particle size (nanometers)')\n",
    "plt.ylabel('Probability')\n",
    "plt.title('10 Samples from the HRTEM posterior distributions')\n",
    "plt.savefig('hrtem_posterior.png')\n",
    "plt.show()"
   ]
  },
  {
   "cell_type": "markdown",
   "id": "mobile-bryan",
   "metadata": {},
   "source": [
    "### Appendix 5 Stretch goal"
   ]
  },
  {
   "cell_type": "code",
   "execution_count": 30,
   "id": "meaning-cornwall",
   "metadata": {},
   "outputs": [
    {
     "name": "stdout",
     "output_type": "stream",
     "text": [
      "data {\n",
      "    int <lower=1> N;   \n",
      "    vector[N] y;            \n",
      "}\n",
      "\n",
      "parameters {\n",
      "    real<lower=0, upper=1> theta;\n",
      "    ordered[2] mu;\n",
      "    real<lower=0> sigma[2];\n",
      "}\n",
      "\n",
      "model {\n",
      "     sigma ~ normal(0, 2);\n",
      "     mu ~ normal(0, 2);\n",
      "     theta ~ beta(5, 5);\n",
      "\n",
      "     // Mix the two gaussians\n",
      "     for (n in 1:N){\n",
      "       target += log_mix(theta,\n",
      "                         normal_lpdf(y[n] | mu[1], sigma[1]),\n",
      "                         normal_lpdf(y[n] | mu[2], sigma[2]));\n",
      "    }          \n",
      "}"
     ]
    }
   ],
   "source": [
    "!cat hrtem_2.stan"
   ]
  },
  {
   "cell_type": "code",
   "execution_count": 31,
   "id": "authentic-monitoring",
   "metadata": {},
   "outputs": [
    {
     "name": "stderr",
     "output_type": "stream",
     "text": [
      "INFO:pystan:COMPILING THE C++ CODE FOR MODEL anon_model_40d51a992c871904016ed888ee850bb5 NOW.\n"
     ]
    }
   ],
   "source": [
    "stan_model_hrtem_w = pystan.StanModel(file='hrtem_2.stan')"
   ]
  },
  {
   "cell_type": "code",
   "execution_count": 32,
   "id": "objective-sensitivity",
   "metadata": {},
   "outputs": [
    {
     "name": "stdout",
     "output_type": "stream",
     "text": [
      "Inference for Stan model: anon_model_40d51a992c871904016ed888ee850bb5.\n",
      "4 chains, each with iter=2000; warmup=1000; thin=1; \n",
      "post-warmup draws per chain=1000, total post-warmup draws=4000.\n",
      "\n",
      "           mean se_mean     sd   2.5%    25%    50%    75%  97.5%  n_eff   Rhat\n",
      "theta      0.57  1.9e-3   0.06   0.46   0.53   0.57   0.61   0.69    895   1.01\n",
      "mu[1]      1.43  2.5e-3   0.08   1.29   1.38   1.42   1.48   1.59    888    1.0\n",
      "mu[2]      2.51  1.4e-3   0.05   2.41   2.48   2.51   2.54    2.6   1396    1.0\n",
      "sigma[1]   0.49  1.5e-3   0.05   0.41   0.46   0.49   0.52   0.59    959    1.0\n",
      "sigma[2]   0.35  7.6e-4   0.03   0.29   0.33   0.35   0.37   0.42   1702    1.0\n",
      "lp__     -514.6    0.05   1.65 -518.8 -515.5 -514.3 -513.4 -512.4   1297    1.0\n",
      "\n",
      "Samples were drawn using NUTS at Sat Feb 20 09:24:05 2021.\n",
      "For each parameter, n_eff is a crude measure of effective sample size,\n",
      "and Rhat is the potential scale reduction factor on split chains (at \n",
      "convergence, Rhat=1).\n"
     ]
    }
   ],
   "source": [
    "stan_data_hrtem_2 = {\n",
    "    'N': len(hrtem_data),\n",
    "    'y': np.log(hrtem_data),\n",
    "}\n",
    "results_hrtem_2 = stan_model_hrtem_w.sampling(data=stan_data_hrtem_2)\n",
    "print(results_hrtem_2)"
   ]
  },
  {
   "cell_type": "code",
   "execution_count": 33,
   "id": "presidential-argument",
   "metadata": {},
   "outputs": [
    {
     "data": {
      "image/png": "[encoded data removed]",
      "text/plain": [
       "<Figure size 864x432 with 1 Axes>"
      ]
     },
     "metadata": {
      "needs_background": "light"
     },
     "output_type": "display_data"
    }
   ],
   "source": [
    "mu_1 = results_hrtem_2['mu[1]'].mean()\n",
    "mu_2 = results_hrtem_2['mu[2]'].mean()\n",
    "sigma_1 = results_hrtem_2['sigma[1]'].mean()\n",
    "sigma_2 = results_hrtem_2['sigma[2]'].mean()\n",
    "theta = results_hrtem_2['theta'].mean()\n",
    "\n",
    "plot_x = np.linspace(0, 3.5, 200)\n",
    "\n",
    "plt.figure(figsize=(12,6))\n",
    "plt.hist(np.log(hrtem_data), density=True,label='HRTEM data')\n",
    "plt.xlabel('Log of particle size')\n",
    "plt.ylabel('Probability')\n",
    "plt.title('Results of mixing two Gaussians on the HRTEM dataset')\n",
    "plt.plot(\n",
    "    plot_x,\n",
    "    theta*stats.norm.pdf(plot_x,loc=mu_1,scale=sigma_1)+(1-theta)*stats.norm.pdf(plot_x,loc=mu_2,scale=sigma_2),\n",
    "    linewidth=4,\n",
    "    color='black',\n",
    "    label='Stan model'\n",
    ")\n",
    "plt.legend()\n",
    "plt.savefig('hrtem_2.png')\n",
    "plt.show()"
   ]
  }
 ],
 "metadata": {
  "colab": {
   "name": "notebook.ipynb",
   "provenance": []
  },
  "kernelspec": {
   "display_name": "Python 3",
   "language": "python",
   "name": "python3"
  },
  "language_info": {
   "codemirror_mode": {
    "name": "ipython",
    "version": 3
   },
   "file_extension": ".py",
   "mimetype": "text/x-python",
   "name": "python",
   "nbconvert_exporter": "python",
   "pygments_lexer": "ipython3",
   "version": "3.7.9"
  }
 },
 "nbformat": 4,
 "nbformat_minor": 5
}
