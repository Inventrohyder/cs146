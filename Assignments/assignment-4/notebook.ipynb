{
 "cells": [
  {
   "cell_type": "markdown",
   "metadata": {},
   "source": [
    "## Appendix\n",
    "\n",
    "The eczema medical trial data set again. This time we will compare which of 2 models explain the observed data best.\n",
    "\n",
    "* Model 1: All studies have the same probability of success.\n",
    "* Model 2: A hierarchical model where the probability of success in each study is drawn from a beta prior distribution with unknown $\\alpha$ and $\\beta$ parameters.\n",
    "\n",
    "\n",
    "|Study          | Treatment group |   Control group  |\n",
    "|---------------|-----------------|------------------|\n",
    "|Di Rienzo 2014 |     20 / 23     |        9 / 15    |\n",
    "|Galli 1994     |     10 / 16     |       11 / 18    |\n",
    "|Kaufman 1974   |     13 / 16     |        4 / 10    |\n",
    "|Qin 2014       |     35 / 45     |       21 / 39    |\n",
    "|Sanchez 2012   |     22 / 31     |       12 / 29    |\n",
    "|Silny 2006     |      7 / 10     |        0 / 10    |\n",
    "|**Totals**     |    107 / 141    |       57 / 121   |\n",
    "\n",
    "\n",
    "**Model 1:**\n",
    "\n",
    "* For each group (treatment and control), all 6 studies have the same fixed, but unknown, probability of success, $\\theta_t,\\theta_c\\in[0,1]$.\n",
    "* The data follow a binomial distribution in each study, conditioned on the probability of success — $\\theta_t$ for treatment or $\\theta_c$ for control.\n",
    "* The priors over $\\theta_t$ and $\\theta_c$ are uniform.\n",
    "\n",
    "These assumptions lead to the following model.\n",
    "\n",
    "* Likelihood: $\\prod_{i=1}^6 \\text{Binomial}(s_i\\,|\\,\\theta, n_i)$, where $s_i$ is the number of successful recoveries, $f_i$ is the number of failures (did not recover), and $n_i=s_i+f_i$ the number of patients.\n",
    "\n",
    "* Prior: $\\text{Beta}(\\theta\\,|\\,1,1)$ for both $\\theta_t$ and $\\theta_c$.\n",
    "\n",
    "* Posterior for treatment group: $\\text{Beta}(\\theta_t\\,|\\,108, 35)$.\n",
    "\n",
    "* Posterior for control group: $\\text{Beta}(\\theta_c\\,|\\,58, 65)$."
   ]
  },
  {
   "cell_type": "markdown",
   "metadata": {},
   "source": [
    "Since we have closed-form solutions for the posteriors, we can calculate the marginal likelihood by rearranging Bayes' equation: (marginal likelihood) = (likelihood) x (prior) / (posterior).\n",
    "\n",
    "$$ P(\\text{data}) = \\left[\\prod_{i=1}^6 \\text{Binomial}(s_i\\,|\\,\\theta, n_i) \\right] \\text{Beta}(\\theta\\,|\\,\\alpha_0,\\beta_0) \\,/\\, \\text{Beta}(\\theta\\,|\\,\\alpha_1,\\beta_1)$$\n",
    "where $\\alpha_0=1$ and $\\beta_0=1$ are the parameters of the prior, and $\\alpha_1$ and $\\beta_1$ are the parameters of the posterior beta distribution.\n",
    "\n",
    "Since all factors involving $\\theta$ cancel out, we are just left with the normalization constants of the likelihood, the prior and the posterior:\n",
    "\n",
    "$$\\begin{aligned}\n",
    "P(\\text{data})\n",
    "&= \\left[ \\prod_{i=1}^6 \\left(\\begin{array}{c}s_i+f_i \\\\ s_i\\end{array}\\right) \\right] \\frac{\\text{B}(\\alpha_1,\\beta_1)}{\\text{B}(\\alpha_0,\\beta_0)} \\\\\n",
    "&= \\left[\\prod_{i=1}^6 \\frac{1}{(s_i+f_i+1)\\text{B}(s_i+1,f_i+1)}\\right] \\frac{\\text{B}(\\alpha_1,\\beta_1)}{\\text{B}(\\alpha_0,\\beta_0)}\n",
    "\\end{aligned}$$\n",
    "\n",
    "We usually compute the log of the marginal likelihood since the results can vary over many orders of magnitude.\n",
    "\n",
    "**A word on notation** in the derivation above:\n",
    "\n",
    "* The beta _distribution_ is written as $\\text{Beta}(\\theta \\,|\\, \\alpha, \\beta)$.\n",
    "* The beta _function_ is written as $B(\\alpha,\\beta)$. $B$ is the Greek letter _capital beta_.\n",
    "* The beta function is part of the normalization constant of the beta distribution.\n",
    "\n",
    "This is similar to the gamma distribution and the gamma function, where\n",
    "\n",
    "* the distribution is written as $\\text{Gamma}(x \\,|\\, \\alpha, \\beta)$,\n",
    "* the function is written as $\\Gamma(\\alpha)$,\n",
    "* the gamma function is part of the normalization constant of the gamma distribution.\n",
    "\n",
    "**A word on simplifying the expression** in the derivation above:\n",
    "\n",
    "Just as the gamma function is related to factorials, the beta function is related to combinations:\n",
    "\n",
    "* $n! = \\Gamma(n+1)$ for integer $n$.\n",
    "* $\\binom{n}{k}=\\left((n+1)\\cdot B(n-k+1, k+1)\\right)^{-1}$\n",
    "\n",
    "The beta function can also be written in terms of the gamma function:\n",
    "\n",
    "* $B(x,y) = \\Gamma(x)\\ \\Gamma(y)\\ /\\ \\Gamma(x+y)$\n"
   ]
  },
  {
   "cell_type": "markdown",
   "metadata": {},
   "source": [
    "## Task 1\n",
    "\n",
    "1. Take the log of the marginal likelihood above.\n",
    "2. Complete the Python function below to calculate the log marginal likelihood.\n",
    "3. You can use the built-in function `scipy.special.betaln(a,b)` to compute $\\log \\text{B}(a,b)$."
   ]
  },
  {
   "cell_type": "code",
   "execution_count": 1,
   "metadata": {
    "collapsed": false,
    "jupyter": {
     "outputs_hidden": false
    }
   },
   "outputs": [],
   "source": [
    "from scipy.special import betaln\n",
    "\n",
    "def log_beta_binomial_marginal_likelihood(alpha0, beta0, data):\n",
    "    '''\n",
    "    Compute the log marginal likelihood of the beta-binomial model\n",
    "    for the eczema data set.\n",
    "\n",
    "    Arguments:\n",
    "\n",
    "        alpha0, beta0: prior beta distribution parameters.\n",
    "\n",
    "        data: 2 x n matrix, where n is the number of samples from\n",
    "          the binomial distribution. This means the first row contains\n",
    "          the success counts and the second row the failure counts\n",
    "          of the samples.\n",
    "    '''\n",
    "\n",
    "    # Compute posterior parameters\n",
    "    alpha1 = alpha0 + sum(data[0, :])\n",
    "    beta1 = beta0 + sum(data[1, :])\n",
    "\n",
    "    # Compute and return log marginal likelihood\n",
    "    log_evidence = (\n",
    "        betaln(alpha1, beta1) -\n",
    "        betaln(alpha0, beta0) -\n",
    "        sum(betaln(data[0,:] + 1, data[1,:] + 1)) -\n",
    "        sum(np.log(data[0,:] + data[1,:] + 1)))\n",
    "\n",
    "    return log_evidence\n"
   ]
  },
  {
   "cell_type": "markdown",
   "metadata": {},
   "source": [
    "**Model 2:**\n",
    "\n",
    "* For each group (intervention and control), each of the 6 studies has a different probability of success.\n",
    "* Each probability of success is drawn from a beta prior with unknown parameters $\\alpha$ and $\\beta$.\n",
    "* Since $\\alpha$ and $\\beta$ are unknown, we put a broad hyperprior on them — we choose the Gamma(2, 0.5) distribution, which is shown below."
   ]
  },
  {
   "cell_type": "code",
   "execution_count": 2,
   "metadata": {
    "collapsed": false,
    "jupyter": {
     "outputs_hidden": false
    }
   },
   "outputs": [
    {
     "data": {
      "image/png": "[encoded data removed]",
      "text/plain": [
       "<Figure size 864x432 with 1 Axes>"
      ]
     },
     "metadata": {
      "needs_background": "light"
     },
     "output_type": "display_data"
    }
   ],
   "source": [
    "import matplotlib.pyplot as plt\n",
    "import numpy as np\n",
    "import scipy.stats as sts\n",
    "\n",
    "plot_x = np.linspace(0, 15, 200)\n",
    "plot_y = sts.gamma(a=2, scale=1/0.5).pdf(plot_x)\n",
    "plt.figure(figsize=(12, 6))\n",
    "plt.plot(plot_x, plot_y)\n",
    "plt.title(r'Probability density Gamma(x | α=2, β=0.5)')\n",
    "plt.show()"
   ]
  },
  {
   "cell_type": "markdown",
   "metadata": {},
   "source": [
    "These assumptions lead to the following model:\n",
    "\n",
    "* Likelihood: $\\prod_{i=1}^6 \\text{Binomial}(s_i\\,|\\,\\theta_i, n_i)$, where $s_i$ is the number of successful recoveries, $f_i$ is the number of failures (did not recover), and $n_i=s_i+f_i$ the number of patients. Note that each study has its own $\\theta_i$, whereas Model 1 had the same $\\theta$ for all 6 studies.\n",
    "\n",
    "* Prior: $\\prod_{i=1}^6 \\text{Beta}(\\theta_i\\,|\\,\\alpha,\\beta)$.\n",
    "\n",
    "* Hyperprior: $P(\\alpha,\\beta) = \\text{Gamma}(\\alpha\\,|\\,2,0.5)\\,\\text{Gamma}(\\beta\\,|\\,2,0.5)$.\n",
    "\n",
    "This model has 8 parameters (for each of the treatment and control groups), namely $\\theta_1, \\ldots, \\theta_6$, $\\alpha$, and $\\beta$."
   ]
  },
  {
   "cell_type": "markdown",
   "metadata": {},
   "source": [
    "Since the posterior does not have a closed-form analytical solution, we have to calculate the marginal likelihood by integrating out all of the parameters in the model.\n",
    "\n",
    "$$ P(\\text{data}) = \\int_0^{\\infty} \\int_0^{\\infty} \\int_0^1\\cdots\\int_0^1 \\left[\\prod_{i=1}^6 \\text{Binomial}(s_i\\,|\\,\\theta_i,n_i)\\,\\text{Beta}(\\theta_i\\,|\\,\\alpha,\\beta) \\right] P(\\alpha,\\beta)\\ \\text{d}\\theta_6\\cdots\\text{d}\\theta_1\\,\\text{d}\\beta\\,\\text{d}\\alpha$$\n",
    "\n",
    "This looks like a crazy 8-dimensional integral, but we can actually integrate out the $\\theta_i$ analytically, leaving a 2-dimensional integral over $\\alpha$ and $\\beta$.\n",
    "\n",
    "First, note that $P(\\alpha,\\beta)$ does not contain $\\theta_i$, so we can move it outside of the $\\theta_i$ integrals.\n",
    "\n",
    "$$ = \\int_0^{\\infty} \\int_0^{\\infty} P(\\alpha,\\beta) {\\color{blue}{\\int_0^1\\cdots\\int_0^1 \\left[\\prod_{i=1}^6 \\text{Binomial}(s_i\\,|\\,\\theta_i,n_i)\\,\\text{Beta}(\\theta_i\\,|\\,\\alpha,\\beta) \\right] \\ \\text{d}\\theta_6\\cdots\\text{d}\\theta_1}}\\,\\text{d}\\beta\\,\\text{d}\\alpha$$\n",
    "\n",
    "Next, since there are no factors containing two different $\\theta_i$ variables, we can rearrange the integrals and the products (the blue part) like this:\n",
    "\n",
    "$$ = \\int_0^{\\infty} \\int_0^{\\infty} P(\\alpha,\\beta) {\\color{blue}{\\left[\\prod_{i=1}^6 \\int_0^1\\text{Binomial}(s_i\\,|\\,\\theta_i,n_i)\\,\\text{Beta}(\\theta_i\\,|\\,\\alpha,\\beta)\\,\\text{d}\\theta_i\\right]}}\\,\\text{d}\\beta\\,\\text{d}\\alpha$$\n",
    "\n",
    "**Note that we cannot always swap products and integrals.**\n"
   ]
  },
  {
   "cell_type": "markdown",
   "metadata": {},
   "source": [
    "Since the beta distribution is conjugate to the binomial, the blue integrals above can be evaluated analytically (much like we did for Model 1), to get\n",
    "\n",
    "$$ = \\int_0^{\\infty}\\int_0^{\\infty} P(\\alpha,\\beta) \\left[\\prod_{i=1}^6 \\frac{1}{(s_i+f_i+1)\\,\\text{B}(s_i+1,f_i+1)}\\,\\frac{\\text{B}(\\alpha+s_i, \\beta+f_i)}{\\text{B}(\\alpha,\\beta)}\\right]\\,\\text{d}\\beta\\,\\text{d}\\alpha$$\n",
    "\n",
    "Finally, move all the factors that do not depend on $\\alpha$ or $\\beta$ out of the integrals.\n",
    "\n",
    "$$ = \\left[\\prod_{i=1}^6 (s_i+f_i+1)\\,\\text{B}(s_i+1,f_i+1) \\right]^{-1} \\int_0^{\\infty}\\int_0^{\\infty} P(\\alpha,\\beta)\\, \\text{B}(\\alpha,\\beta)^{-6} \\prod_{i=1}^6 \\text{B}(\\alpha+s_i, \\beta+f_i)\\ \\text{d}\\beta\\,\\text{d}\\alpha$$\n",
    "\n",
    "Unfortunately we cannot evaluate the remaining integrals analytically, so we resort to a numerical calculation."
   ]
  },
  {
   "cell_type": "markdown",
   "metadata": {},
   "source": [
    "## Task 2\n",
    "\n",
    "1. Write a Python function to compute the value of the integral above using the `scipy.integrate.dblquad` function.\n",
    "2. Write a Python function to compute the marginal likelihood of the hierarchical model for the medical trials data set."
   ]
  },
  {
   "cell_type": "markdown",
   "metadata": {},
   "source": [
    "### Non-hierachichal model"
   ]
  },
  {
   "cell_type": "code",
   "execution_count": 57,
   "metadata": {},
   "outputs": [],
   "source": [
    "import numpy as np\n",
    "from scipy.special import betaln\n",
    "\n",
    "def log_beta_binomial_marginal_likelihood(alpha0, beta0, data):\n",
    "    '''\n",
    "    Compute the log marginal likelihood of the beta-binomial model\n",
    "    for the eczema data set.\n",
    "\n",
    "    Arguments:\n",
    "\n",
    "        alpha0, beta0: prior beta distribution parameters.\n",
    "\n",
    "        data: 2 x n matrix, where n is the number of samples from\n",
    "          the binomial distribution. This means the first row contains\n",
    "          the success counts and the second row the failure counts\n",
    "          of the samples.\n",
    "    '''\n",
    "\n",
    "    # Compute posterior parameters\n",
    "    alpha1 = alpha0 + sum(data[0, :])\n",
    "    beta1 = beta0 + sum(data[1, :])\n",
    "    print(\"posterior\", alpha1, beta1)\n",
    "\n",
    "    # Compute and return log marginal likelihood\n",
    "    log_evidence = (\n",
    "        betaln(alpha1, beta1) -\n",
    "        betaln(alpha0, beta0) -\n",
    "        sum(betaln(data[0,:] + 1, data[1,:] + 1)) -\n",
    "        sum(np.log(data[0,:] + data[1,:] + 1)))\n",
    "\n",
    "    return log_evidence"
   ]
  },
  {
   "cell_type": "code",
   "execution_count": 58,
   "metadata": {},
   "outputs": [
    {
     "name": "stdout",
     "output_type": "stream",
     "text": [
      "posterior 108 35\n",
      "Treatment marginal log-likelihood:  -14.009751831832737\n",
      "posterior 58 65\n",
      "Control marginal log-likelihood:  -18.99394828290636\n",
      "posterior 108 35\n",
      "Treatment marginal likelihood:  8.234592011116271e-07\n",
      "posterior 58 65\n",
      "Control marginal likelihood:  5.636805780176188e-09\n"
     ]
    }
   ],
   "source": [
    "data_treatment = np.array([[20, 10, 13, 35, 22, 7], [3, 6, 3, 10, 9, 3]])\n",
    "data_control = np.array([[9, 11, 4, 21, 12, 0], [6, 7, 6, 18, 17, 10]])\n",
    "\n",
    "alpha0, beta0 = 1, 1\n",
    "\n",
    "print('Treatment marginal log-likelihood: ',log_beta_binomial_marginal_likelihood(alpha0, beta0, data_treatment))\n",
    "\n",
    "print('Control marginal log-likelihood: ',log_beta_binomial_marginal_likelihood(alpha0, beta0, data_control))\n",
    "\n",
    "print('Treatment marginal likelihood: ',np.exp(log_beta_binomial_marginal_likelihood(alpha0, beta0, data_treatment)))\n",
    "\n",
    "print('Control marginal likelihood: ',np.exp(log_beta_binomial_marginal_likelihood(alpha0, beta0, data_control)))\n",
    "\n"
   ]
  },
  {
   "cell_type": "code",
   "execution_count": 47,
   "metadata": {},
   "outputs": [],
   "source": [
    "# beta(theta, 108, 35)\n",
    "from scipy.stats import beta"
   ]
  },
  {
   "cell_type": "code",
   "execution_count": 30,
   "metadata": {},
   "outputs": [],
   "source": [
    "import matplotlib.pyplot as plt"
   ]
  },
  {
   "cell_type": "code",
   "execution_count": 54,
   "metadata": {},
   "outputs": [],
   "source": [
    "def test(a: int, b: int, data: list, size: int = 1000):\n",
    "    model = beta(a, b)\n",
    "    \n",
    "    \n",
    "    t_statistic = np.mean(data[0]/(data[0] + data[1]))\n",
    "    print(\"Test statistic:\", t_statistic, \"-> p-value\", model.pdf(t_statistic))\n",
    "    \n",
    "    # Samples\n",
    "    r = model.rvs(size=size)\n",
    "    plt.axvline(t_statistic, color=\"red\")\n",
    "    plt.hist(r)\n",
    "    plt.show()\n",
    "    \n",
    "    lower_limit = model.ppf(0.001)\n",
    "    upper_limit = model.ppf(0.9999)\n",
    "    \n",
    "    x = np.linspace(lower_limit, upper_limit, 100)\n",
    "    plt.plot(x, model.pdf(x))\n",
    "    plt.axvline(t_statistic, color=\"red\")\n",
    "    plt.show()"
   ]
  },
  {
   "cell_type": "code",
   "execution_count": 55,
   "metadata": {},
   "outputs": [
    {
     "name": "stdout",
     "output_type": "stream",
     "text": [
      "Test statistic: 0.7490867357539868 -> p-value 10.727948431770209\n"
     ]
    },
    {
     "data": {
      "image/png": "[encoded data removed]",
      "text/plain": [
       "<Figure size 432x288 with 1 Axes>"
      ]
     },
     "metadata": {
      "needs_background": "light"
     },
     "output_type": "display_data"
    },
    {
     "data": {
      "image/png": "[encoded data removed]",
      "text/plain": [
       "<Figure size 432x288 with 1 Axes>"
      ]
     },
     "metadata": {
      "needs_background": "light"
     },
     "output_type": "display_data"
    }
   ],
   "source": [
    "test(108, 35, data_treatment)"
   ]
  },
  {
   "cell_type": "code",
   "execution_count": 56,
   "metadata": {},
   "outputs": [
    {
     "name": "stdout",
     "output_type": "stream",
     "text": [
      "Test statistic: 0.42722762550348753 -> p-value 5.518388434560626\n"
     ]
    },
    {
     "data": {
      "image/png": "[encoded data removed]",
      "text/plain": [
       "<Figure size 432x288 with 1 Axes>"
      ]
     },
     "metadata": {
      "needs_background": "light"
     },
     "output_type": "display_data"
    },
    {
     "data": {
      "image/png": "[encoded data removed]",
      "text/plain": [
       "<Figure size 432x288 with 1 Axes>"
      ]
     },
     "metadata": {
      "needs_background": "light"
     },
     "output_type": "display_data"
    }
   ],
   "source": [
    "test(58, 65, data_control)"
   ]
  },
  {
   "cell_type": "code",
   "execution_count": 64,
   "metadata": {},
   "outputs": [
    {
     "data": {
      "text/plain": [
       "array([0.01611796, 0.05654122, 0.0451395 , 0.02867461])"
      ]
     },
     "execution_count": 64,
     "metadata": {},
     "output_type": "execute_result"
    }
   ],
   "source": [
    "np.std(beta.rvs(65, 10, size=(10, 4)), axis=0)"
   ]
  },
  {
   "cell_type": "code",
   "execution_count": 65,
   "metadata": {},
   "outputs": [],
   "source": [
    "def test_std(a: int, b: int, data: list, sample_size: int = 1000, iterations=1000):\n",
    "    model = beta(a, b)\n",
    "    r = model.rvs(size=(sample_size, iterations))\n",
    "    variances: np.array = np.std(r, axis=0)\n",
    "    t_statistic = np.std(data[0]/(data[0] + data[1]))\n",
    "    plt.hist(variances)\n",
    "    plt.axvline(t_statistic, color=\"red\")\n",
    "    plt.show()"
   ]
  },
  {
   "cell_type": "code",
   "execution_count": 67,
   "metadata": {},
   "outputs": [
    {
     "data": {
      "image/png": "[encoded data removed]",
      "text/plain": [
       "<Figure size 432x288 with 1 Axes>"
      ]
     },
     "metadata": {
      "needs_background": "light"
     },
     "output_type": "display_data"
    }
   ],
   "source": [
    "test_std(58, 65, data_control)"
   ]
  },
  {
   "cell_type": "code",
   "execution_count": 68,
   "metadata": {},
   "outputs": [
    {
     "data": {
      "image/png": "[encoded data removed]",
      "text/plain": [
       "<Figure size 432x288 with 1 Axes>"
      ]
     },
     "metadata": {
      "needs_background": "light"
     },
     "output_type": "display_data"
    }
   ],
   "source": [
    "test_std(108, 35, data_treatment)"
   ]
  },
  {
   "cell_type": "markdown",
   "metadata": {},
   "source": [
    "### Hierachichal model"
   ]
  },
  {
   "cell_type": "code",
   "execution_count": 3,
   "metadata": {
    "collapsed": false,
    "jupyter": {
     "outputs_hidden": false
    }
   },
   "outputs": [],
   "source": [
    "import numpy as np\n",
    "import scipy.stats as sts\n",
    "from scipy import special\n",
    "from scipy.integrate import nquad\n",
    "\n",
    "\n",
    "# The integrand for the double integral over a (alpha) and b (beta).\n",
    "def integrand(a, b, data):\n",
    "    n = data.shape[1]  # Number of data\n",
    "    integrand = (\n",
    "        sts.gamma(a=2, scale=1/0.5).pdf(a) *\n",
    "        sts.gamma(a=2, scale=1/0.5).pdf(b) *\n",
    "        special.beta(a, b) ** -n *\n",
    "        np.product(special.beta(a + data[0,:], b + data[1,:])))\n",
    "    return integrand\n",
    "\n",
    "\n",
    "def hierarchical_marginal_likelihood(data):\n",
    "    # Compute the constant outside the double integral\n",
    "    constant = np.product((data[0,:] + data[1,:] + 1) * special.beta(data[0,:] + 1, data[1,:] + 1))\n",
    "\n",
    "    # Compute the double integral.\n",
    "    # NOTE: After much experimentation, the upper bounds of dblquad are set\n",
    "    # to 50 rather than inf since the integral just diverges if you try inf.\n",
    "    # It shouldn't, but it does.\n",
    "    integral, error = nquad(integrand, ranges=[(0, 50), (0, 50)], args=[data])\n",
    "\n",
    "    return {\n",
    "        'marginal_likelihood': integral / constant,  # Value of the integral\n",
    "        'error': error / constant}  # Numerical error in integral\n"
   ]
  },
  {
   "cell_type": "code",
   "execution_count": 4,
   "metadata": {},
   "outputs": [
    {
     "name": "stdout",
     "output_type": "stream",
     "text": [
      "Marginal likelihood treatment group {'marginal_likelihood': 1.4579106203822117e-07, 'error': 8.684205211169477e-08}\n",
      "Marginal likelihood control group {'marginal_likelihood': 2.4349786578049566e-08, 'error': 8.494153804343146e-09}\n"
     ]
    }
   ],
   "source": [
    "data_treatment = np.array([[20, 10, 13, 35, 22, 7], [3, 6, 3, 10, 9, 3]])\n",
    "data_control = np.array([[9, 11, 4, 21, 12, 0], [6, 7, 6, 18, 17, 10]])\n",
    "\n",
    "print('Marginal likelihood treatment group',hierarchical_marginal_likelihood(data_treatment))\n",
    "print('Marginal likelihood control group',hierarchical_marginal_likelihood(data_control))"
   ]
  },
  {
   "cell_type": "code",
   "execution_count": null,
   "metadata": {},
   "outputs": [],
   "source": []
  }
 ],
 "metadata": {
  "kernelspec": {
   "display_name": "Python 3",
   "language": "python",
   "name": "python3"
  },
  "language_info": {
   "codemirror_mode": {
    "name": "ipython",
    "version": 3
   },
   "file_extension": ".py",
   "mimetype": "text/x-python",
   "name": "python",
   "nbconvert_exporter": "python",
   "pygments_lexer": "ipython3",
   "version": "3.9.1"
  }
 },
 "nbformat": 4,
 "nbformat_minor": 4
}
