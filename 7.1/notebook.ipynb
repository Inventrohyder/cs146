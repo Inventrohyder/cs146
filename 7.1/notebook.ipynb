{
 "cells": [
  {
   "cell_type": "code",
   "execution_count": 6,
   "id": "expressed-surname",
   "metadata": {},
   "outputs": [],
   "source": [
    "from scipy import stats\n",
    "import numpy as np\n",
    "import matplotlib.pyplot as plt"
   ]
  },
  {
   "cell_type": "code",
   "execution_count": 20,
   "id": "boolean-vietnamese",
   "metadata": {},
   "outputs": [
    {
     "name": "stdout",
     "output_type": "stream",
     "text": [
      "-2   2\n"
     ]
    },
    {
     "data": {
      "image/png": "[encoded data removed]",
      "text/plain": [
       "<Figure size 432x288 with 1 Axes>"
      ]
     },
     "metadata": {
      "needs_background": "light"
     },
     "output_type": "display_data"
    }
   ],
   "source": [
    "p = 0.1  # Percentage outcome\n",
    "n = 1000 # Sample size\n",
    "\n",
    "\n",
    "#Define parameters of normal distribution from binomial \n",
    "\n",
    "\n",
    "stdev = np.sqrt(n*p*(1-p)) # Standard Deviation\n",
    "mu = n*p #Mean\n",
    "\n",
    "\n",
    "#Create distribution and sample it\n",
    "distribution = np.random.normal(mu, stdev, 1000000)\n",
    "\n",
    "plt.hist(distribution)\n",
    "\n",
    "\n",
    "#Compute 95% comfidence intervals and bounds for margin of error\n",
    "\n",
    "\n",
    "lower = (np.percentile(distribution, 2.5)-mu)/n*100\n",
    "upper = (np.percentile(distribution, 97.5)-mu)/n*100\n",
    "\n",
    "print(round(lower),\" \", round(upper))"
   ]
  }
 ],
 "metadata": {
  "kernelspec": {
   "display_name": "Python 3",
   "language": "python",
   "name": "python3"
  },
  "language_info": {
   "codemirror_mode": {
    "name": "ipython",
    "version": 3
   },
   "file_extension": ".py",
   "mimetype": "text/x-python",
   "name": "python",
   "nbconvert_exporter": "python",
   "pygments_lexer": "ipython3",
   "version": "3.7.9"
  }
 },
 "nbformat": 4,
 "nbformat_minor": 5
}
